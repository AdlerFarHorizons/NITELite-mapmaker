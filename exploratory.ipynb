{
 "cells": [
  {
   "cell_type": "code",
   "execution_count": null,
   "id": "0a8b63ab-dd00-4402-af92-4ce39542e89f",
   "metadata": {
    "tags": []
   },
   "outputs": [],
   "source": [
    "import glob\n",
    "import importlib\n",
    "import os"
   ]
  },
  {
   "cell_type": "code",
   "execution_count": null,
   "id": "ad46d114-b4ee-42bb-915f-26f2d070506b",
   "metadata": {
    "tags": []
   },
   "outputs": [],
   "source": [
    "import cv2\n",
    "import numpy as np\n",
    "import pandas as pd\n",
    "import scipy"
   ]
  },
  {
   "cell_type": "code",
   "execution_count": null,
   "id": "657134cb-e89a-4442-9d28-27f1cd4b209f",
   "metadata": {
    "tags": []
   },
   "outputs": [],
   "source": [
    "import matplotlib\n",
    "import matplotlib.pyplot as plt\n",
    "import seaborn as sns"
   ]
  },
  {
   "cell_type": "code",
   "execution_count": null,
   "id": "86451d5b-04ac-42ec-97b5-d7bccfc71ba8",
   "metadata": {
    "tags": []
   },
   "outputs": [],
   "source": [
    "import nitelite_mapmaker"
   ]
  },
  {
   "cell_type": "code",
   "execution_count": null,
   "id": "13128e3e-f005-4ee7-9258-edec733ec09e",
   "metadata": {
    "tags": []
   },
   "outputs": [],
   "source": [
    "importlib.reload(nitelite_mapmaker)"
   ]
  },
  {
   "cell_type": "markdown",
   "id": "bbe43446-41de-432c-9127-b0f7873fe562",
   "metadata": {},
   "source": [
    "# Settings"
   ]
  },
  {
   "cell_type": "code",
   "execution_count": null,
   "id": "6dbd70d5-a9ec-439b-92bc-6afecaefcbc0",
   "metadata": {
    "tags": []
   },
   "outputs": [],
   "source": [
    "flight_name = '220513-FH135'\n",
    "data_dir = '/Users/Shared/data'\n",
    "google_drive_dir = '/Users/zhafensaavedra/Google Drive'"
   ]
  },
  {
   "cell_type": "code",
   "execution_count": null,
   "id": "2c5ec7ff-0485-4067-88b1-ccd6569855c2",
   "metadata": {
    "tags": []
   },
   "outputs": [],
   "source": [
    "image_dir = os.path.join(data_dir, 'nitelite/images', flight_name, '23085686' )\n",
    "metadata_dir = os.path.join(google_drive_dir, 'Shared drives/NITELite/Data & Analysis/Old NITELite Flights', flight_name, 'data')\n",
    "combined_externally_metadata_fp = os.path.join(metadata_dir, 'CollatedImageLog.csv')\n",
    "metadata_fp = os.path.join(metadata_dir, 'image.log')\n",
    "imu_data_fp = os.path.join(metadata_dir, 'OBC/PresIMULog.csv')\n",
    "gps_data_fp = os.path.join(metadata_dir, 'OBC/GPSLog.csv')"
   ]
  },
  {
   "cell_type": "code",
   "execution_count": null,
   "id": "bd099013-5b87-4fa4-be3c-581fc9db2811",
   "metadata": {
    "tags": []
   },
   "outputs": [],
   "source": [
    "percent_for_landed = 95.\n",
    "percent_for_cruising = 10.\n",
    "mult_of_std_for_steady = 2.\n",
    "column_for_steady = 'imuGyroX'\n",
    "rolling_window_in_min = 1.\n",
    "\n",
    "# offset between image and UTC based on timezone\n",
    "img_to_metadata_tz_offset_in_hr = 5"
   ]
  },
  {
   "cell_type": "code",
   "execution_count": null,
   "id": "1cfb1e6c-79b5-492f-8f4f-f8f088577cc5",
   "metadata": {
    "tags": []
   },
   "outputs": [],
   "source": [
    "# Ground altitude in meters\n",
    "ground_alt = 220."
   ]
  },
  {
   "cell_type": "code",
   "execution_count": null,
   "id": "4e048b8f-776c-410e-9864-3cba78a93a42",
   "metadata": {
    "tags": []
   },
   "outputs": [],
   "source": [
    "decent_test_seeds = [111, 1631489, ]\n",
    "rng = np.random.default_rng(decent_test_seeds[0])"
   ]
  },
  {
   "cell_type": "markdown",
   "id": "a521159b-8341-4f80-8ec3-6cfd68cae132",
   "metadata": {},
   "source": [
    "## Setup"
   ]
  },
  {
   "cell_type": "code",
   "execution_count": null,
   "id": "04a7fde8-9355-4361-b542-56d37ceef7b2",
   "metadata": {
    "tags": []
   },
   "outputs": [],
   "source": [
    "mm = nitelite_mapmaker.mapmaker.Mapmaker(image_dir=image_dir, metadata_fp=metadata_fp)"
   ]
  },
  {
   "cell_type": "markdown",
   "id": "84292500-28bc-4e2b-89e7-fd21b10600ef",
   "metadata": {},
   "source": [
    "# Metadata"
   ]
  },
  {
   "cell_type": "markdown",
   "id": "517ba216-66aa-48c3-a73b-d79f58191362",
   "metadata": {},
   "source": [
    "## Image Log"
   ]
  },
  {
   "cell_type": "code",
   "execution_count": null,
   "id": "5d8fcde9-9fcd-4681-bb5f-ff1b39f7705e",
   "metadata": {
    "tags": []
   },
   "outputs": [],
   "source": [
    "metadata = pd.read_csv(\n",
    "    metadata_fp,\n",
    "    names=['odroid_timestamp', 'obc_timestamp', 'camera_num', 'serial_num', 'exposure_time', 'sequence_ind', 'internal_temp', 'filename', ] + ['Unnamed: {}'.format(i+1) for i in range(12)]\n",
    ")"
   ]
  },
  {
   "cell_type": "code",
   "execution_count": null,
   "id": "c9fc90ba-8f1a-410c-96ce-43b374bf509c",
   "metadata": {
    "tags": []
   },
   "outputs": [],
   "source": [
    "# Parse the timestamp\n",
    "# We use a combination of the odroid timestamp and the obc timestamp because\n",
    "# the odroid timestamp is missing the year but the obc_timestamp has the wrong month.\n",
    "timestamp_split = metadata['obc_timestamp'].str.split('_')\n",
    "metadata['obc_timestamp'] = pd.to_datetime(timestamp_split.apply(lambda x: '_'.join(x[:2])), format=' %Y%m%d_%H%M%S' )\n",
    "metadata['timestamp'] = pd.to_datetime(metadata['obc_timestamp'].dt.year.astype(str) + ' ' + metadata['odroid_timestamp'])\n",
    "metadata['timestamp_id'] = timestamp_split.apply(lambda x: x[-1]).astype(int)"
   ]
  },
  {
   "cell_type": "code",
   "execution_count": null,
   "id": "9813d1a9-92e9-45a7-8284-b7546f592d83",
   "metadata": {
    "tags": []
   },
   "outputs": [],
   "source": [
    "# Drop unnamed columns\n",
    "metadata = metadata.drop([ column for column in metadata.columns if 'Unnamed' in column ], axis='columns')"
   ]
  },
  {
   "cell_type": "markdown",
   "id": "f81b6c51-eef2-4f67-8da6-312bfe39a150",
   "metadata": {
    "tags": []
   },
   "source": [
    "## IMU Data"
   ]
  },
  {
   "cell_type": "markdown",
   "id": "69341dec-7a5a-400d-9dce-f4d4d107ef0d",
   "metadata": {},
   "source": [
    "### Clean data"
   ]
  },
  {
   "cell_type": "code",
   "execution_count": null,
   "id": "9740cd89-be51-416d-a8a5-202708c226b5",
   "metadata": {
    "tags": []
   },
   "outputs": [],
   "source": [
    "imu_data = pd.read_csv(imu_data_fp, low_memory=False)"
   ]
  },
  {
   "cell_type": "code",
   "execution_count": null,
   "id": "d90ad95e-d4bb-4461-83b2-45a32aeece11",
   "metadata": {
    "tags": []
   },
   "outputs": [],
   "source": [
    "# Remove the extra header rows, and the nan rows\n",
    "imu_data.dropna(subset=['CurrTimestamp',], inplace=True)\n",
    "imu_data.drop(imu_data.index[imu_data['CurrTimestamp'] == 'CurrTimestamp'], inplace=True)"
   ]
  },
  {
   "cell_type": "code",
   "execution_count": null,
   "id": "45d4fb90-75ef-4d60-bc00-9bde934c8a03",
   "metadata": {
    "tags": []
   },
   "outputs": [],
   "source": [
    "# Handle some situations where the pressure is negative\n",
    "ac_columns = ['TempC', 'pressure', 'mAltitude']\n",
    "imu_data.loc[imu_data['pressure'].astype(float) < 0,] = np.nan"
   ]
  },
  {
   "cell_type": "code",
   "execution_count": null,
   "id": "cf568339-8a67-4fd2-b91f-f1fc70350a51",
   "metadata": {
    "tags": []
   },
   "outputs": [],
   "source": [
    "# Convert to datetime, toss out IMU recordings not associated with the 5-13 flight.\n",
    "imu_data['CurrTimestamp'] = pd.to_datetime(imu_data['CurrTimestamp'])\n",
    "imu_data.drop(imu_data.index[imu_data['CurrTimestamp'] < pd.to_datetime('2022-5-13 20')], inplace=True)"
   ]
  },
  {
   "cell_type": "code",
   "execution_count": null,
   "id": "f7e90d03-e540-4bc8-938a-39365c51494e",
   "metadata": {
    "tags": []
   },
   "outputs": [],
   "source": [
    "# Sort by datetime\n",
    "imu_data.sort_values('CurrTimestamp',inplace=True)"
   ]
  },
  {
   "cell_type": "code",
   "execution_count": null,
   "id": "70380512-3bf4-40c5-be24-6abae865fcad",
   "metadata": {
    "tags": []
   },
   "outputs": [],
   "source": [
    "# Assign dtypes\n",
    "skipped_cols = []\n",
    "for column in imu_data.columns:\n",
    "    if column == 'CurrTimestamp':\n",
    "        continue\n",
    "        \n",
    "    imu_data[column] = imu_data[column].astype(float)"
   ]
  },
  {
   "cell_type": "code",
   "execution_count": null,
   "id": "edb02a45-f1fe-43bc-bc1f-7e0fd9439feb",
   "metadata": {
    "tags": []
   },
   "outputs": [],
   "source": [
    "# Now also handle when the altitude is weird or the temperature is weird\n",
    "imu_data.loc[imu_data['TempC'] < -273,ac_columns] = np.nan\n",
    "imu_data.loc[imu_data['mAltitude'] < 0.,ac_columns] = np.nan\n",
    "imu_data.loc[imu_data['mAltitude'] > 20000.,ac_columns] = np.nan"
   ]
  },
  {
   "cell_type": "markdown",
   "id": "9f53bb33-030f-4478-a1ab-c31168a4f644",
   "metadata": {},
   "source": [
    "### Parse into flight phases\n",
    "\n",
    "We can use the pressure to divide the flight up into approximate phases."
   ]
  },
  {
   "cell_type": "code",
   "execution_count": null,
   "id": "f19d1153-34eb-41ce-9988-af5e14358904",
   "metadata": {
    "tags": []
   },
   "outputs": [],
   "source": [
    "# We'll divide up into phases based on pressure relative to max or min pressure.\n",
    "p_max = imu_data['pressure'].max()\n",
    "p_min = imu_data['pressure'].min()\n",
    "p_diff = p_max - p_min\n",
    "p_landed = p_min + percent_for_landed / 100. * p_diff\n",
    "p_cruising = p_min + percent_for_cruising / 100. * p_diff"
   ]
  },
  {
   "cell_type": "code",
   "execution_count": null,
   "id": "158950c7-9663-4a0e-b536-57fd31e21f0b",
   "metadata": {
    "tags": []
   },
   "outputs": [],
   "source": [
    "# Identify the transition phases\n",
    "phases = ['pre-flight', 'ascent', 'cruise', 'descent', 'post-flight'] # For reference\n",
    "phase_values = []\n",
    "transition_indices = []\n",
    "j = 0\n",
    "for i, p in enumerate(imu_data['pressure']):\n",
    "    \n",
    "    # Pre-flight to ascent\n",
    "    if j == 0:\n",
    "        if p < p_landed:\n",
    "            transition_indices.append(imu_data.index[i])\n",
    "            j += 1\n",
    "    elif j == 1:\n",
    "        if p < p_cruising:\n",
    "            transition_indices.append(imu_data.index[i])\n",
    "            j += 1\n",
    "    elif j == 2:\n",
    "        if p > p_cruising:\n",
    "            transition_indices.append(imu_data.index[i])\n",
    "            j += 1\n",
    "    elif j == 3:\n",
    "        if p > p_landed:\n",
    "            transition_indices.append(imu_data.index[i])\n",
    "            j += 1\n",
    "    else:\n",
    "        pass\n",
    "\n",
    "    phase_values.append(j)\n",
    "imu_data['flight_phase_num'] = phase_values\n",
    "imu_data['flight_phase'] = np.array(phases)[imu_data['flight_phase_num']]"
   ]
  },
  {
   "cell_type": "code",
   "execution_count": null,
   "id": "77bd9826-3b46-4a5d-b9fe-d2ee6fcd607f",
   "metadata": {
    "tags": []
   },
   "outputs": [],
   "source": [
    "# View versus time\n",
    "g = sns.PairGrid(imu_data, x_vars=['CurrTimestamp'], aspect=3, hue='flight_phase')\n",
    "g.map_offdiag(sns.histplot)\n",
    "\n",
    "for ax_row in g.axes:\n",
    "    ax = ax_row[0]\n",
    "    \n",
    "    if ax.get_ylabel() == 'pressure':\n",
    "        ax.axhline(\n",
    "            p_landed,\n",
    "            color = 'k',\n",
    "            linestyle = '--',\n",
    "        )\n",
    "        ax.axhline(\n",
    "            p_cruising,\n",
    "            color = 'k',\n",
    "            linestyle = '--',\n",
    "        )\n",
    "    \n",
    "    for ind in transition_indices:\n",
    "        ax.axvline(\n",
    "            imu_data.loc[ind,'CurrTimestamp'],\n",
    "            color = 'k',\n",
    "            linestyle = '--',\n",
    "        )\n",
    "        \n",
    "min_times = imu_data.groupby('flight_phase')['CurrTimestamp'].min()\n",
    "for phase in min_times.index:\n",
    "    ax.annotate(\n",
    "        text = phase,\n",
    "        xy = (min_times.loc[phase], 1),\n",
    "        xycoords = matplotlib.transforms.blended_transform_factory(ax.transData, ax.transAxes),\n",
    "        # xytext = (5,5),\n",
    "        # textcoords = 'offset points',\n",
    "    )"
   ]
  },
  {
   "cell_type": "markdown",
   "id": "6e83a110-937f-4e85-98dd-1f6cc50f18f3",
   "metadata": {},
   "source": [
    "### Select the steady cruise regime\n",
    "\n",
    "In addition to parsing the flight into phases, we can identify the part of the flight where the cruise is steady."
   ]
  },
  {
   "cell_type": "code",
   "execution_count": null,
   "id": "9b1d79e2-bb0d-4ca5-807e-b2ae63a0d837",
   "metadata": {
    "tags": []
   },
   "outputs": [],
   "source": [
    "# Select cruise data\n",
    "cruise_data = imu_data.loc[imu_data['flight_phase'] == 'cruise']\n",
    "cruise_data = cruise_data.set_index('CurrTimestamp')"
   ]
  },
  {
   "cell_type": "code",
   "execution_count": null,
   "id": "5bd26732-5fc4-48f2-a807-b1e016825755",
   "metadata": {
    "tags": []
   },
   "outputs": [],
   "source": [
    "# Get rolling deviation\n",
    "cruise_rolling = cruise_data.rolling(window=pd.Timedelta(rolling_window_in_min, 'min'))\n",
    "cruise_rolling_std = cruise_rolling.std(numeric_only=True)"
   ]
  },
  {
   "cell_type": "code",
   "execution_count": null,
   "id": "a72ef69c-0420-4b7a-a28b-cecee9eb24fb",
   "metadata": {
    "tags": []
   },
   "outputs": [],
   "source": [
    "# Identify and store steady data\n",
    "cruise_data.loc[:,'is_steady'] = cruise_rolling_std[column_for_steady] < mult_of_std_for_steady * np.nanmedian(cruise_rolling_std[column_for_steady])\n",
    "cruise_rolling_std.loc[:,'is_steady'] = cruise_data['is_steady']\n",
    "imu_data['is_steady'] = False\n",
    "imu_data.loc[imu_data['flight_phase'] == 'cruise','is_steady'] = cruise_data['is_steady'].values"
   ]
  },
  {
   "cell_type": "code",
   "execution_count": null,
   "id": "6ff52f6f-02c2-4ab4-a2d9-1e158cd21953",
   "metadata": {
    "tags": []
   },
   "outputs": [],
   "source": [
    "# View versus time\n",
    "g = sns.PairGrid(cruise_rolling_std.reset_index(), x_vars=['CurrTimestamp'], hue='is_steady', aspect=3)\n",
    "g.map_offdiag(sns.histplot)\n",
    "\n",
    "for ax_row in g.axes:\n",
    "    ax = ax_row[0]\n",
    "    y_key = ax.get_ylabel()\n",
    "    med_std = np.nanmedian(cruise_rolling_std[y_key])\n",
    "    ax.axhline(\n",
    "        mult_of_std_for_steady * med_std,\n",
    "        color = 'k',\n",
    "        linestyle = '--',\n",
    "    )"
   ]
  },
  {
   "cell_type": "markdown",
   "id": "9517032c-436b-443f-82ad-19a6b55fc6e3",
   "metadata": {},
   "source": [
    "### Steady flight visual inspection\n",
    "\n",
    "This is the cleanest data we could hope for, so let's take a look at it."
   ]
  },
  {
   "cell_type": "code",
   "execution_count": null,
   "id": "3cf01ee7-fdf8-4c4f-8b27-114221e957a9",
   "metadata": {
    "tags": []
   },
   "outputs": [],
   "source": [
    "steady_data = imu_data.loc[imu_data['is_steady']]"
   ]
  },
  {
   "cell_type": "code",
   "execution_count": null,
   "id": "1a42ec97-3c37-49ce-b855-fda6e7b2e41a",
   "metadata": {
    "tags": []
   },
   "outputs": [],
   "source": [
    "instruments = {\n",
    "    'Accel': [ 'imuAccelX', 'imuAccelY', 'imuAccelZ', ],\n",
    "    'Gyro': [ 'imuGyroX', 'imuGyroY', 'imuGyroZ', ],\n",
    "    'Mag': [ 'imuMagX', 'imuMagY', 'imuMagZ', ],\n",
    "    'RollPitchYaw': [ 'imuRoll', 'imuPitch', 'imuYaw', ],\n",
    "}"
   ]
  },
  {
   "cell_type": "code",
   "execution_count": null,
   "id": "41b11dda-c3c4-4112-bd7d-a81ccddf44a4",
   "metadata": {
    "tags": []
   },
   "outputs": [],
   "source": [
    "mosaic = [ [ _, ] for _ in instruments.keys() ]\n",
    "\n",
    "fig = plt.figure(figsize=(20,10))\n",
    "ax_dict = fig.subplot_mosaic(mosaic)\n",
    "\n",
    "for inst_name, inst_keys in instruments.items():\n",
    "    \n",
    "    ax = ax_dict[inst_name]\n",
    "    \n",
    "    for inst_key in inst_keys:\n",
    "        sns.scatterplot(\n",
    "            steady_data,\n",
    "            x = 'CurrTimestamp',\n",
    "            y = inst_key,\n",
    "            ax = ax,\n",
    "            edgecolor=None,\n",
    "            s = 10,\n",
    "            label = inst_key,\n",
    "        )\n",
    "        \n",
    "    ax.legend()\n",
    "    ax.set_ylabel(inst_name)"
   ]
  },
  {
   "cell_type": "markdown",
   "id": "e43fe9e2-69a5-4577-825b-f564bc0cada7",
   "metadata": {},
   "source": [
    "## GPS Data"
   ]
  },
  {
   "cell_type": "markdown",
   "id": "125876d2-28b3-4d24-a29e-dc03c2ad968b",
   "metadata": {},
   "source": [
    "### Clean data"
   ]
  },
  {
   "cell_type": "code",
   "execution_count": null,
   "id": "b0a1064b-4f7c-4e05-bac0-a22bfcf5bd3b",
   "metadata": {
    "tags": []
   },
   "outputs": [],
   "source": [
    "gps_data = pd.read_csv(gps_data_fp)"
   ]
  },
  {
   "cell_type": "code",
   "execution_count": null,
   "id": "faee361b-443d-4d42-a1be-42b4aeb1243a",
   "metadata": {
    "tags": []
   },
   "outputs": [],
   "source": [
    "# Remove the extra header rows and the empty rows\n",
    "gps_data.dropna(subset=['CurrTimestamp', ], inplace=True)\n",
    "gps_data.drop(gps_data.index[gps_data['CurrTimestamp'] == 'CurrTimestamp'], inplace=True)"
   ]
  },
  {
   "cell_type": "code",
   "execution_count": null,
   "id": "0df2b066-1f37-4a9b-ab9d-03c4bbd5d92d",
   "metadata": {
    "tags": []
   },
   "outputs": [],
   "source": [
    "# Remove the empty rows\n",
    "gps_data.drop(gps_data.index[gps_data['CurrTimestamp'] == '00.00.0000 00:00:00000'], inplace=True)"
   ]
  },
  {
   "cell_type": "code",
   "execution_count": null,
   "id": "a08098d5-a16a-40da-a9ea-0f60352eeb1c",
   "metadata": {
    "tags": []
   },
   "outputs": [],
   "source": [
    "# Convert to datetime, toss out recordings not associated with the flight itself.\n",
    "gps_data['CurrTimestamp'] = pd.to_datetime(gps_data['CurrTimestamp'])\n",
    "gps_data.drop(gps_data.index[gps_data['CurrTimestamp'] < pd.to_datetime('2022-5-13 20')], inplace=True)"
   ]
  },
  {
   "cell_type": "code",
   "execution_count": null,
   "id": "775407ac-ce6c-45a8-a0bb-6fa9638f288c",
   "metadata": {
    "tags": []
   },
   "outputs": [],
   "source": [
    "# Assign dtypes\n",
    "for column in gps_data.columns:\n",
    "    if column in ['CurrTimestamp', 'GPSTime']:\n",
    "        continue\n",
    "        \n",
    "    gps_data[column] = gps_data[column].astype(float)"
   ]
  },
  {
   "cell_type": "markdown",
   "id": "50188a55-1e1b-4675-aaf7-7e0a93682d21",
   "metadata": {},
   "source": [
    "### Compare to IMU Data"
   ]
  },
  {
   "cell_type": "code",
   "execution_count": null,
   "id": "7827b714-1348-4083-96b4-a4356314d715",
   "metadata": {
    "tags": []
   },
   "outputs": [],
   "source": [
    "# Look at acceleration data to identify launch point\n",
    "accel_data = imu_data[['CurrTimestamp', 'imuAccelX', 'imuAccelY', 'imuAccelZ']]\n",
    "accel_data.set_index('CurrTimestamp', inplace=True)\n",
    "accel_data = accel_data.dropna()"
   ]
  },
  {
   "cell_type": "code",
   "execution_count": null,
   "id": "6cd20994-533e-4a15-824e-ddff5fa910f5",
   "metadata": {
    "tags": []
   },
   "outputs": [],
   "source": [
    "# Assume the maximum rolling acceleration during the pre-flight marks the launch\n",
    "accel_rolling_mean = accel_data.rolling(window=pd.Timedelta(rolling_window_in_min*0.5, 'min')).mean()\n",
    "rolling_mean_mag = np.linalg.norm(accel_rolling_mean, axis=1)\n",
    "end_of_preflight = imu_data.loc[imu_data['flight_phase']=='pre-flight', 'CurrTimestamp'].max()\n",
    "launch_time = accel_data.index[np.argmax(rolling_mean_mag[accel_data.index<end_of_preflight])]"
   ]
  },
  {
   "cell_type": "code",
   "execution_count": null,
   "id": "d75d75eb-823e-481d-a7a3-7f8dc9a8ab12",
   "metadata": {
    "tags": []
   },
   "outputs": [],
   "source": [
    "fig = plt.figure(figsize=(20,10))\n",
    "ax_dict = fig.subplot_mosaic([['overall', 'zoomed', ]])\n",
    "\n",
    "xlims = {\n",
    "    'overall': None,\n",
    "    'zoomed': (launch_time - pd.Timedelta(1, 'min'), launch_time + pd.Timedelta(1, 'min')),\n",
    "}\n",
    "for ax_key in ['overall', 'zoomed']:\n",
    "    \n",
    "    ax = ax_dict[ax_key]\n",
    "    \n",
    "    if xlims[ax_key] is not None:\n",
    "        gps_selected = gps_data.loc[(\n",
    "            (gps_data['CurrTimestamp'] > xlims[ax_key][0]) &\n",
    "            (gps_data['CurrTimestamp'] < xlims[ax_key][1])\n",
    "        )]\n",
    "        imu_selected = imu_data.loc[(\n",
    "            (imu_data['CurrTimestamp'] > xlims[ax_key][0]) &\n",
    "            (imu_data['CurrTimestamp'] < xlims[ax_key][1])\n",
    "        )]\n",
    "    else:\n",
    "        gps_selected = gps_data\n",
    "        imu_selected = imu_data\n",
    "    \n",
    "    sns.scatterplot(\n",
    "        gps_selected,\n",
    "        x = 'CurrTimestamp',\n",
    "        y = 'GPSAlt',\n",
    "        edgecolor = None,\n",
    "        label = 'GPS',\n",
    "        ax = ax,\n",
    "        zorder = 100,\n",
    "    )\n",
    "    sns.scatterplot(\n",
    "        imu_selected,\n",
    "        x = 'CurrTimestamp',\n",
    "        y = 'mAltitude',\n",
    "        edgecolor = None,\n",
    "        label = 'IMU',\n",
    "        ax = ax,\n",
    "    )\n",
    "    \n",
    "    ax.axvline(\n",
    "        launch_time,\n",
    "        color = '0.5',\n",
    "        linewidth = 1,\n",
    "    )\n",
    "    \n",
    "    if ax_key == 'overall':\n",
    "        ax2 = ax.twinx()\n",
    "        ax2.plot(\n",
    "            accel_data.index,\n",
    "            rolling_mean_mag,\n",
    "            color = 'k',\n",
    "        )\n",
    "        ax2.set_ylabel('rolling acceleration')\n",
    "    ax.legend()\n",
    "    \n",
    "# ax.scatter(\n",
    "#     gps_data['CurrT\n",
    "# )"
   ]
  },
  {
   "cell_type": "markdown",
   "id": "25f1dc0c-15c3-4d1c-978b-26a810bb6a6f",
   "metadata": {},
   "source": [
    "The match-up between the GPS and IMU data is not bad. We'll try using them as-is. The magnitude of the acceleration matches with the launch time to within a minute, but is still off by ~30 seconds."
   ]
  },
  {
   "cell_type": "markdown",
   "id": "76a160b2-6be5-4ff1-bf8a-b6e00a684ff5",
   "metadata": {},
   "source": [
    "## Combine"
   ]
  },
  {
   "cell_type": "code",
   "execution_count": null,
   "id": "3dd2feee-0ffa-4cd7-9526-1fcd72d9268b",
   "metadata": {
    "tags": []
   },
   "outputs": [],
   "source": [
    "dfs_interped = [metadata,]\n",
    "# img_timestamps = metadata.index.get_level_values(1)\n",
    "source_names = ['imu', 'gps']\n",
    "for i, df_to_include in enumerate([imu_data, gps_data]):\n",
    "    \n",
    "    df_to_include = df_to_include.copy()\n",
    "\n",
    "    # Polish up for interpolation\n",
    "    if i == 0:\n",
    "        del df_to_include['flight_phase']\n",
    "        df_to_include['is_steady'] = df_to_include['is_steady'].astype(int)\n",
    "    elif i == 1:\n",
    "        del df_to_include['GPSTime']\n",
    "\n",
    "    # Get the timestamps in the right time zone\n",
    "    df_to_include['timestamp_img_tz'] = df_to_include['CurrTimestamp'] - pd.Timedelta(img_to_metadata_tz_offset_in_hr, 'hr')\n",
    "    df_to_include = df_to_include.dropna(subset=['timestamp_img_tz']).set_index('timestamp_img_tz').sort_index()\n",
    "    df_to_include['timestamp_int_{}'.format(source_names[i])] = df_to_include['CurrTimestamp'].astype(int)\n",
    "    del df_to_include['CurrTimestamp']\n",
    "\n",
    "    # Interpolate\n",
    "    interp_fn = scipy.interpolate.interp1d(df_to_include.index.astype(int), df_to_include.values.transpose())\n",
    "    interped = interp_fn(metadata['timestamp'].astype(int))\n",
    "    df_interped = pd.DataFrame(interped.transpose(), columns=df_to_include.columns)\n",
    "    \n",
    "    dfs_interped.append(df_interped)"
   ]
  },
  {
   "cell_type": "code",
   "execution_count": null,
   "id": "caf08a20-a05f-45ae-bd38-a4fa3493e27e",
   "metadata": {
    "tags": []
   },
   "outputs": [],
   "source": [
    "metadata = pd.concat(dfs_interped, axis='columns', )"
   ]
  },
  {
   "cell_type": "code",
   "execution_count": null,
   "id": "b3a860fc-2f7d-462c-89df-f20669259a01",
   "metadata": {
    "tags": []
   },
   "outputs": [],
   "source": [
    "# Set up a useful index\n",
    "metadata['id'] = metadata.index\n",
    "metadata = metadata.set_index(['camera_num', 'timestamp', 'id']).sort_index()"
   ]
  },
  {
   "cell_type": "code",
   "execution_count": null,
   "id": "f0ec5747-5a5e-4216-ac2a-79b4524b5a74",
   "metadata": {},
   "outputs": [],
   "source": [
    "metadata"
   ]
  },
  {
   "cell_type": "markdown",
   "id": "8aeafae0-70e3-457a-bb3b-b41d1cd40bf6",
   "metadata": {},
   "source": [
    "# Image Calibration"
   ]
  },
  {
   "cell_type": "markdown",
   "id": "77bfeffd-b9f4-42ec-bf90-722754392f3b",
   "metadata": {},
   "source": [
    "## Inspect a Random Image"
   ]
  },
  {
   "cell_type": "code",
   "execution_count": null,
   "id": "d08b897d-3c81-476b-bbb4-08f519f19fb5",
   "metadata": {
    "tags": []
   },
   "outputs": [],
   "source": [
    "fp = rng.choice(mm.flight.image_fps)"
   ]
  },
  {
   "cell_type": "code",
   "execution_count": null,
   "id": "ff24452e-f70b-45cf-8326-3ebbc1875928",
   "metadata": {
    "tags": []
   },
   "outputs": [],
   "source": [
    "img = mm.flight.get_rgb_img(fp)"
   ]
  },
  {
   "cell_type": "code",
   "execution_count": null,
   "id": "b31ddd29-c76d-4b00-b6b5-fac4a0e0b739",
   "metadata": {
    "tags": []
   },
   "outputs": [],
   "source": [
    "mm.data_viewer.plot_img(img)"
   ]
  },
  {
   "cell_type": "code",
   "execution_count": null,
   "id": "7dcbb5c5-0cdd-497e-a5e5-73e6bd727eee",
   "metadata": {
    "tags": []
   },
   "outputs": [],
   "source": [
    "bins = np.arange(-0.5, mm.flight.max_val-0.5, 1)\n",
    "plt_types = ['big_picture', 'zoomed', 'zoomed_upper']\n",
    "\n",
    "# Look at brightness distribution\n",
    "fig = plt.figure(figsize=(8*len(plt_types),6))\n",
    "\n",
    "xlims = [ (bins[0], bins[-1]), (0, 50), (bins[-1]-100, bins[-1]) ]\n",
    "ax_dict = fig.subplot_mosaic([plt_types,])\n",
    "\n",
    "colors = ['red', 'green', 'blue']\n",
    "for j, plt_type in enumerate(plt_types):\n",
    "    \n",
    "    ax = ax_dict[plt_types[j]]\n",
    "    for i, color in enumerate(colors):\n",
    "        \n",
    "        arr = img[:,:,i] * mm.flight.max_val\n",
    "\n",
    "        ax.hist(\n",
    "            arr.flatten(),\n",
    "            bins = bins,\n",
    "            color = color,\n",
    "            histtype = 'step',\n",
    "        )\n",
    "        ax.set_xlim(xlims[j])\n",
    "\n",
    "    ax.set_yscale('log')\n",
    "    \n",
    "    ax.set_xlabel( 'Integer Value', )\n",
    "    ax.set_ylabel( 'Frequency', )"
   ]
  },
  {
   "cell_type": "markdown",
   "id": "99c69909-1a2e-41ce-a31c-b6f7692f0325",
   "metadata": {},
   "source": [
    "## Inspect a Calibration Image"
   ]
  },
  {
   "cell_type": "code",
   "execution_count": null,
   "id": "cecc7b53-0e9b-44d5-99bc-14a08312c7cd",
   "metadata": {
    "tags": []
   },
   "outputs": [],
   "source": [
    "image_dir = os.path.join( google_drive_dir, 'Shared drives/NITELite/Data & Analysis/Calibration Tests/3.19.22 Complete Calib Set/23085686_1sec_flatFrames' )"
   ]
  },
  {
   "cell_type": "code",
   "execution_count": null,
   "id": "828798cd-dce7-41ea-88f1-f4d2d5968f04",
   "metadata": {
    "tags": []
   },
   "outputs": [],
   "source": [
    "fp = rng.choice(glob.glob(os.path.join(image_dir, '*.raw')))"
   ]
  },
  {
   "cell_type": "code",
   "execution_count": null,
   "id": "7c4377c0-5776-40bd-b70f-badf089f403c",
   "metadata": {
    "tags": []
   },
   "outputs": [],
   "source": [
    "img = mm.flight.get_rgb_img(fp)"
   ]
  },
  {
   "cell_type": "code",
   "execution_count": null,
   "id": "fd0b7805-6b05-4ee6-b8a4-383bfcf9417c",
   "metadata": {
    "tags": []
   },
   "outputs": [],
   "source": [
    "mm.data_viewer.plot_img(img)"
   ]
  },
  {
   "cell_type": "code",
   "execution_count": null,
   "id": "08ba149b-54e5-44f5-8486-185b589ead76",
   "metadata": {},
   "outputs": [],
   "source": [
    "bins = np.arange(-0.5, mm.flight.max_val-0.5, 1)\n",
    "plt_types = ['big_picture', 'zoomed', 'zoomed_upper']\n",
    "\n",
    "# Look at brightness distribution\n",
    "fig = plt.figure(figsize=(8*len(plt_types),6))\n",
    "\n",
    "xlims = [(bins[0], bins[-1]), (2250, 2500), (3000, 3100)]\n",
    "ax_dict = fig.subplot_mosaic([plt_types,])\n",
    "\n",
    "colors = ['red', 'green', 'blue']\n",
    "for j, plt_type in enumerate(plt_types):\n",
    "    \n",
    "    ax = ax_dict[plt_types[j]]\n",
    "    for i, color in enumerate(colors):\n",
    "        \n",
    "        arr = img[:,:,i] * mm.flight.max_val\n",
    "\n",
    "        ax.hist(\n",
    "            arr.flatten(),\n",
    "            bins = bins,\n",
    "            color = color,\n",
    "            histtype = 'step',\n",
    "        )\n",
    "        ax.set_xlim(xlims[j])\n",
    "\n",
    "    # ax.set_yscale('log')\n",
    "    \n",
    "    ax.set_xlabel( 'Integer Value', )\n",
    "    ax.set_ylabel( 'Frequency', )"
   ]
  },
  {
   "cell_type": "markdown",
   "id": "158cac24-e42d-4971-84e0-43205517bc3e",
   "metadata": {},
   "source": [
    "# Georeferencing"
   ]
  },
  {
   "cell_type": "code",
   "execution_count": null,
   "id": "103d929a-211e-4623-af3e-515a3079e0eb",
   "metadata": {
    "tags": []
   },
   "outputs": [],
   "source": [
    "# Get the rotation object\n",
    "rot = scipy.spatial.transform.Rotation.from_euler(\n",
    "    'XZY',\n",
    "    metadata[['imuPitch', 'imuYaw', 'imuRoll']],\n",
    "    degrees=True,\n",
    ")\n",
    "\n",
    "# And now the vector for the center of the nadir camera in wcs\n",
    "vhat_sensor_center = rot.apply([0, 0, -1])"
   ]
  },
  {
   "cell_type": "markdown",
   "id": "45a0ec7f-5cc7-4bed-8fdc-e6469763ee4e",
   "metadata": {
    "tags": []
   },
   "source": [
    "Given a sensor with position vector $\\vec p$ pointed in direction $\\hat v$ we want to find the position vector of the source image,\n",
    "\n",
    "\\begin{equation}\n",
    "\\vec s = \\vec p + \\vec v\n",
    "\\end{equation}\n",
    "\n",
    "The main unknown in this equation is the magnitude of $\\vec v$.\n",
    "Assuming the sensor is a height $h$ above a flat surface then $h\\, /\\, \\mid \\vec v \\mid = \\cos \\phi$, where $\\phi$ is the angle between a line connecting the ground and the sensor and $\\hat v$.\n",
    "If $\\theta$ is the standard spherical angle determining the z-component of $\\hat v$ then $\\phi = \\pi - \\theta$.\n",
    "Doing some algebra we get $\\mid \\vec v \\mid = - h\\,/\\, \\mid\\hat v_z \\mid$.\n",
    "Plugging in and simplifying, we get\n",
    "\n",
    "\\begin{equation}\n",
    "\\vec s = (p_x - h \\mid\\hat v_x \\mid / \\mid\\hat v_z \\mid) \\hat x + (p_y - h \\mid\\hat v_y \\mid / \\mid\\hat v_z \\mid) \\hat y\n",
    "\\end{equation}\n",
    "\n",
    "In practice we'll often set $\\vec p = \\langle 0, 0, h \\rangle$ and then deal with the conversion to a uniform reference frame during the conversion to geo-coordinates, simplifying this to \n",
    "\\begin{equation}\n",
    "\\vec s = \\langle - h \\mid\\hat v_x \\mid / \\mid\\hat v_z \\mid,\\,\\, - h \\mid\\hat v_y \\mid / \\mid\\hat v_z \\mid \\rangle\n",
    "\\end{equation}\n",
    "\n",
    "This is the general solution for any $\\hat v$, but the special case we care most about is the center of the image."
   ]
  },
  {
   "cell_type": "code",
   "execution_count": null,
   "id": "752261db-7120-4349-8370-424e0ad74383",
   "metadata": {
    "tags": []
   },
   "outputs": [],
   "source": [
    "# Distance to center\n",
    "h = metadata['mAltitude'] - ground_alt"
   ]
  },
  {
   "cell_type": "code",
   "execution_count": null,
   "id": "8712a17c-6d0d-4aa7-836b-c7bb6e487e9e",
   "metadata": {
    "tags": []
   },
   "outputs": [],
   "source": [
    "image_center_coords = - ( h.values / vhat_sensor_center[:,2] )[:,np.newaxis] * vhat_sensor_center[:,:2]"
   ]
  },
  {
   "cell_type": "markdown",
   "id": "e19e517e-283f-43bb-b8ff-63959d5b0914",
   "metadata": {
    "tags": []
   },
   "source": [
    "In addition to "
   ]
  },
  {
   "cell_type": "code",
   "execution_count": null,
   "id": "d302cfdf-e75d-42e7-bdc8-c7aa087a6fdd",
   "metadata": {
    "tags": []
   },
   "outputs": [],
   "source": [
    "d_sensor_to_source"
   ]
  },
  {
   "cell_type": "code",
   "execution_count": null,
   "id": "276140dd-082b-43ef-a928-52a8b1b2eca7",
   "metadata": {
    "tags": []
   },
   "outputs": [],
   "source": [
    "imu_data.loc[imu_data['flight_phase']=='post-flight', 'mAltitude']"
   ]
  },
  {
   "cell_type": "code",
   "execution_count": null,
   "id": "2739c7ab-bd68-4290-9530-8c659e9613d7",
   "metadata": {},
   "outputs": [],
   "source": []
  }
 ],
 "metadata": {
  "kernelspec": {
   "display_name": "Python 3 (ipykernel)",
   "language": "python",
   "name": "python3"
  },
  "language_info": {
   "codemirror_mode": {
    "name": "ipython",
    "version": 3
   },
   "file_extension": ".py",
   "mimetype": "text/x-python",
   "name": "python",
   "nbconvert_exporter": "python",
   "pygments_lexer": "ipython3",
   "version": "3.11.4"
  }
 },
 "nbformat": 4,
 "nbformat_minor": 5
}
