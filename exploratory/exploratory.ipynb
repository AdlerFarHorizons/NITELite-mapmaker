{
 "cells": [
  {
   "cell_type": "code",
   "execution_count": null,
   "id": "0a8b63ab-dd00-4402-af92-4ce39542e89f",
   "metadata": {
    "tags": []
   },
   "outputs": [],
   "source": [
    "import copy\n",
    "import glob\n",
    "import importlib\n",
    "from itertools import permutations\n",
    "import os\n",
    "import re"
   ]
  },
  {
   "cell_type": "code",
   "execution_count": null,
   "id": "ad46d114-b4ee-42bb-915f-26f2d070506b",
   "metadata": {
    "tags": []
   },
   "outputs": [],
   "source": [
    "import cv2\n",
    "import ee\n",
    "import folium\n",
    "import numpy as np\n",
    "from osgeo import gdal\n",
    "import pandas as pd\n",
    "import pyproj\n",
    "import scipy\n",
    "import tqdm"
   ]
  },
  {
   "cell_type": "code",
   "execution_count": null,
   "id": "5b072a57-4ed0-4e76-9c59-7df210471d94",
   "metadata": {
    "tags": []
   },
   "outputs": [],
   "source": [
    "import matplotlib\n",
    "import matplotlib.pyplot as plt\n",
    "from matplotlib.patches import ConnectionPatch\n",
    "import seaborn as sns\n",
    "sns.set_style('white')"
   ]
  },
  {
   "cell_type": "code",
   "execution_count": null,
   "id": "86451d5b-04ac-42ec-97b5-d7bccfc71ba8",
   "metadata": {
    "tags": []
   },
   "outputs": [],
   "source": [
    "from nitelite_mapmaker import mapmaker, georeference, observations"
   ]
  },
  {
   "cell_type": "markdown",
   "id": "bbe43446-41de-432c-9127-b0f7873fe562",
   "metadata": {},
   "source": [
    "# Settings"
   ]
  },
  {
   "cell_type": "code",
   "execution_count": null,
   "id": "6dbd70d5-a9ec-439b-92bc-6afecaefcbc0",
   "metadata": {
    "tags": []
   },
   "outputs": [],
   "source": [
    "flight_name = '220513-FH135'\n",
    "data_dir = '/Users/Shared/data'\n",
    "google_drive_dir = '/Users/zhafensaavedra/Google Drive'"
   ]
  },
  {
   "cell_type": "code",
   "execution_count": null,
   "id": "d43be282-076e-4799-9b1e-86ab9e8b320a",
   "metadata": {},
   "outputs": [],
   "source": [
    "# Directory containing manually-georeferenced data\n",
    "manually_reffed_dir = '/Users/zhafensaavedra/Google Drive/Shared drives/NITELite/Data & Analysis/QGIS FH135/FH135 Main Project/Main Geo Files'\n",
    "overwrite_manual_referencing = True\n",
    "# If set to \"None\", one is chosen randomly.\n",
    "manually_reffed_fn = 'Geo 959732303_0.tif'\n",
    "manually_reffed_fn = None"
   ]
  },
  {
   "cell_type": "code",
   "execution_count": null,
   "id": "b1801d78-4c08-44eb-b581-57cd0ce77b45",
   "metadata": {},
   "outputs": [],
   "source": [
    "camera_num = 1\n",
    "camera_long_num = camera_num + 23085686"
   ]
  },
  {
   "cell_type": "code",
   "execution_count": null,
   "id": "2c5ec7ff-0485-4067-88b1-ccd6569855c2",
   "metadata": {
    "tags": []
   },
   "outputs": [],
   "source": [
    "image_dir = os.path.join(data_dir, 'nitelite/images', flight_name, str(camera_long_num) )\n",
    "metadata_dir = os.path.join(google_drive_dir, 'Shared drives/NITELite/Data & Analysis/Old NITELite Flights', flight_name, 'data')\n",
    "img_log_fp = os.path.join(metadata_dir, 'image.log')\n",
    "imu_log_fp = os.path.join(metadata_dir, 'OBC/PresIMULog.csv')\n",
    "gps_log_fp = os.path.join(metadata_dir, 'OBC/GPSLog.csv')"
   ]
  },
  {
   "cell_type": "code",
   "execution_count": null,
   "id": "bd099013-5b87-4fa4-be3c-581fc9db2811",
   "metadata": {
    "tags": []
   },
   "outputs": [],
   "source": [
    "percent_for_landed = 95.\n",
    "percent_for_cruising = 10.\n",
    "mult_of_std_for_steady = 2.\n",
    "column_for_steady = 'imuGyroX'\n",
    "rolling_window_in_min = 1.\n",
    "\n",
    "# offset between image and UTC based on timezone\n",
    "img_to_metadata_tz_offset_in_hr = 5"
   ]
  },
  {
   "cell_type": "code",
   "execution_count": null,
   "id": "0130712d-f3d6-4c0a-a207-3b5dc90d55db",
   "metadata": {
    "tags": []
   },
   "outputs": [],
   "source": [
    "ground_alt = 220. # In m above sea level"
   ]
  },
  {
   "cell_type": "code",
   "execution_count": null,
   "id": "2b9db7f0-0c45-4ed5-8bb3-f9429d72f175",
   "metadata": {
    "tags": []
   },
   "outputs": [],
   "source": [
    "img_angular_width = 23.4 # In degrees\n",
    "img_angular_height = 14.8 # In degrees\n",
    "img_angular_error = 1.1\n",
    "img_radius_cap = 2."
   ]
  },
  {
   "cell_type": "code",
   "execution_count": null,
   "id": "0ed07dd7-27f1-4c55-a1c3-fa19b4848da7",
   "metadata": {
    "tags": []
   },
   "outputs": [],
   "source": [
    "mosaic_res = 1000. # In meters"
   ]
  },
  {
   "cell_type": "code",
   "execution_count": null,
   "id": "4e048b8f-776c-410e-9864-3cba78a93a42",
   "metadata": {
    "tags": []
   },
   "outputs": [],
   "source": [
    "decent_test_seeds = [1631489, 12342190, 111, ]\n",
    "rng = np.random.default_rng(decent_test_seeds[0])"
   ]
  },
  {
   "cell_type": "code",
   "execution_count": null,
   "id": "c38a3f12-39a3-40c5-9f5d-560b5c7f639c",
   "metadata": {
    "tags": []
   },
   "outputs": [],
   "source": [
    "palette = sns.color_palette('deep')"
   ]
  },
  {
   "cell_type": "markdown",
   "id": "a521159b-8341-4f80-8ec3-6cfd68cae132",
   "metadata": {},
   "source": [
    "## Setup"
   ]
  },
  {
   "cell_type": "code",
   "execution_count": null,
   "id": "04a7fde8-9355-4361-b542-56d37ceef7b2",
   "metadata": {
    "tags": []
   },
   "outputs": [],
   "source": [
    "mm = mapmaker.Mapmaker(\n",
    "    image_dir=image_dir,\n",
    "    img_log_fp=img_log_fp,\n",
    "    imu_log_fp=imu_log_fp,\n",
    "    gps_log_fp=gps_log_fp,\n",
    "    referenced_dir=manually_reffed_dir,\n",
    ")"
   ]
  },
  {
   "cell_type": "code",
   "execution_count": null,
   "id": "8d28480c-565a-4d9e-bbe0-96f28b5eb3b5",
   "metadata": {},
   "outputs": [],
   "source": [
    "mm.prep()"
   ]
  },
  {
   "cell_type": "code",
   "execution_count": null,
   "id": "f2613049-084b-45b8-b268-da465197a876",
   "metadata": {
    "tags": []
   },
   "outputs": [],
   "source": [
    "# Boot up earth engine\n",
    "ee.Initialize()"
   ]
  },
  {
   "cell_type": "markdown",
   "id": "18a4c4b4-1807-40cb-8fc8-66983afdb897",
   "metadata": {},
   "source": [
    "# Inspect Flight"
   ]
  },
  {
   "cell_type": "code",
   "execution_count": null,
   "id": "e6be7338-178b-40f8-b27d-a2fc1ab47c72",
   "metadata": {},
   "outputs": [],
   "source": [
    "flight = mm.flight"
   ]
  },
  {
   "cell_type": "markdown",
   "id": "9025ff5b-2b60-493e-9f16-88fa55e9be6f",
   "metadata": {},
   "source": [
    "## Parse into flight phases\n",
    "\n",
    "We can use the pressure to divide the flight up into approximate phases."
   ]
  },
  {
   "cell_type": "code",
   "execution_count": null,
   "id": "47d77d72-0fe7-420e-b309-a4d8e11c3ba0",
   "metadata": {},
   "outputs": [],
   "source": [
    "imu_log_df = flight.imu_log_df"
   ]
  },
  {
   "cell_type": "code",
   "execution_count": null,
   "id": "7e52cbd1-64af-45f7-97e8-257cf4ba04cc",
   "metadata": {
    "tags": []
   },
   "outputs": [],
   "source": [
    "# Convert to datetime, toss out IMU recordings not associated with the 5-13 flight.\n",
    "imu_log_df.drop(\n",
    "    imu_log_df.index[imu_log_df['CurrTimestamp'] < pd.to_datetime('2022-5-13 20')],\n",
    "    inplace=True,\n",
    ")"
   ]
  },
  {
   "cell_type": "code",
   "execution_count": null,
   "id": "f19d1153-34eb-41ce-9988-af5e14358904",
   "metadata": {
    "tags": []
   },
   "outputs": [],
   "source": [
    "# We'll divide up into phases based on pressure relative to max or min pressure.\n",
    "p_max = imu_log_df['pressure'].max()\n",
    "p_min = imu_log_df['pressure'].min()\n",
    "p_diff = p_max - p_min\n",
    "p_landed = p_min + percent_for_landed / 100. * p_diff\n",
    "p_cruising = p_min + percent_for_cruising / 100. * p_diff"
   ]
  },
  {
   "cell_type": "code",
   "execution_count": null,
   "id": "158950c7-9663-4a0e-b536-57fd31e21f0b",
   "metadata": {
    "tags": []
   },
   "outputs": [],
   "source": [
    "# Identify the transition phases\n",
    "phases = ['pre-flight', 'ascent', 'cruise', 'descent', 'post-flight'] # For reference\n",
    "phase_values = []\n",
    "transition_indices = []\n",
    "j = 0\n",
    "for i, p in enumerate(imu_log_df['pressure']):\n",
    "    \n",
    "    # Pre-flight to ascent\n",
    "    if j == 0:\n",
    "        if p < p_landed:\n",
    "            transition_indices.append(imu_log_df.index[i])\n",
    "            j += 1\n",
    "    elif j == 1:\n",
    "        if p < p_cruising:\n",
    "            transition_indices.append(imu_log_df.index[i])\n",
    "            j += 1\n",
    "    elif j == 2:\n",
    "        if p > p_cruising:\n",
    "            transition_indices.append(imu_log_df.index[i])\n",
    "            j += 1\n",
    "    elif j == 3:\n",
    "        if p > p_landed:\n",
    "            transition_indices.append(imu_log_df.index[i])\n",
    "            j += 1\n",
    "    else:\n",
    "        pass\n",
    "\n",
    "    phase_values.append(j)\n",
    "imu_log_df['flight_phase_num'] = phase_values\n",
    "imu_log_df['flight_phase'] = np.array(phases)[imu_log_df['flight_phase_num']]"
   ]
  },
  {
   "cell_type": "markdown",
   "id": "6e83a110-937f-4e85-98dd-1f6cc50f18f3",
   "metadata": {},
   "source": [
    "### Select the steady cruise regime\n",
    "\n",
    "In addition to parsing the flight into phases, we can identify the part of the flight where the cruise is steady."
   ]
  },
  {
   "cell_type": "code",
   "execution_count": null,
   "id": "77bd9826-3b46-4a5d-b9fe-d2ee6fcd607f",
   "metadata": {
    "tags": []
   },
   "outputs": [],
   "source": [
    "# View versus time\n",
    "g = sns.PairGrid(imu_log_df, x_vars=['CurrTimestamp'], aspect=3, hue='flight_phase')\n",
    "g.map_offdiag(sns.histplot)\n",
    "\n",
    "for ax_row in g.axes:\n",
    "    ax = ax_row[0]\n",
    "    \n",
    "    if ax.get_ylabel() == 'pressure':\n",
    "        ax.axhline(\n",
    "            p_landed,\n",
    "            color = 'k',\n",
    "            linestyle = '--',\n",
    "        )\n",
    "        ax.axhline(\n",
    "            p_cruising,\n",
    "            color = 'k',\n",
    "            linestyle = '--',\n",
    "        )\n",
    "    \n",
    "    for ind in transition_indices:\n",
    "        ax.axvline(\n",
    "            imu_log_df.loc[ind,'CurrTimestamp'],\n",
    "            color = 'k',\n",
    "            linestyle = '--',\n",
    "        )\n",
    "        \n",
    "min_times = imu_log_df.groupby('flight_phase')['CurrTimestamp'].min()\n",
    "for phase in min_times.index:\n",
    "    ax.annotate(\n",
    "        text = phase,\n",
    "        xy = (min_times.loc[phase], 1),\n",
    "        xycoords = matplotlib.transforms.blended_transform_factory(ax.transData, ax.transAxes),\n",
    "        # xytext = (5,5),\n",
    "        # textcoords = 'offset points',\n",
    "    )"
   ]
  },
  {
   "cell_type": "code",
   "execution_count": null,
   "id": "9b1d79e2-bb0d-4ca5-807e-b2ae63a0d837",
   "metadata": {
    "tags": []
   },
   "outputs": [],
   "source": [
    "# Select cruise data\n",
    "cruise_data = imu_log_df.loc[imu_log_df['flight_phase'] == 'cruise']\n",
    "cruise_data = cruise_data.set_index('CurrTimestamp')"
   ]
  },
  {
   "cell_type": "code",
   "execution_count": null,
   "id": "5bd26732-5fc4-48f2-a807-b1e016825755",
   "metadata": {
    "tags": []
   },
   "outputs": [],
   "source": [
    "# Get rolling deviation\n",
    "cruise_rolling = cruise_data.rolling(window=pd.Timedelta(rolling_window_in_min, 'min'))\n",
    "cruise_rolling_std = cruise_rolling.std(numeric_only=True)"
   ]
  },
  {
   "cell_type": "code",
   "execution_count": null,
   "id": "a72ef69c-0420-4b7a-a28b-cecee9eb24fb",
   "metadata": {
    "tags": []
   },
   "outputs": [],
   "source": [
    "# Identify and store steady data\n",
    "cruise_data.loc[:,'is_steady'] = cruise_rolling_std[column_for_steady] < mult_of_std_for_steady * np.nanmedian(cruise_rolling_std[column_for_steady])\n",
    "cruise_rolling_std.loc[:,'is_steady'] = cruise_data['is_steady']\n",
    "imu_log_df['is_steady'] = False\n",
    "imu_log_df.loc[imu_log_df['flight_phase'] == 'cruise','is_steady'] = cruise_data['is_steady'].values"
   ]
  },
  {
   "cell_type": "code",
   "execution_count": null,
   "id": "6ff52f6f-02c2-4ab4-a2d9-1e158cd21953",
   "metadata": {
    "tags": []
   },
   "outputs": [],
   "source": [
    "# View versus time\n",
    "g = sns.PairGrid(cruise_rolling_std.reset_index(), x_vars=['CurrTimestamp'], hue='is_steady', aspect=3)\n",
    "g.map_offdiag(sns.histplot)\n",
    "\n",
    "for ax_row in g.axes:\n",
    "    ax = ax_row[0]\n",
    "    y_key = ax.get_ylabel()\n",
    "    med_std = np.nanmedian(cruise_rolling_std[y_key])\n",
    "    ax.axhline(\n",
    "        mult_of_std_for_steady * med_std,\n",
    "        color = 'k',\n",
    "        linestyle = '--',\n",
    "    )"
   ]
  },
  {
   "cell_type": "markdown",
   "id": "9517032c-436b-443f-82ad-19a6b55fc6e3",
   "metadata": {},
   "source": [
    "### Steady flight visual inspection\n",
    "\n",
    "This is the cleanest data we could hope for, so let's take a look at it."
   ]
  },
  {
   "cell_type": "code",
   "execution_count": null,
   "id": "3cf01ee7-fdf8-4c4f-8b27-114221e957a9",
   "metadata": {
    "tags": []
   },
   "outputs": [],
   "source": [
    "steady_data = imu_log_df.loc[imu_log_df['is_steady']]"
   ]
  },
  {
   "cell_type": "code",
   "execution_count": null,
   "id": "1a42ec97-3c37-49ce-b855-fda6e7b2e41a",
   "metadata": {
    "tags": []
   },
   "outputs": [],
   "source": [
    "instruments = {\n",
    "    'Accel': [ 'imuAccelX', 'imuAccelY', 'imuAccelZ', ],\n",
    "    'Gyro': [ 'imuGyroX', 'imuGyroY', 'imuGyroZ', ],\n",
    "    'Mag': [ 'imuMagX', 'imuMagY', 'imuMagZ', ],\n",
    "    'RollPitchYaw': [ 'imuRoll', 'imuPitch', 'imuYaw', ],\n",
    "}"
   ]
  },
  {
   "cell_type": "code",
   "execution_count": null,
   "id": "41b11dda-c3c4-4112-bd7d-a81ccddf44a4",
   "metadata": {
    "tags": []
   },
   "outputs": [],
   "source": [
    "mosaic = [ [ _, ] for _ in instruments.keys() ]\n",
    "\n",
    "fig = plt.figure(figsize=(20,10))\n",
    "ax_dict = fig.subplot_mosaic(mosaic)\n",
    "\n",
    "for inst_name, inst_keys in instruments.items():\n",
    "    \n",
    "    ax = ax_dict[inst_name]\n",
    "    \n",
    "    for inst_key in inst_keys:\n",
    "        sns.scatterplot(\n",
    "            steady_data,\n",
    "            x = 'CurrTimestamp',\n",
    "            y = inst_key,\n",
    "            ax = ax,\n",
    "            edgecolor=None,\n",
    "            s = 10,\n",
    "            label = inst_key,\n",
    "        )\n",
    "        \n",
    "    ax.legend()\n",
    "    ax.set_ylabel(inst_name)"
   ]
  },
  {
   "cell_type": "markdown",
   "id": "50188a55-1e1b-4675-aaf7-7e0a93682d21",
   "metadata": {},
   "source": [
    "## Compare Match Between IMU and GPS Logs"
   ]
  },
  {
   "cell_type": "code",
   "execution_count": null,
   "id": "7827b714-1348-4083-96b4-a4356314d715",
   "metadata": {
    "tags": []
   },
   "outputs": [],
   "source": [
    "# Look at acceleration data to identify launch point\n",
    "accel_data = imu_log_df[['CurrTimestamp', 'imuAccelX', 'imuAccelY', 'imuAccelZ']]\n",
    "accel_data.set_index('CurrTimestamp', inplace=True)\n",
    "accel_data = accel_data.dropna()"
   ]
  },
  {
   "cell_type": "code",
   "execution_count": null,
   "id": "6cd20994-533e-4a15-824e-ddff5fa910f5",
   "metadata": {
    "tags": []
   },
   "outputs": [],
   "source": [
    "# Assume the maximum rolling acceleration during the pre-flight marks the launch\n",
    "accel_rolling_mean = accel_data.rolling(window=pd.Timedelta(rolling_window_in_min*0.5, 'min')).mean()\n",
    "rolling_mean_mag = np.linalg.norm(accel_rolling_mean, axis=1)\n",
    "end_of_preflight = imu_log_df.loc[imu_log_df['flight_phase']=='pre-flight', 'CurrTimestamp'].max()\n",
    "launch_time = accel_data.index[np.argmax(rolling_mean_mag[accel_data.index<end_of_preflight])]"
   ]
  },
  {
   "cell_type": "code",
   "execution_count": null,
   "id": "4df34f4e-1cb7-478d-8ede-525a5654b8f7",
   "metadata": {
    "tags": []
   },
   "outputs": [],
   "source": [
    "gps_log_df = flight.gps_log_df"
   ]
  },
  {
   "cell_type": "code",
   "execution_count": null,
   "id": "a3ce89d1-db3f-401f-8719-bc0e7c98df52",
   "metadata": {
    "tags": []
   },
   "outputs": [],
   "source": [
    "# Convert to datetime, toss out recordings not associated with the flight itself.\n",
    "gps_log_df.drop(gps_log_df.index[gps_log_df['CurrTimestamp'] < pd.to_datetime('2022-5-13 20')], inplace=True)"
   ]
  },
  {
   "cell_type": "code",
   "execution_count": null,
   "id": "d75d75eb-823e-481d-a7a3-7f8dc9a8ab12",
   "metadata": {
    "tags": []
   },
   "outputs": [],
   "source": [
    "fig = plt.figure(figsize=(20,10))\n",
    "ax_dict = fig.subplot_mosaic([['overall', 'zoomed', ]])\n",
    "\n",
    "xlims = {\n",
    "    'overall': None,\n",
    "    'zoomed': (launch_time - pd.Timedelta(1, 'min'), launch_time + pd.Timedelta(1, 'min')),\n",
    "}\n",
    "for ax_key in ['overall', 'zoomed']:\n",
    "    \n",
    "    ax = ax_dict[ax_key]\n",
    "    \n",
    "    if xlims[ax_key] is not None:\n",
    "        gps_selected = gps_log_df.loc[(\n",
    "            (gps_log_df['CurrTimestamp'] > xlims[ax_key][0]) &\n",
    "            (gps_log_df['CurrTimestamp'] < xlims[ax_key][1])\n",
    "        )]\n",
    "        imu_selected = imu_log_df.loc[(\n",
    "            (imu_log_df['CurrTimestamp'] > xlims[ax_key][0]) &\n",
    "            (imu_log_df['CurrTimestamp'] < xlims[ax_key][1])\n",
    "        )]\n",
    "    else:\n",
    "        gps_selected = gps_log_df\n",
    "        imu_selected = imu_log_df\n",
    "    \n",
    "    sns.scatterplot(\n",
    "        gps_selected,\n",
    "        x = 'CurrTimestamp',\n",
    "        y = 'GPSAlt',\n",
    "        edgecolor = None,\n",
    "        label = 'GPS',\n",
    "        ax = ax,\n",
    "        zorder = 100,\n",
    "    )\n",
    "    sns.scatterplot(\n",
    "        imu_selected,\n",
    "        x = 'CurrTimestamp',\n",
    "        y = 'mAltitude',\n",
    "        edgecolor = None,\n",
    "        label = 'IMU',\n",
    "        ax = ax,\n",
    "    )\n",
    "    \n",
    "    ax.axvline(\n",
    "        launch_time,\n",
    "        color = '0.5',\n",
    "        linewidth = 1,\n",
    "    )\n",
    "    \n",
    "    if ax_key == 'overall':\n",
    "        ax2 = ax.twinx()\n",
    "        ax2.plot(\n",
    "            accel_data.index,\n",
    "            rolling_mean_mag,\n",
    "            color = 'k',\n",
    "        )\n",
    "        ax2.set_ylabel('rolling acceleration')\n",
    "    ax.legend()\n",
    "    \n",
    "# ax.scatter(\n",
    "#     gps_log_df['CurrT\n",
    "# )"
   ]
  },
  {
   "cell_type": "markdown",
   "id": "25f1dc0c-15c3-4d1c-978b-26a810bb6a6f",
   "metadata": {},
   "source": [
    "The match-up between the GPS and IMU data is not bad. We'll try using them as-is. The magnitude of the acceleration matches with the launch time to within a minute, but is still off by ~30 seconds."
   ]
  },
  {
   "cell_type": "markdown",
   "id": "8aeafae0-70e3-457a-bb3b-b41d1cd40bf6",
   "metadata": {},
   "source": [
    "# Image Calibration"
   ]
  },
  {
   "cell_type": "markdown",
   "id": "77bfeffd-b9f4-42ec-bf90-722754392f3b",
   "metadata": {},
   "source": [
    "## Inspect a Random Image"
   ]
  },
  {
   "cell_type": "code",
   "execution_count": null,
   "id": "f2d1877f-fb91-4fa8-83d2-4e235b50ef57",
   "metadata": {
    "tags": []
   },
   "outputs": [],
   "source": [
    "# Random observation\n",
    "ind = rng.choice(flight.metadata.index[flight.metadata['valid_filepath']])\n",
    "obs = flight.get_observation(ind)"
   ]
  },
  {
   "cell_type": "code",
   "execution_count": null,
   "id": "6d9ef5a7-1d27-4d1e-8106-76df8850cb63",
   "metadata": {},
   "outputs": [],
   "source": [
    "obs.show()"
   ]
  },
  {
   "cell_type": "code",
   "execution_count": null,
   "id": "7dcbb5c5-0cdd-497e-a5e5-73e6bd727eee",
   "metadata": {
    "tags": []
   },
   "outputs": [],
   "source": [
    "max_val = flight.bit_precisions['.raw']\n",
    "bins = np.arange(-0.5, max_val-0.5, 1)\n",
    "plt_types = ['big_picture', 'zoomed', 'zoomed_upper']\n",
    "\n",
    "# Look at brightness distribution\n",
    "fig = plt.figure(figsize=(8*len(plt_types),6))\n",
    "\n",
    "xlims = [ (bins[0], bins[-1]), (0, 50), (bins[-1]-100, bins[-1]) ]\n",
    "ax_dict = fig.subplot_mosaic([plt_types,])\n",
    "\n",
    "colors = ['red', 'green', 'blue']\n",
    "for j, plt_type in enumerate(plt_types):\n",
    "    \n",
    "    ax = ax_dict[plt_types[j]]\n",
    "    for i, color in enumerate(colors):\n",
    "        \n",
    "        arr = obs.img[:,:,i] * max_val\n",
    "\n",
    "        ax.hist(\n",
    "            arr.flatten(),\n",
    "            bins = bins,\n",
    "            color = color,\n",
    "            histtype = 'step',\n",
    "        )\n",
    "        ax.set_xlim(xlims[j])\n",
    "\n",
    "    ax.set_yscale('log')\n",
    "    \n",
    "    ax.set_xlabel( 'Integer Value', )\n",
    "    ax.set_ylabel( 'Frequency', )"
   ]
  },
  {
   "cell_type": "markdown",
   "id": "99c69909-1a2e-41ce-a31c-b6f7692f0325",
   "metadata": {},
   "source": [
    "## Inspect a Calibration Image"
   ]
  },
  {
   "cell_type": "code",
   "execution_count": null,
   "id": "cecc7b53-0e9b-44d5-99bc-14a08312c7cd",
   "metadata": {
    "tags": []
   },
   "outputs": [],
   "source": [
    "cal_image_dir = os.path.join( google_drive_dir, 'Shared drives/NITELite/Data & Analysis/Calibration Tests/3.19.22 Complete Calib Set/23085686_1sec_flatFrames' )"
   ]
  },
  {
   "cell_type": "code",
   "execution_count": null,
   "id": "828798cd-dce7-41ea-88f1-f4d2d5968f04",
   "metadata": {
    "tags": []
   },
   "outputs": [],
   "source": [
    "fp = rng.choice(glob.glob(os.path.join(cal_image_dir, '*.raw')))"
   ]
  },
  {
   "cell_type": "code",
   "execution_count": null,
   "id": "7c4377c0-5776-40bd-b70f-badf089f403c",
   "metadata": {
    "tags": []
   },
   "outputs": [],
   "source": [
    "# Open the image, assuming same settings as actual flight data.\n",
    "img = observations.load_rgb_img(\n",
    "    fp,\n",
    "    img_shape=flight.img_shape,\n",
    "    bit_precisions=flight.bit_precisions,\n",
    ")"
   ]
  },
  {
   "cell_type": "code",
   "execution_count": null,
   "id": "fd0b7805-6b05-4ee6-b8a4-383bfcf9417c",
   "metadata": {
    "tags": []
   },
   "outputs": [],
   "source": [
    "plt.imshow(img)"
   ]
  },
  {
   "cell_type": "code",
   "execution_count": null,
   "id": "08ba149b-54e5-44f5-8486-185b589ead76",
   "metadata": {},
   "outputs": [],
   "source": [
    "bins = np.arange(-0.5, max_val, 1)\n",
    "plt_types = ['big_picture', 'zoomed', 'zoomed_upper']\n",
    "\n",
    "# Look at brightness distribution\n",
    "fig = plt.figure(figsize=(8*len(plt_types),6))\n",
    "\n",
    "xlims = [(bins[0], bins[-1]), (2250, 2500), (3000, 3100)]\n",
    "ax_dict = fig.subplot_mosaic([plt_types,])\n",
    "\n",
    "colors = ['red', 'green', 'blue']\n",
    "for j, plt_type in enumerate(plt_types):\n",
    "    \n",
    "    ax = ax_dict[plt_types[j]]\n",
    "    for i, color in enumerate(colors):\n",
    "        \n",
    "        arr = img[:,:,i] * max_val\n",
    "\n",
    "        ax.hist(\n",
    "            arr.flatten(),\n",
    "            bins = bins,\n",
    "            color = color,\n",
    "            histtype = 'step',\n",
    "        )\n",
    "        ax.set_xlim(xlims[j])\n",
    "\n",
    "    # ax.set_yscale('log')\n",
    "    \n",
    "    ax.set_xlabel( 'Integer Value', )\n",
    "    ax.set_ylabel( 'Frequency', )"
   ]
  },
  {
   "cell_type": "markdown",
   "id": "dfc2b7bf-d752-41be-bd96-ab33076dd1de",
   "metadata": {},
   "source": [
    "# Extra Metadata Processing"
   ]
  },
  {
   "cell_type": "code",
   "execution_count": null,
   "id": "845f89d2-c699-4364-867d-82de68ff8a78",
   "metadata": {
    "tags": []
   },
   "outputs": [],
   "source": [
    "metadata = flight.metadata"
   ]
  },
  {
   "cell_type": "code",
   "execution_count": null,
   "id": "81e7bb64-1b28-4549-995b-5e7f903907c9",
   "metadata": {
    "tags": []
   },
   "outputs": [],
   "source": [
    "# We'll keep track of what images we expect to be valid along the way\n",
    "metadata['valid'] = True"
   ]
  },
  {
   "cell_type": "markdown",
   "id": "61327090-63db-4e61-8225-2e387345cb43",
   "metadata": {},
   "source": [
    "# Manually Geo-Referenced Images"
   ]
  },
  {
   "cell_type": "code",
   "execution_count": null,
   "id": "dfc38576-23cd-49ca-8db4-827270ee1e93",
   "metadata": {},
   "outputs": [],
   "source": [
    "import importlib\n",
    "importlib.reload(observations)"
   ]
  },
  {
   "cell_type": "markdown",
   "id": "8f100070-a656-4b1c-a2c7-2e7a3385b213",
   "metadata": {},
   "source": [
    "## Example Image"
   ]
  },
  {
   "cell_type": "code",
   "execution_count": null,
   "id": "aa29f026-2bba-4a8d-9966-c1a590897e69",
   "metadata": {},
   "outputs": [],
   "source": [
    "# Choose a random geo-referenced image\n",
    "reffed = metadata.loc[metadata['manually_referenced_fp'].notna()]\n",
    "ind_displayed = rng.choice(reffed.index)\n",
    "# man_fp = metadata.loc[ind_displayed,'manually_referenced_fp']"
   ]
  },
  {
   "cell_type": "markdown",
   "id": "a516ed64-4b5f-40be-af06-3f144f706f35",
   "metadata": {},
   "source": [
    "### Raw Image Data"
   ]
  },
  {
   "cell_type": "code",
   "execution_count": null,
   "id": "d4bc50c4-6e3a-4382-8d08-892472c9ee3c",
   "metadata": {},
   "outputs": [],
   "source": [
    "reffed_obs = flight.get_referenced_observation(ind_displayed)"
   ]
  },
  {
   "cell_type": "code",
   "execution_count": null,
   "id": "5a746535-84ba-4cce-84b9-fc1d73093b9f",
   "metadata": {},
   "outputs": [],
   "source": [
    "reffed_obs.show()"
   ]
  },
  {
   "cell_type": "markdown",
   "id": "334acc91-43ec-4888-b57e-e35f6af5f885",
   "metadata": {},
   "source": [
    "### As a GeoTIFF"
   ]
  },
  {
   "cell_type": "code",
   "execution_count": null,
   "id": "ca9a2189-ac98-4471-b216-d74f05b5db10",
   "metadata": {},
   "outputs": [],
   "source": [
    "# Show in the context of a coordinate system\n",
    "reffed_obs.show(crs='cartesian')"
   ]
  },
  {
   "cell_type": "markdown",
   "id": "576cfa2d-4a0a-4cdc-aa48-65b7bbf22fbb",
   "metadata": {},
   "source": [
    "### Comparison Example Image"
   ]
  },
  {
   "cell_type": "code",
   "execution_count": null,
   "id": "a80772d6-9eb2-4429-a2ce-cb01bdca359c",
   "metadata": {},
   "outputs": [],
   "source": [
    "# Second img to display. Will act as a mosaic\n",
    "iloc_displayed = np.arange(reffed.index.size)[reffed.index == ind_displayed][0]\n",
    "ind_displayed2 = reffed.index[iloc_displayed + 1]\n",
    "reffed_obs2 = flight.get_referenced_observation(ind_displayed2)"
   ]
  },
  {
   "cell_type": "markdown",
   "id": "ae10e1d8-20ba-4b54-95f1-7ea644312e09",
   "metadata": {},
   "source": [
    "### Check for Consistency Between Images"
   ]
  },
  {
   "cell_type": "markdown",
   "id": "1c0fdbfd-9f6f-4743-bf5a-ef2e570ba7e5",
   "metadata": {},
   "source": [
    "#### Visual Check"
   ]
  },
  {
   "cell_type": "code",
   "execution_count": null,
   "id": "a9496d6e-8c90-4433-b632-a5bc3be73c95",
   "metadata": {},
   "outputs": [],
   "source": [
    "#### Set expectations for first merging of images\n",
    "fig = plt.figure(figsize=(20, 20))\n",
    "ax = plt.gca()\n",
    "\n",
    "\n",
    "# First image\n",
    "reffed_obs2.show(ax=ax, crs='cartesian', img='semitransparent_img')\n",
    "reffed_obs2.plot_bounds(ax=ax, edgecolor=palette[1], label='img1-mid', zorder=100, linewidth=7)\n",
    "\n",
    "# Starting image\n",
    "reffed_obs.show(ax=ax, crs='cartesian', img='semitransparent_img')\n",
    "reffed_obs.plot_bounds(ax=ax, edgecolor=palette[0], label='img0-bottom', zorder=100, linewidth=7)\n",
    "\n",
    "ax.legend()"
   ]
  },
  {
   "cell_type": "markdown",
   "id": "bddf10db-5f45-4795-b801-234f8d27b70f",
   "metadata": {},
   "source": [
    "#### Quanititative Check"
   ]
  },
  {
   "cell_type": "code",
   "execution_count": null,
   "id": "5e656da5-cb0f-4c5e-b9f1-97ec8d26ae99",
   "metadata": {},
   "outputs": [],
   "source": [
    "# Get containing bounds\n",
    "x_bounds, y_bounds = reffed_obs.cart_bounds\n",
    "x_bounds2, y_bounds2 = reffed_obs2.cart_bounds\n",
    "x_min_joint = np.min([x_bounds[0], x_bounds2[0]])\n",
    "x_max_joint = np.max([x_bounds[1], x_bounds2[1]])\n",
    "y_min_joint = np.min([y_bounds[0], y_bounds2[0]])\n",
    "y_max_joint = np.max([y_bounds[1], y_bounds2[1]])"
   ]
  },
  {
   "cell_type": "code",
   "execution_count": null,
   "id": "0e89b124-214e-41a9-820d-cd5f96de3736",
   "metadata": {},
   "outputs": [],
   "source": [
    "# Make bins for a histogram comparison\n",
    "downsample = 100\n",
    "xs, ys = reffed_obs.get_cart_coordinates()\n",
    "dx = (xs[1] - xs[0]) * downsample\n",
    "dy = np.abs(ys[1] - ys[0]) * downsample\n",
    "x_edges = np.arange(x_min_joint, x_max_joint + dx, dx)\n",
    "y_edges = np.arange(y_min_joint, y_max_joint + dy, dy)"
   ]
  },
  {
   "cell_type": "code",
   "execution_count": null,
   "id": "0be45c49-0ad4-43e4-ad40-8d2fad4f08ee",
   "metadata": {},
   "outputs": [],
   "source": [
    "# Get histograms\n",
    "def get_hist(img, xs, ys):\n",
    "    \n",
    "    # We'll just sum the channels for this.\n",
    "    img = img.sum(axis=2)\n",
    "    \n",
    "    xs_mesh, ys_mesh = np.meshgrid(xs, ys)\n",
    "    \n",
    "    hist2d, _, _ = np.histogram2d(\n",
    "        xs_mesh.flatten(),\n",
    "        ys_mesh.flatten(),\n",
    "        (x_edges, y_edges),\n",
    "        weights = img.flatten(),\n",
    "    )\n",
    "    \n",
    "    return hist2d.transpose() # Just change in order\n",
    "hist2d = get_hist(reffed_obs.img_int, *reffed_obs.get_cart_coordinates())\n",
    "hist2d2 = get_hist(reffed_obs2.img_int, *reffed_obs2.get_cart_coordinates())"
   ]
  },
  {
   "cell_type": "code",
   "execution_count": null,
   "id": "b9a3ee54-535b-45a5-a022-e28bbc9a3531",
   "metadata": {},
   "outputs": [],
   "source": [
    "# Quantitative comparison\n",
    "comparison_available = (hist2d > 0) & (hist2d2 > 0)\n",
    "ratio = np.zeros(hist2d.shape)\n",
    "ratio[comparison_available] = np.log10(hist2d[comparison_available] / hist2d2[comparison_available])\n",
    "vmin = np.min(ratio[np.isfinite(ratio)])\n",
    "vmax = np.max(ratio[np.isfinite(ratio)])\n",
    "vabs = max(-vmin, vmax)"
   ]
  },
  {
   "cell_type": "code",
   "execution_count": null,
   "id": "7ee0557f-4df1-4c9a-a3c3-3295568e2551",
   "metadata": {},
   "outputs": [],
   "source": [
    "# Compare!\n",
    "subplot_mosaic = [['obs1', 'obs2', 'valid'], ['comp', 'comp', 'comp']]\n",
    "height_ratios = [8, 16]\n",
    "fig = plt.figure(figsize=(8*len(subplot_mosaic[0]), sum(height_ratios)))\n",
    "ax_dict = fig.subplot_mosaic(subplot_mosaic, height_ratios=height_ratios)\n",
    "\n",
    "ax = ax_dict['obs1']\n",
    "ax.pcolormesh(\n",
    "    x_edges,\n",
    "    y_edges,\n",
    "    hist2d\n",
    ")\n",
    "\n",
    "ax = ax_dict['obs2']\n",
    "ax.pcolormesh(\n",
    "    x_edges,\n",
    "    y_edges,\n",
    "    hist2d2\n",
    ")\n",
    "\n",
    "ax = ax_dict['valid']\n",
    "ax.pcolormesh(\n",
    "    x_edges,\n",
    "    y_edges,\n",
    "    comparison_available,\n",
    ")\n",
    "\n",
    "ax = ax_dict['comp']\n",
    "pmesh = ax.pcolormesh(\n",
    "    x_edges,\n",
    "    y_edges,\n",
    "    ratio,\n",
    "    cmap=sns.color_palette('vlag', as_cmap='True'),\n",
    "    vmin=-vabs,\n",
    "    vmax=vabs\n",
    ")\n",
    "plt.colorbar(pmesh, ax=ax)\n",
    "\n",
    "for ax_key, ax in ax_dict.items():\n",
    "    ax.set_aspect('equal')\n",
    "    ax.set_title(ax_key)"
   ]
  },
  {
   "cell_type": "markdown",
   "id": "9abf4871-51ba-4417-880b-b40ecacad520",
   "metadata": {},
   "source": [
    "### Sentinel-2 Data"
   ]
  },
  {
   "cell_type": "code",
   "execution_count": null,
   "id": "3616866b-0ed9-4444-9179-79dab77d46a9",
   "metadata": {
    "tags": []
   },
   "outputs": [],
   "source": [
    "# Sentinel-2 data. Checked on Earth engine and this provides nice urban images of Indianapolis\n",
    "s2 = ee.ImageCollection('COPERNICUS/S2_SR_HARMONIZED')\n",
    "# Semi-arbitrary date range\n",
    "s2 = s2.filterDate('2020-01-01', '2020-01-30') \n",
    " # Let's not try to process things that are too cloudy\n",
    "s2 = s2.filter(ee.Filter.lt('CLOUDY_PIXEL_PERCENTAGE', 20))"
   ]
  },
  {
   "cell_type": "code",
   "execution_count": null,
   "id": "97a70685-6fcb-4acd-881a-6054ba22e32d",
   "metadata": {
    "tags": []
   },
   "outputs": [],
   "source": [
    "def get_filtered_img(img):\n",
    "    '''Get the image, masking cloudy data pre-aggregation.\n",
    "    '''\n",
    "    \n",
    "    # Select cloud mask layer\n",
    "    qa = img.select('QA60')\n",
    "\n",
    "    # Setup bitmask\n",
    "    cloud_bitmask = 1 << 10\n",
    "    cirrus_bitmask = 1 << 11\n",
    "\n",
    "    # Get mask\n",
    "    is_not_cloudy = qa.bitwise_and(cloud_bitmask).eq(0)\n",
    "    is_not_cirrusy = qa.bitwise_and(cirrus_bitmask).eq(0)\n",
    "    is_valid = is_not_cloudy and is_not_cirrusy\n",
    "\n",
    "    img = img.updateMask(is_valid)\n",
    "\n",
    "    # Scale image by scale given in dataset description\n",
    "    return img.divide(10000.) \n",
    "s2_filtered = s2.map(get_filtered_img)"
   ]
  },
  {
   "cell_type": "code",
   "execution_count": null,
   "id": "2ccdf389-01e4-4433-a5df-1b0e59a10fc5",
   "metadata": {
    "tags": []
   },
   "outputs": [],
   "source": [
    "s2_img = s2_filtered.mean()"
   ]
  },
  {
   "cell_type": "markdown",
   "id": "43f963de-2fa5-4580-9034-61b7bf56969f",
   "metadata": {},
   "source": [
    "### Visualize"
   ]
  },
  {
   "cell_type": "code",
   "execution_count": null,
   "id": "22f7c6ec-7471-473d-9858-aaf45e17b293",
   "metadata": {},
   "outputs": [],
   "source": [
    "# Get latitude of image\n",
    "reffed_lon_bounds, reffed_lat_bounds = reffed_obs.latlon_bounds"
   ]
  },
  {
   "cell_type": "code",
   "execution_count": null,
   "id": "43af52a8-9a18-426b-aeb3-ea4eabaf58a2",
   "metadata": {
    "tags": []
   },
   "outputs": [],
   "source": [
    "# Create map\n",
    "location = (np.mean(reffed_lat_bounds), np.mean(reffed_lon_bounds))\n",
    "m = folium.Map(location, zoom_start=13)"
   ]
  },
  {
   "cell_type": "code",
   "execution_count": null,
   "id": "ef2327ec-924d-4c70-be66-e736cd90ebdf",
   "metadata": {
    "tags": []
   },
   "outputs": [],
   "source": [
    "def add_ee_layer(self, ee_image_object, vis_params, name):\n",
    "    \"\"\"Adds a method for displaying Earth Engine image tiles to folium map.\"\"\"\n",
    "    map_id_dict = ee.Image(ee_image_object).getMapId(vis_params)\n",
    "    folium.raster_layers.TileLayer(\n",
    "        tiles=map_id_dict['tile_fetcher'].url_format,\n",
    "        attr='Map Data &copy; <a href=\"https://earthengine.google.com/\">Google Earth Engine</a>',\n",
    "        name=name,\n",
    "        overlay=True,\n",
    "        control=True\n",
    "    ).add_to(self)\n",
    "\n",
    "# Add Earth Engine drawing method to folium.\n",
    "folium.Map.add_ee_layer = add_ee_layer"
   ]
  },
  {
   "cell_type": "code",
   "execution_count": null,
   "id": "7d5a6434-40fc-45a8-91e7-0eb5cfe391de",
   "metadata": {},
   "outputs": [],
   "source": [
    "# Add S2 image\n",
    "mosaic_center_point = ee.Geometry.Point(location, proj=flight.latlon_crs_code)\n",
    "vis_params = {\n",
    "    'region': mosaic_center_point.buffer(10000.),\n",
    "    'min': 0.0,\n",
    "    'max': 0.3,\n",
    "    'bands': ['B4', 'B3', 'B2'],\n",
    "}\n",
    "m.add_ee_layer(s2_img, vis_params, 's2')"
   ]
  },
  {
   "cell_type": "code",
   "execution_count": null,
   "id": "8ad2468c-461e-4708-89cb-ccdbfbd91b9d",
   "metadata": {},
   "outputs": [],
   "source": [
    "# Add manual image\n",
    "reffed_obs.add_to_folium_map(m, include_corner_markers=True)"
   ]
  },
  {
   "cell_type": "code",
   "execution_count": null,
   "id": "5a8e193b-6d2f-4c6f-b1ff-b073a7945920",
   "metadata": {},
   "outputs": [],
   "source": [
    "# Add the second manual image\n",
    "reffed_obs2.add_to_folium_map(m, label='referenced 2')"
   ]
  },
  {
   "cell_type": "code",
   "execution_count": null,
   "id": "a02d67bd-30be-48a2-aca2-0448204b4f20",
   "metadata": {},
   "outputs": [],
   "source": [
    "# Add widgets\n",
    "m.add_child(folium.LayerControl())\n",
    "print('Layer control added.')"
   ]
  },
  {
   "cell_type": "code",
   "execution_count": null,
   "id": "f45e80db-876b-455f-bc34-588f432d2b3b",
   "metadata": {},
   "outputs": [],
   "source": [
    "m"
   ]
  },
  {
   "cell_type": "markdown",
   "id": "8c7bf388-57bc-4352-a382-7b1f29db946b",
   "metadata": {},
   "source": [
    "## Coordinate Conversion"
   ]
  },
  {
   "cell_type": "code",
   "execution_count": null,
   "id": "6a67475a-2099-4c59-a50c-0c7406b917c7",
   "metadata": {},
   "outputs": [],
   "source": [
    "man_coords_fp = os.path.join(manually_reffed_dir, 'img_coordinates_{}.csv'.format(cart_crs.srs.replace(':', '')))"
   ]
  },
  {
   "cell_type": "code",
   "execution_count": null,
   "id": "ff35de33-fd2a-4e20-9f00-47f69b5e709e",
   "metadata": {},
   "outputs": [],
   "source": [
    "if os.path.exists(man_coords_fp) and not overwrite_manual_referencing:\n",
    "    manually_referenced = pd.read_csv(man_coords_fp, index_col=0)\n",
    "else:\n",
    "    calculated = {\n",
    "        'man_img_x_min': [],\n",
    "        'man_img_x_max': [],\n",
    "        'man_img_y_min': [],\n",
    "        'man_img_y_max': [],\n",
    "    }\n",
    "\n",
    "    for i in tqdm.tqdm(range(len(man_fps))):\n",
    "\n",
    "        man_fp = man_fps.iloc[i]\n",
    "        ind = man_fps.index[i]\n",
    "        row = metadata.loc[ind]\n",
    "\n",
    "        dataset = gdal.Open(man_fp)\n",
    "        x_lim_man, y_lim_man = dataset.get_bounds(cart_crs)\n",
    "\n",
    "        calculated['man_img_x_min'].append(x_lim_man[0])\n",
    "        calculated['man_img_x_max'].append(x_lim_man[1])\n",
    "        calculated['man_img_y_min'].append(y_lim_man[0])\n",
    "        calculated['man_img_y_max'].append(y_lim_man[1])\n",
    "\n",
    "    # Make a dataframe\n",
    "    manually_referenced = pd.DataFrame(calculated)\n",
    "    manually_referenced.index = man_fps.index\n",
    "    manually_referenced['filename'] = metadata['manually_referenced_fp'].str.split('/').str[-1]\n",
    "\n",
    "    # Save\n",
    "    manually_referenced.to_csv(man_coords_fp)"
   ]
  },
  {
   "cell_type": "code",
   "execution_count": null,
   "id": "6d336ff5-edf8-416c-a1a5-2e736c88462f",
   "metadata": {},
   "outputs": [],
   "source": [
    "# Manual image centers\n",
    "manually_referenced['man_x_center'] = 0.5 * (manually_referenced['man_img_x_min'] + manually_referenced['man_img_x_max'])\n",
    "manually_referenced['man_y_center'] = 0.5 * (manually_referenced['man_img_y_min'] + manually_referenced['man_img_y_max'])"
   ]
  },
  {
   "cell_type": "code",
   "execution_count": null,
   "id": "2de6dec3-5d1e-44f1-8ded-66edab131eda",
   "metadata": {},
   "outputs": [],
   "source": [
    "# Manual image dimensions\n",
    "manually_referenced['man_img_width'] = manually_referenced['man_img_x_max'] - manually_referenced['man_img_x_min']\n",
    "manually_referenced['man_img_height'] = manually_referenced['man_img_y_max'] - manually_referenced['man_img_y_min']\n",
    "manually_referenced['man_img_hypotenuse'] = np.sqrt(manually_referenced['man_img_width']**2. + manually_referenced['man_img_height']**2.)"
   ]
  },
  {
   "cell_type": "code",
   "execution_count": null,
   "id": "38331687-cc94-4fdc-9edd-c8383856a050",
   "metadata": {},
   "outputs": [],
   "source": [
    "# Compare how far off the manual images are from the bottom\n",
    "man_metadata = metadata.loc[metadata['manually_referenced_fp'].notna()]\n",
    "man_dx = manually_referenced['man_x_center'] - man_metadata['sensor_x']\n",
    "man_dy = manually_referenced['man_y_center'] - man_metadata['sensor_y']\n",
    "man_dz = ground_alt - man_metadata['mAltitude']"
   ]
  },
  {
   "cell_type": "code",
   "execution_count": null,
   "id": "2d9f4307-5105-4ba1-9464-5f6f64474d06",
   "metadata": {},
   "outputs": [],
   "source": [
    "# Estimate angle from the manual images\n",
    "man_v = np.array([man_dx, man_dy, man_dz]).transpose()\n",
    "man_distance =  np.linalg.norm(man_v, axis=1)\n",
    "man_vhat = man_v / man_distance[:,np.newaxis]"
   ]
  },
  {
   "cell_type": "markdown",
   "id": "158cac24-e42d-4971-84e0-43205517bc3e",
   "metadata": {},
   "source": [
    "# Georeferencing with Metadata"
   ]
  },
  {
   "cell_type": "markdown",
   "id": "3f121681-e22c-4a25-b399-3f406287b749",
   "metadata": {},
   "source": [
    "## Rotate to get best match to manual"
   ]
  },
  {
   "cell_type": "code",
   "execution_count": null,
   "id": "e0389ffe-83c7-4533-8633-07c6a45225d8",
   "metadata": {},
   "outputs": [],
   "source": [
    "# Rotations are confusing, so let's just see what produces the best fit\n",
    "median_dotproducts = []\n",
    "xyz_combos = []\n",
    "rollpitchyaw_combos = []\n",
    "median_relative_errors = []\n",
    "for case in ['upper', 'lower']:\n",
    "    letters = getattr('xyz', case)()\n",
    "    for xyz_combo in permutations(letters):\n",
    "        for rollpitchyaw_combo in permutations(['imuRoll', 'imuPitch', 'imuYaw']):\n",
    "            \n",
    "            # Format\n",
    "            xyz_combo = ''.join(xyz_combo)\n",
    "            rollpitchyaw_combo = list(rollpitchyaw_combo)\n",
    "            \n",
    "            # Get the rotation object\n",
    "            rot_comp = scipy.spatial.transform.Rotation.from_euler(\n",
    "                xyz_combo,\n",
    "                man_metadata[rollpitchyaw_combo],\n",
    "                degrees=True,\n",
    "            )\n",
    "            vhat_comp = rot_comp.apply([0., 0., -1.])\n",
    "            \n",
    "            # Calculate agreement\n",
    "            dotproducts = (man_vhat * vhat_comp).sum(axis=1)\n",
    "            \n",
    "            # Convert into intepretable error\n",
    "            projected_error = man_distance * np.sin(np.arccos(dotproducts))\n",
    "            relative_errors = projected_error / manually_referenced['man_img_hypotenuse']\n",
    "            \n",
    "            median_dotproducts.append(np.median(dotproducts))\n",
    "            xyz_combos.append(xyz_combo)\n",
    "            rollpitchyaw_combos.append(rollpitchyaw_combo)\n",
    "            median_relative_errors.append(np.median(relative_errors))"
   ]
  },
  {
   "cell_type": "code",
   "execution_count": null,
   "id": "5b38ad2b-9bc1-44bc-898c-380232d85bc1",
   "metadata": {},
   "outputs": [],
   "source": [
    "# Summarize output\n",
    "best_fit_inds = np.argsort(median_relative_errors)[:10]\n",
    "for best_fit_ind in best_fit_inds:\n",
    "    print('ind = {}, median dot prod = {:.4g}, median relative error = {:.3g}'.format(best_fit_ind, median_dotproducts[best_fit_ind], median_relative_errors[best_fit_ind]))\n",
    "    print('    {}, {}'.format(xyz_combos[best_fit_ind], rollpitchyaw_combos[best_fit_ind]))"
   ]
  },
  {
   "cell_type": "code",
   "execution_count": null,
   "id": "fc44d2c1-5cde-4d87-b614-8b443d08b625",
   "metadata": {},
   "outputs": [],
   "source": [
    "man_offset = np.sqrt(man_dx**2. + man_dy**2.)\n",
    "imu_not_used_median_relative_error = np.median(man_offset / manually_referenced['man_img_hypotenuse'])\n",
    "print('For comparison, the median relative error assuming the image is directly below is {:.3g}'.format(imu_not_used_median_relative_error))"
   ]
  },
  {
   "cell_type": "code",
   "execution_count": null,
   "id": "fdaa180c-a5aa-4e92-8d3f-0aec1e7da671",
   "metadata": {},
   "outputs": [],
   "source": [
    "# Select best fit\n",
    "best_fit_ind = best_fit_inds[0]\n",
    "xyz_combo = xyz_combos[best_fit_ind]\n",
    "rollpitchyaw_combo = rollpitchyaw_combos[best_fit_ind]"
   ]
  },
  {
   "cell_type": "code",
   "execution_count": null,
   "id": "d128a6ed-110b-49c2-b737-0be00e4d6911",
   "metadata": {},
   "outputs": [],
   "source": [
    "# Get the rotation object\n",
    "rot_comp = scipy.spatial.transform.Rotation.from_euler(\n",
    "    xyz_combo,\n",
    "    man_metadata[rollpitchyaw_combo],\n",
    "    degrees=True,\n",
    ")\n",
    "vhat_comp = rot_comp.apply([0., 0., -1.])"
   ]
  },
  {
   "cell_type": "code",
   "execution_count": null,
   "id": "684ccdab-dc16-4279-936f-bb73c7e40791",
   "metadata": {},
   "outputs": [],
   "source": [
    "fig = plt.figure(figsize=(10,10))\n",
    "ax = plt.gca()\n",
    "\n",
    "coord_names = ['x', 'y', 'z']\n",
    "for i in range(3):\n",
    "    coord_name = coord_names[i]\n",
    "        \n",
    "    ax.scatter(\n",
    "        man_vhat[:,i],\n",
    "        vhat_comp[:,i],\n",
    "        color = palette[i],\n",
    "        label = '{} component'.format(coord_name),\n",
    "    )\n",
    "    \n",
    "    ax.set_xlim(-1, 1)\n",
    "    ax.set_ylim(-1, 1)\n",
    "    \n",
    "    ax.grid()\n",
    "    \n",
    "    ax.set_xlabel(r'manually-referenced $\\hat v_i$')\n",
    "    ax.set_ylabel(r'IMU-derived $\\hat v_i$')\n",
    "    \n",
    "ax.legend()"
   ]
  },
  {
   "cell_type": "code",
   "execution_count": null,
   "id": "37353673-86f2-4bd8-bb6a-4f77be72fd51",
   "metadata": {
    "tags": []
   },
   "outputs": [],
   "source": [
    "# Place back\n",
    "metadata = pd.concat([metadata, manually_referenced], axis='columns')\n",
    "metadata = metadata.loc[:,~metadata.columns.duplicated()]"
   ]
  },
  {
   "cell_type": "code",
   "execution_count": null,
   "id": "103d929a-211e-4623-af3e-515a3079e0eb",
   "metadata": {
    "tags": []
   },
   "outputs": [],
   "source": [
    "# Get the rotation object\n",
    "rot = scipy.spatial.transform.Rotation.from_euler(\n",
    "    'XZY',\n",
    "    metadata[['imuPitch', 'imuYaw', 'imuRoll']],\n",
    "    degrees=True,\n",
    ")"
   ]
  },
  {
   "cell_type": "markdown",
   "id": "3323b954-26cc-4282-99bf-670f70d325d0",
   "metadata": {},
   "source": [
    "## Calculate Center and Radius in Local Coords"
   ]
  },
  {
   "cell_type": "markdown",
   "id": "45a0ec7f-5cc7-4bed-8fdc-e6469763ee4e",
   "metadata": {
    "tags": []
   },
   "source": [
    "Given a sensor with position vector $\\vec p$ pointed in direction $\\hat v$ we want to find the position vector of the source image,\n",
    "\n",
    "\\begin{equation}\n",
    "\\vec s = \\vec p + \\vec v\n",
    "\\end{equation}\n",
    "\n",
    "The main unknown in this equation is the magnitude of $\\vec v$.\n",
    "Assuming the sensor is a height $h$ above a flat surface then $h\\, /\\, \\mid \\vec v \\mid = \\cos \\phi$, where $\\phi$ is the angle between a line connecting the ground and the sensor and $\\hat v$.\n",
    "If $\\theta$ is the standard spherical angle determining the z-component of $\\hat v$ then $\\phi = \\pi - \\theta$.\n",
    "Doing some algebra we get $\\mid \\vec v \\mid = - h\\,/\\, \\mid\\hat v_z \\mid$.\n",
    "Plugging in and simplifying, we get\n",
    "\n",
    "\\begin{equation}\n",
    "\\vec s = (p_x - h \\mid\\hat v_x \\mid / \\mid\\hat v_z \\mid) \\hat x + (p_y - h \\mid\\hat v_y \\mid / \\mid\\hat v_z \\mid) \\hat y\n",
    "\\end{equation}\n",
    "\n",
    "In practice we'll often set $\\vec p = \\langle 0, 0, h \\rangle$ and then deal with the conversion to a uniform reference frame during the conversion to geo-coordinates, simplifying this to \n",
    "\\begin{equation}\n",
    "\\vec s = \\langle - h \\mid\\hat v_x \\mid / \\mid\\hat v_z \\mid,\\,\\, - h \\mid\\hat v_y \\mid / \\mid\\hat v_z \\mid \\rangle\n",
    "\\end{equation}\n",
    "\n",
    "This is the general solution for any $\\hat v$, but the special case we care most about is the center of the image."
   ]
  },
  {
   "cell_type": "code",
   "execution_count": null,
   "id": "752261db-7120-4349-8370-424e0ad74383",
   "metadata": {
    "tags": []
   },
   "outputs": [],
   "source": [
    "# Height above ground\n",
    "height = metadata['mAltitude'] - ground_alt\n",
    "\n",
    "# Negative height is no good.\n",
    "metadata.loc[height<0, 'valid'] = False"
   ]
  },
  {
   "cell_type": "code",
   "execution_count": null,
   "id": "8712a17c-6d0d-4aa7-836b-c7bb6e487e9e",
   "metadata": {
    "tags": []
   },
   "outputs": [],
   "source": [
    "# Get image centers\n",
    "vhat_sensor_center = rot.apply([0, 0, -1])\n",
    "d_to_src = - height.values / vhat_sensor_center[:,2]\n",
    "image_center_coords = d_to_src[:,np.newaxis] * vhat_sensor_center[:,:2]\n",
    "metadata[['img_center_dx', 'img_center_dy']] = image_center_coords\n",
    "metadata['img_center_tilt'] = np.arccos(-vhat_sensor_center[:,2]) * 180. / np.pi"
   ]
  },
  {
   "cell_type": "markdown",
   "id": "e19e517e-283f-43bb-b8ff-63959d5b0914",
   "metadata": {
    "tags": []
   },
   "source": [
    "In addition to the center of the vector, we'd like to estimate a radius $r$ which we expect to enclose the image.\n",
    "This radius should account for both (a) geometric effects and (b) error in georeferencing.\n",
    "We can parameterize this radius according to an angle $\\xi = \\epsilon \\alpha$ where $\\alpha$ is the angular radius of the image and $\\epsilon$ is a multiplicative error term.\n",
    "Then, neglecting warping from the image being captured at an angle (for the radius we'll assume that this is wrapped into $\\epsilon$),\n",
    "\n",
    "\\begin{align}\n",
    "r &= \\mid\\vec v \\mid \\tan \\xi \\\\\n",
    "&= - h\\,/\\, \\mid\\hat v_z \\mid \\tan( \\epsilon \\alpha)\n",
    "\\end{align}"
   ]
  },
  {
   "cell_type": "code",
   "execution_count": null,
   "id": "9774ab9a-1b70-4ce5-8663-d599783c09cd",
   "metadata": {
    "tags": []
   },
   "outputs": [],
   "source": [
    "# We'll estimate the angular radius of the image as the angular width of\n",
    "# the sensor multiplied by the ratio of the image diagonal to image width\n",
    "angular_radius = img_angular_error * (img_angular_width / 2.) * (np.linalg.norm(flight.img_shape) / flight.img_shape[1])\n",
    "img_radius = np.abs(d_to_src * np.tan(angular_radius * np.pi / 180.))\n",
    "metadata['img_radius'] = img_radius"
   ]
  },
  {
   "cell_type": "code",
   "execution_count": null,
   "id": "fd8c0ac1-38ea-4fb9-8174-6a40d8e48a91",
   "metadata": {
    "tags": []
   },
   "outputs": [],
   "source": [
    "# Anything where the angular radius overlaps the horizon\n",
    "# (i.e. the picture is partially of the horizon)\n",
    "# is also no good\n",
    "max_center_angle = 90. - angular_radius\n",
    "is_sideways = -vhat_sensor_center[:,2] < np.cos(max_center_angle * np.pi / 180.)\n",
    "metadata.loc[is_sideways, 'valid'] = False"
   ]
  },
  {
   "cell_type": "code",
   "execution_count": null,
   "id": "addc86ec-cd22-4e6f-9772-c64ca00d0194",
   "metadata": {
    "tags": []
   },
   "outputs": [],
   "source": [
    "# We can see that the radius of the image is typically ~0.4 * the height\n",
    "_ = plt.hist(img_radius[metadata['valid']] / height.loc[metadata['valid']], bins=64)"
   ]
  },
  {
   "cell_type": "code",
   "execution_count": null,
   "id": "b356939e-29c3-4cf1-b0ce-69c00272c6f9",
   "metadata": {},
   "outputs": [],
   "source": [
    "# Get image centers\n",
    "metadata['img_center_x'] = metadata['sensor_x'] + metadata['img_center_dx']\n",
    "metadata['img_center_y'] = metadata['sensor_y'] + metadata['img_center_dy']\n",
    "metadata['img_center_lat'], metadata['img_center_lon'] = cart_to_latlon.transform(metadata['img_center_x'], metadata['img_center_y'])"
   ]
  },
  {
   "cell_type": "markdown",
   "id": "8de54df7-b1bf-4346-a236-ea442eda8740",
   "metadata": {},
   "source": [
    "## Calculate image edges in Geo-coordinates"
   ]
  },
  {
   "cell_type": "code",
   "execution_count": null,
   "id": "2cfbdcab-46b9-46d4-ba86-867fe7019f6c",
   "metadata": {},
   "outputs": [],
   "source": [
    "negpos = [-1., 1.]\n",
    "corner_keys = []\n",
    "for i, h_letter in enumerate(['l', 'r']):\n",
    "    for j, v_letter in enumerate(['l', 'u']):\n",
    "        \n",
    "        # Get angle in sensor frame\n",
    "        rot_img_corner = scipy.spatial.transform.Rotation.from_euler(\n",
    "            'yxz',\n",
    "            [negpos[i]*img_angular_width/2., negpos[j]*img_angular_height/2., 0],\n",
    "            degrees=True,\n",
    "        )\n",
    "        vhat_corner_sensor_frame = rot_img_corner.apply([0., 0., -1.])\n",
    "        \n",
    "        # Angle in base frame\n",
    "        vhat = rot.apply(vhat_corner_sensor_frame)\n",
    "        \n",
    "        # Distance to source assuming flat surface\n",
    "        d_to_src = - height.values / vhat[:,2]\n",
    "        \n",
    "        corner_key = '{}{}'.format(v_letter, h_letter)\n",
    "        \n",
    "        metadata['img_{}_x'.format(corner_key)] = metadata['sensor_x'] + d_to_src * vhat[:,0]\n",
    "        metadata['img_{}_y'.format(corner_key)] = metadata['sensor_y'] + d_to_src * vhat[:,1]\n",
    "        \n",
    "        metadata['img_{}_lat'.format(corner_key)], metadata['img_{}_lon'.format(corner_key)] = cart_to_latlon.transform(\n",
    "            metadata['img_{}_x'.format(corner_key)],\n",
    "            metadata['img_{}_y'.format(corner_key)]\n",
    "        )\n",
    "        \n",
    "        corner_keys.append(corner_key)"
   ]
  },
  {
   "cell_type": "code",
   "execution_count": null,
   "id": "90192b32-816c-4766-acfc-46019de5a206",
   "metadata": {},
   "outputs": [],
   "source": [
    "for xory in ['x', 'y']:\n",
    "    corner_xorys = metadata[['img_{}_{}'.format(_, xory) for _ in corner_keys]]\n",
    "    metadata['img_{}_min'.format(xory)] = corner_xorys.min(axis='columns')\n",
    "    metadata['img_{}_max'.format(xory)] = corner_xorys.max(axis='columns')"
   ]
  },
  {
   "cell_type": "code",
   "execution_count": null,
   "id": "0fa1128b-b4e4-4053-9cb8-3ac305ba4d23",
   "metadata": {
    "tags": []
   },
   "outputs": [],
   "source": [
    "# Compare radius to actual image radius\n",
    "actual_radius = np.sqrt(\n",
    "    (metadata['img_ur_x'] - metadata['img_ll_x'])**2.\n",
    "    + (metadata['img_ur_y'] - metadata['img_ll_y'])**2.\n",
    ")/2.\n",
    "fig = plt.figure()\n",
    "ax = plt.gca()\n",
    "ax.scatter(\n",
    "    actual_radius[metadata['valid']],\n",
    "    metadata['img_radius'][metadata['valid']],\n",
    ")\n",
    "ax.plot([0.1,1e4],[0.1,1e4])\n",
    "ax.set_xlabel('Actual diagonal radius')\n",
    "ax.set_ylabel('Estimated radius')\n",
    "# ax.set_xscale('log')\n",
    "# ax.set_yscale('log')"
   ]
  },
  {
   "cell_type": "markdown",
   "id": "800c2955-013e-4667-bf3c-68f732f90c72",
   "metadata": {},
   "source": [
    "Apparently the estimated radius isn't conservative enough?"
   ]
  },
  {
   "cell_type": "markdown",
   "id": "f542037b-8220-48fd-a136-dfa342be69f2",
   "metadata": {},
   "source": [
    "## Prep calculation for all image pixels in geo-coordinates"
   ]
  },
  {
   "cell_type": "code",
   "execution_count": null,
   "id": "00adcca4-5f38-4b0a-91c5-59ca42484790",
   "metadata": {
    "tags": []
   },
   "outputs": [],
   "source": [
    "horiz_angles = np.linspace(-img_angular_width/2., img_angular_width/2., flight.img_shape[1])\n",
    "vert_angles = np.linspace(-img_angular_height/2., img_angular_height/2., flight.img_shape[0])"
   ]
  },
  {
   "cell_type": "code",
   "execution_count": null,
   "id": "be151539-45d2-4ff4-a627-bb1f97faf3c9",
   "metadata": {
    "tags": []
   },
   "outputs": [],
   "source": [
    "horiz_angles_mesh, vert_angles_mesh = np.meshgrid(horiz_angles, vert_angles)\n",
    "pixel_rot = scipy.spatial.transform.Rotation.from_euler(\n",
    "    'yxz',\n",
    "    np.array([horiz_angles_mesh.flatten(), vert_angles_mesh.flatten(), np.zeros(horiz_angles_mesh.size)]).transpose(),\n",
    "    degrees = True,\n",
    ")\n",
    "vhat_pixels_sensor_frame = pixel_rot.apply([0, 0, -1.])"
   ]
  },
  {
   "cell_type": "markdown",
   "id": "483c537b-d683-4428-81bf-902a61cd77d0",
   "metadata": {},
   "source": [
    "## When do we need to take earth's curvature into account?\n",
    "A quick exploration."
   ]
  },
  {
   "cell_type": "code",
   "execution_count": null,
   "id": "5d0de6a8-9576-4fb4-b954-0fa548491992",
   "metadata": {
    "tags": []
   },
   "outputs": [],
   "source": [
    "# Calculate the radius for a given height above the earth\n",
    "# (geometry calc to get difference between radius of earth and a triangle)\n",
    "r_earth = 6378100.\n",
    "h = np.logspace(0, 8, 32)\n",
    "r = np.sqrt(h * (h + 2 * r_earth))"
   ]
  },
  {
   "cell_type": "code",
   "execution_count": null,
   "id": "a3e867f4-77d6-469a-9879-7a48080120a2",
   "metadata": {
    "tags": []
   },
   "outputs": [],
   "source": [
    "img_offset = np.linalg.norm(metadata[['img_center_x', 'img_center_y']], axis=1)"
   ]
  },
  {
   "cell_type": "code",
   "execution_count": null,
   "id": "1b5133bd-8a77-46ef-a219-ab49cca6b9d9",
   "metadata": {
    "tags": []
   },
   "outputs": [],
   "source": [
    "reference_scales = {\n",
    "    'max image radius': metadata.loc[metadata['valid'],'img_radius'].max(),\n",
    "    'max image offset': img_offset[metadata['valid']].max(),\n",
    "    'chicago length': 40. * 1000., # 40 km\n",
    "    'illinois length': 340. * 1000., # 340 km\n",
    "    'US width': 4500. * 1000., # 4,500 km\n",
    "}"
   ]
  },
  {
   "cell_type": "code",
   "execution_count": null,
   "id": "5c61d6e5-5518-4328-a781-8e675065119e",
   "metadata": {
    "tags": []
   },
   "outputs": [],
   "source": [
    "fig = plt.figure()\n",
    "ax = plt.gca()\n",
    "\n",
    "ax.plot(r, h)\n",
    "\n",
    "h_interp = scipy.interpolate.interp1d(r, h)\n",
    "for i, (reference_key, reference_scale) in enumerate(reference_scales.items()):\n",
    "    ax.axvline(\n",
    "        reference_scale,\n",
    "        color = '0.5',\n",
    "        linewidth = 1,\n",
    "    )\n",
    "    annot = ax.annotate(\n",
    "        text = '{}\\nh={:.2g} m'.format(reference_key, h_interp(reference_scale)),\n",
    "        xy = (reference_scale, 0.4 + 0.6 * (i + 1)/len(reference_scales) ),\n",
    "        xycoords = matplotlib.transforms.blended_transform_factory(ax.transData, ax.transAxes),\n",
    "        xytext = (5,-5),\n",
    "        textcoords = 'offset points',\n",
    "        va = 'top',\n",
    "        ha = 'left',\n",
    "        zorder = 100,\n",
    "    )\n",
    "\n",
    "ax.set_xscale('log')\n",
    "ax.set_yscale('log')\n",
    "\n",
    "ax.set_xlabel('surface radius [m]')\n",
    "ax.set_ylabel('height accuracy [m]')"
   ]
  },
  {
   "cell_type": "markdown",
   "id": "39f43ee0-0c0c-4d0c-8056-7b9370b1ee8b",
   "metadata": {},
   "source": [
    "Looks like we can ignore earth curvature for the images, at least as long as we're ignoring local topography."
   ]
  },
  {
   "cell_type": "code",
   "execution_count": null,
   "id": "c17f705a-de0a-4bbd-8d42-b659b063044d",
   "metadata": {
    "tags": []
   },
   "outputs": [],
   "source": [
    "# DEBUG\n",
    "### Manually-Georeferenced Image for Comparison"
   ]
  },
  {
   "cell_type": "code",
   "execution_count": null,
   "id": "63c3704d-211a-44dd-8306-c2a7d3718a2d",
   "metadata": {},
   "outputs": [],
   "source": [
    "# DEBUG\n",
    "# if manually_reffed_fn is not None:\n",
    "#     manually_reffed_fp = os.path.join(manually_reffed_dir, manually_reffed_fn)\n",
    "# else:\n",
    "#     man_fps = selected_metadata['manually_referenced_fp']\n",
    "#     man_fps = man_fps.loc[man_fps.notna()]\n",
    "        \n",
    "#     # Choose a random one\n",
    "#     ind_displayed = rng.choice(man_fps.index)"
   ]
  },
  {
   "cell_type": "markdown",
   "id": "a703b18f-1d2e-4a38-afd6-829c831a5320",
   "metadata": {
    "tags": []
   },
   "source": [
    "## Select Data w Valid Georeferencing"
   ]
  },
  {
   "cell_type": "code",
   "execution_count": null,
   "id": "f8ae9e49-ce17-4a33-8d2a-ead7285d0268",
   "metadata": {
    "tags": []
   },
   "outputs": [],
   "source": [
    "# Select images to mosaic\n",
    "selected_metadata = metadata.loc[\n",
    "    (metadata['camera_num'] == camera_num) # Correct camera\n",
    "    # & metadata['filename'].str.endswith('.raw') # Use raw data only for now\n",
    "    & metadata['valid'] # Valid georeferencing\n",
    "    & (metadata['img_radius'] > 1000.)\n",
    "]"
   ]
  },
  {
   "cell_type": "code",
   "execution_count": null,
   "id": "1f510baa-e111-4cb1-a7a3-b8682e78ba96",
   "metadata": {
    "tags": []
   },
   "outputs": [],
   "source": [
    "selected_and_reffed = selected_metadata.loc[selected_metadata['manually_referenced_fp'].notna()].copy()"
   ]
  },
  {
   "cell_type": "markdown",
   "id": "9993ac5d-42fa-41bb-8706-52b12d60b441",
   "metadata": {},
   "source": [
    "# Mosaicking and Georeferencing with Computer Vision\n",
    "With a good first guess for the location, we'll move on to aligning the images."
   ]
  },
  {
   "cell_type": "code",
   "execution_count": null,
   "id": "f54b66b1-6df0-45e3-9294-8ce6f912d3c7",
   "metadata": {},
   "outputs": [],
   "source": [
    "# Second img to display. Will act as a mosaic\n",
    "iloc_displayed = np.arange(selected_and_reffed.index.size)[selected_and_reffed.index == ind_displayed][0]\n",
    "ind_displayed2 = selected_and_reffed.index[iloc_displayed + 1]\n",
    "row2 = selected_and_reffed.loc[ind_displayed2]\n",
    "dst_img, dst_img_int = load_man_img(row2['manually_referenced_fp'], k_rot=0)"
   ]
  },
  {
   "cell_type": "code",
   "execution_count": null,
   "id": "ccafdfec-398f-4391-93e9-a74770c49566",
   "metadata": {},
   "outputs": [],
   "source": [
    "row = selected_metadata.loc[ind_displayed]"
   ]
  },
  {
   "cell_type": "markdown",
   "id": "fbb3282c-7f7e-4708-8ec3-1892455d9f87",
   "metadata": {},
   "source": [
    "## Image Matching Concepts\n",
    "Exploring them with our images."
   ]
  },
  {
   "cell_type": "markdown",
   "id": "c33380fc-622b-4258-a248-b601c0cd5b7c",
   "metadata": {},
   "source": [
    "### Example Images"
   ]
  },
  {
   "cell_type": "code",
   "execution_count": null,
   "id": "22a22531-3247-4793-b1cc-dceb7bdbef22",
   "metadata": {},
   "outputs": [],
   "source": [
    "img = flight.get_rgb_img(row['filepath'])"
   ]
  },
  {
   "cell_type": "code",
   "execution_count": null,
   "id": "fa334f87-01bf-450d-9b12-82b15979bd5c",
   "metadata": {},
   "outputs": [],
   "source": [
    "# SIFT.detect yells if not given an unsigned 8bit image. That doesn't seem like it should be the case,\n",
    "# but we'll just avoid it by converting.\n",
    "img_int = cv2.normalize(img, None, alpha=0, beta=255, norm_type=cv2.NORM_MINMAX, dtype=cv2.CV_8U)"
   ]
  },
  {
   "cell_type": "code",
   "execution_count": null,
   "id": "20cba0d0-19c8-4e21-b99c-f2f26a67699e",
   "metadata": {},
   "outputs": [],
   "source": [
    "gray = cv2.cvtColor(img, cv2.COLOR_RGB2GRAY)"
   ]
  },
  {
   "cell_type": "code",
   "execution_count": null,
   "id": "3996a2ee-3e6b-4e7f-810b-5caaeaa11525",
   "metadata": {},
   "outputs": [],
   "source": [
    "man_img, man_img_int = load_man_img(row['manually_referenced_fp'])"
   ]
  },
  {
   "cell_type": "markdown",
   "id": "c36f24f3-786f-4410-91e0-d7775dc7ee65",
   "metadata": {},
   "source": [
    "### Features\n",
    "In a sample image."
   ]
  },
  {
   "cell_type": "code",
   "execution_count": null,
   "id": "c79f65fc-3558-4909-aafc-393af25efec8",
   "metadata": {},
   "outputs": [],
   "source": [
    "# Some fraction of image, maybe useful for e.g. smoothing\n",
    "ksize = flight.img_shape[1] // 100"
   ]
  },
  {
   "cell_type": "code",
   "execution_count": null,
   "id": "4b5f2829-4cd6-4b73-9b90-83c1e3878376",
   "metadata": {},
   "outputs": [],
   "source": [
    "# Harris Corner Detection Response Map\n",
    "response_map = cv2.cornerHarris(gray, ksize//2, ksize, 0.04)"
   ]
  },
  {
   "cell_type": "code",
   "execution_count": null,
   "id": "92ecdde5-0096-4661-b705-9997c34f3ebc",
   "metadata": {},
   "outputs": [],
   "source": [
    "# As the function says\n",
    "good_features = cv2.goodFeaturesToTrack(gray, 25, 0.01, ksize)\n",
    "good_feature_xs, good_feature_ys = good_features.reshape((len(good_features),2)).transpose()"
   ]
  },
  {
   "cell_type": "code",
   "execution_count": null,
   "id": "5105dd09-5b9b-4d18-a3aa-831a00fc11a6",
   "metadata": {},
   "outputs": [],
   "source": [
    "# Blob detection with laplacian of gaussian\n",
    "convolved_img = cv2.GaussianBlur(gray, (ksize, ksize), 0)\n",
    "laplacian = cv2.Laplacian(convolved_img, -1)"
   ]
  },
  {
   "cell_type": "code",
   "execution_count": null,
   "id": "8ef134f3-81b5-47d7-8c73-658c057819b5",
   "metadata": {},
   "outputs": [],
   "source": [
    "img_ratio = flight.img_shape[0] / flight.img_shape[1]\n",
    "height_ratios = [3, 10 * img_ratio, 10 * img_ratio]\n",
    "fig = plt.figure(figsize=(20, sum(height_ratios)))\n",
    "ax_dict = fig.subplot_mosaic([['hist', 'hist'], ['img', 'response_map'], ['convolved', 'laplacian']], height_ratios=height_ratios)\n",
    "\n",
    "ax = ax_dict['hist']\n",
    "abs_response_values = np.abs(response_map.flatten())\n",
    "_ = ax.hist(\n",
    "    abs_response_values,\n",
    "    np.logspace(\n",
    "        np.log10(abs_response_values.min()),\n",
    "        np.log10(abs_response_values.max()),\n",
    "        128,\n",
    "    ),\n",
    "    color='k',\n",
    ")\n",
    "ax.set_xscale('log')\n",
    "ax.set_xlabel('absolute value of response values')\n",
    "ax.set_ylabel('frequency')\n",
    "ax.set_title('Harris response values')\n",
    "\n",
    "ax = ax_dict['img']\n",
    "ax.imshow(\n",
    "    gray,\n",
    "    cmap = 'Greys_r',\n",
    ")\n",
    "ax.scatter(\n",
    "    good_feature_xs,\n",
    "    good_feature_ys,\n",
    "    edgecolor=palette[1],\n",
    "    color='none',\n",
    "    marker='o',\n",
    "    s=100,\n",
    "    linewidth=2,\n",
    ")\n",
    "ax.set_title('grayscale image')\n",
    "\n",
    "ax = ax_dict['response_map']\n",
    "implot = ax.imshow(\n",
    "    response_map,\n",
    "    norm='log',\n",
    "    vmin=1e-12,\n",
    "    vmax=1e-4,\n",
    "    cmap=sns.color_palette(\"vlag\", as_cmap=True),\n",
    ")\n",
    "ax.scatter(\n",
    "    good_feature_xs,\n",
    "    good_feature_ys,\n",
    "    edgecolor='k',\n",
    "    color='none',\n",
    "    marker='o',\n",
    "    s=100,\n",
    "    linewidth=2,\n",
    ")\n",
    "\n",
    "ax.set_title('Harris response map')\n",
    "plt.colorbar(implot, ax=ax_dict['hist'])\n",
    "\n",
    "ax = ax_dict['convolved']\n",
    "ax.imshow(\n",
    "    convolved_img,\n",
    "    cmap = 'Greys_r',\n",
    ")\n",
    "ax.set_title('Gaussian convolution')\n",
    "\n",
    "ax = ax_dict['laplacian']\n",
    "ax.imshow(\n",
    "    laplacian,\n",
    "    cmap = 'Greys_r',\n",
    ")\n",
    "ax.set_title('Laplacian of Gaussian')\n",
    "\n",
    "plt.tight_layout()"
   ]
  },
  {
   "cell_type": "markdown",
   "id": "46727a63-76b5-4897-ae09-d0bd2ea62d7f",
   "metadata": {},
   "source": [
    "### SIFT and ORB\n",
    "\n",
    "I would use SURF too, but it's patented... To enable I should \"Set OPENCV_ENABLE_NONFREE CMake option and rebuild the library in function 'create'\""
   ]
  },
  {
   "cell_type": "code",
   "execution_count": null,
   "id": "473eae44-521f-4c60-b093-625a70131fc8",
   "metadata": {},
   "outputs": [],
   "source": [
    "# Make SIFT and ORB\n",
    "sift = cv2.SIFT_create()\n",
    "orb = cv2.ORB_create()"
   ]
  },
  {
   "cell_type": "code",
   "execution_count": null,
   "id": "5352c7f9-a0a3-4d9b-8107-0dbd91145086",
   "metadata": {},
   "outputs": [],
   "source": [
    "# Detect keypoints in un-referenced\n",
    "kp, des = sift.detectAndCompute(img_int, None)\n",
    "kp_orb, des_orb = orb.detectAndCompute(img_int, None)"
   ]
  },
  {
   "cell_type": "code",
   "execution_count": null,
   "id": "8f356553-de47-45c3-b9b9-2aa33996d6c3",
   "metadata": {},
   "outputs": [],
   "source": [
    "# Detect keypoints in referenced\n",
    "man_kp, man_des = sift.detectAndCompute(man_img_int, None)\n",
    "man_kp_orb, man_des_orb = orb.detectAndCompute(man_img_int, None)"
   ]
  },
  {
   "cell_type": "code",
   "execution_count": null,
   "id": "156aa3fa-8a39-4df7-8588-193e22afe946",
   "metadata": {},
   "outputs": [],
   "source": [
    "# Alter images to draw kp\n",
    "img_w_kp = cv2.drawKeypoints(img_int, kp, None)\n",
    "man_img_w_kp = cv2.drawKeypoints(man_img_int, man_kp, None)\n",
    "img_w_kp_orb = cv2.drawKeypoints(img_int, kp_orb, None)\n",
    "man_img_w_kp_orb = cv2.drawKeypoints(man_img_int, man_kp_orb, None)"
   ]
  },
  {
   "cell_type": "code",
   "execution_count": null,
   "id": "0f711651-c2bd-4725-a8fe-92d2a1719063",
   "metadata": {},
   "outputs": [],
   "source": [
    "# Also, calculate the kp coords for orb to draw the circles manually. Since there's fewer\n",
    "kp_orb_xs, kp_orb_ys = np.array([_.pt for _ in kp_orb]).transpose()\n",
    "man_kp_orb_xs, man_kp_orb_ys = np.array([_.pt for _ in man_kp_orb]).transpose()"
   ]
  },
  {
   "cell_type": "code",
   "execution_count": null,
   "id": "7ecff365-1c28-4c7b-acdd-ee7fcb36cd5c",
   "metadata": {},
   "outputs": [],
   "source": [
    "height_ratios = [10, 10, 10]\n",
    "fig = plt.figure(figsize=(20, sum(height_ratios)))\n",
    "ax_dict = fig.subplot_mosaic([['img', 'man_img'], ['img_w_kp', 'man_img_w_kp'], ['img_w_kp_orb', 'man_img_w_kp_orb']], height_ratios=height_ratios)\n",
    "\n",
    "ax = ax_dict['img']\n",
    "ax.imshow(\n",
    "    img\n",
    ")\n",
    "\n",
    "ax = ax_dict['man_img']\n",
    "ax.imshow(\n",
    "    man_img\n",
    ")\n",
    "\n",
    "ax = ax_dict['img_w_kp']\n",
    "ax.imshow(\n",
    "    img_w_kp\n",
    ")\n",
    "\n",
    "ax = ax_dict['man_img_w_kp']\n",
    "ax.imshow(\n",
    "    man_img_w_kp\n",
    ")\n",
    "\n",
    "ax = ax_dict['img_w_kp_orb']\n",
    "ax.imshow(\n",
    "    img,\n",
    ")\n",
    "ax.scatter(\n",
    "    kp_orb_xs,\n",
    "    kp_orb_ys,\n",
    "    edgecolor=palette[1],\n",
    "    color='none',\n",
    "    marker='o',\n",
    "    s=100,\n",
    "    linewidth=2,\n",
    ")\n",
    "\n",
    "ax = ax_dict['man_img_w_kp_orb']\n",
    "ax.imshow(\n",
    "    man_img,\n",
    ")\n",
    "ax.scatter(\n",
    "    man_kp_orb_xs,\n",
    "    man_kp_orb_ys,\n",
    "    edgecolor=palette[1],\n",
    "    color='none',\n",
    "    marker='o',\n",
    "    s=100,\n",
    "    linewidth=2,\n",
    ")\n",
    "\n",
    "plt.tight_layout()"
   ]
  },
  {
   "cell_type": "markdown",
   "id": "56312c2a-44e9-425f-a51d-db84ed9c9a80",
   "metadata": {},
   "source": [
    "### Identify Features"
   ]
  },
  {
   "cell_type": "code",
   "execution_count": null,
   "id": "aeb26c04-64ec-4e28-8a81-f8d778bde6d0",
   "metadata": {},
   "outputs": [],
   "source": [
    "# create BFMatcher object\n",
    "bf = cv2.BFMatcher_create(cv2.NORM_HAMMING)"
   ]
  },
  {
   "cell_type": "code",
   "execution_count": null,
   "id": "1f2043af-9db3-44e4-a95a-341584fd7369",
   "metadata": {},
   "outputs": [],
   "source": [
    "# Perform match\n",
    "matches = bf.match(des_orb, man_des_orb)\n",
    "# Sort them in the order of their distance.\n",
    "matches = sorted(matches, key = lambda x:x.distance)"
   ]
  },
  {
   "cell_type": "code",
   "execution_count": null,
   "id": "0fa10212-4374-4ac7-8582-49ec3e10a95f",
   "metadata": {},
   "outputs": [],
   "source": [
    "# Plot output\n",
    "height_ratios = [10, 10]\n",
    "fig = plt.figure(figsize=(10, img_ratio * sum(height_ratios)))\n",
    "ax_dict = fig.subplot_mosaic([['img'], ['man_img'],], height_ratios=height_ratios)\n",
    "\n",
    "ax = ax_dict['img']\n",
    "ax.imshow(\n",
    "    img\n",
    ")\n",
    "\n",
    "ax = ax_dict['man_img']\n",
    "ax.imshow(\n",
    "    man_img\n",
    ")\n",
    "\n",
    "for i in range(10):\n",
    "\n",
    "    match = matches[i]\n",
    "    xy = kp_orb[match.queryIdx].pt\n",
    "    man_xy = man_kp_orb[match.trainIdx].pt\n",
    "\n",
    "    con = ConnectionPatch(\n",
    "        xyA=xy,\n",
    "        xyB=man_xy,\n",
    "        coordsA='data',\n",
    "        coordsB='data',\n",
    "        axesA=ax_dict['img'],\n",
    "        axesB=ax_dict['man_img'],\n",
    "        color=palette[1],\n",
    "        linewidth=3,\n",
    "    )\n",
    "    ax.add_artist(con)"
   ]
  },
  {
   "cell_type": "markdown",
   "id": "2f2d745b-1d47-4b64-9915-7b4947772981",
   "metadata": {},
   "source": [
    "### Object Matching and Alignment"
   ]
  },
  {
   "cell_type": "code",
   "execution_count": null,
   "id": "c3ea27c1-8cda-4302-88cb-3773386fd7db",
   "metadata": {},
   "outputs": [],
   "source": [
    "# Points for the transform\n",
    "src_pts = np.array([kp_orb[m.queryIdx].pt for m in matches[:10]]).reshape(-1,1,2)\n",
    "dst_pts = np.array([man_kp_orb[m.trainIdx].pt for m in matches[:10]]).reshape(-1,1,2)"
   ]
  },
  {
   "cell_type": "code",
   "execution_count": null,
   "id": "82d10f44-dec2-443b-8b32-cf3eb106e345",
   "metadata": {},
   "outputs": [],
   "source": [
    "# Get the transform\n",
    "M, mask = cv2.findHomography(src_pts, dst_pts, cv2.RANSAC, 5.)\n",
    "mask = mask.ravel()"
   ]
  },
  {
   "cell_type": "code",
   "execution_count": null,
   "id": "d7946207-fa14-438c-a9c7-ba07d8f08b1a",
   "metadata": {},
   "outputs": [],
   "source": [
    "# Set up frame matrix\n",
    "frame = np.zeros((5,2))\n",
    "frame[1,1] = img_int.shape[0] - 1\n",
    "frame[2] = np.array([img_int.shape[1] - 1, img_int.shape[0] - 1])\n",
    "frame[3,0] = img_int.shape[1] - 1"
   ]
  },
  {
   "cell_type": "code",
   "execution_count": null,
   "id": "1567baab-867b-4d99-973d-9187fee53784",
   "metadata": {},
   "outputs": [],
   "source": [
    "# Pass into CV, including doing the annoying formatting\n",
    "frame = frame.reshape(-1,1,2)\n",
    "warped_xs, warped_ys = cv2.perspectiveTransform(frame, M).reshape((-1,2)).transpose()"
   ]
  },
  {
   "cell_type": "code",
   "execution_count": null,
   "id": "4daea4cf-c095-49b0-b040-a4413361d4d5",
   "metadata": {},
   "outputs": [],
   "source": [
    "# Warp the image itself\n",
    "warped_img = cv2.warpPerspective(img_int, M, (man_img_int.shape[1], man_img_int.shape[0]))"
   ]
  },
  {
   "cell_type": "code",
   "execution_count": null,
   "id": "c5ac2d7a-80ce-4da0-956b-32abc0046f5c",
   "metadata": {},
   "outputs": [],
   "source": [
    "# Plot output\n",
    "height_ratios = [10, 10]\n",
    "fig = plt.figure(figsize=(10, img_ratio * sum(height_ratios)))\n",
    "ax_dict = fig.subplot_mosaic([['man_img'], ['img'], ], height_ratios=height_ratios)\n",
    "\n",
    "ax = ax_dict['man_img']\n",
    "ax.imshow(\n",
    "    man_img\n",
    ")\n",
    "ax.plot(\n",
    "    warped_xs,\n",
    "    warped_ys,\n",
    "    color=palette[1],\n",
    "    linewidth=3,\n",
    ")\n",
    "ax.set_title('manually-referenced, with warped frame overlay')\n",
    "\n",
    "ax = ax_dict['img']\n",
    "ax.imshow(\n",
    "    warped_img\n",
    ")\n",
    "ax.plot(\n",
    "    warped_xs,\n",
    "    warped_ys,\n",
    "    color=palette[1],\n",
    "    linewidth=3,\n",
    ")\n",
    "ax.set_title('raw image, rotated')\n"
   ]
  },
  {
   "cell_type": "markdown",
   "id": "5ef8c4ce-d0ff-4a28-9562-1990edac0511",
   "metadata": {},
   "source": [
    "## Application to Different Images"
   ]
  },
  {
   "cell_type": "markdown",
   "id": "0362c763-8120-4d98-b025-10f0183f9a79",
   "metadata": {},
   "source": [
    "### Match Features"
   ]
  },
  {
   "cell_type": "code",
   "execution_count": null,
   "id": "facb0af7-328e-4214-818b-660fa5ec9fb5",
   "metadata": {},
   "outputs": [],
   "source": [
    "# Make SIFT and ORB\n",
    "orb = cv2.ORB_create()"
   ]
  },
  {
   "cell_type": "code",
   "execution_count": null,
   "id": "7be17ca0-aec0-4446-84f5-0ee25930e3a0",
   "metadata": {},
   "outputs": [],
   "source": [
    "# Detect keypoints in un-referenced\n",
    "kp, des = orb.detectAndCompute(man_img_int, None)\n",
    "dst_kp, dst_des = orb.detectAndCompute(dst_img_int, None)"
   ]
  },
  {
   "cell_type": "code",
   "execution_count": null,
   "id": "cee5ea34-23bc-43d8-b8a3-b34b4d73c887",
   "metadata": {},
   "outputs": [],
   "source": [
    "# create BFMatcher object\n",
    "bf = cv2.BFMatcher_create(cv2.NORM_HAMMING)"
   ]
  },
  {
   "cell_type": "code",
   "execution_count": null,
   "id": "3730c1f7-5d2e-431b-8567-a4fd5d8f5e4a",
   "metadata": {},
   "outputs": [],
   "source": [
    "# Perform match\n",
    "matches = bf.match(des, dst_des)\n",
    "# Sort them in the order of their distance.\n",
    "matches = sorted(matches, key = lambda x:x.distance)"
   ]
  },
  {
   "cell_type": "code",
   "execution_count": null,
   "id": "ebfec08e-58a5-40b5-bd46-157c18e9fcb0",
   "metadata": {},
   "outputs": [],
   "source": [
    "def get_zoom(img, center, sidelength):\n",
    "        \n",
    "    center = [int(_) for _ in center]\n",
    "    \n",
    "    i_min = center[1] - sidelength // 2\n",
    "    i_max = center[1] + sidelength // 2\n",
    "    j_min = center[0] - sidelength // 2\n",
    "    j_max = center[0] + sidelength // 2\n",
    "    \n",
    "    if i_min < 0:\n",
    "        i_min = 0\n",
    "    if j_min < 0:\n",
    "        j_min = 0\n",
    "    \n",
    "    return img[i_min:i_max, j_min:j_max]"
   ]
  },
  {
   "cell_type": "code",
   "execution_count": null,
   "id": "1ac61811-8577-44ad-9512-4d65ffa9fcd8",
   "metadata": {},
   "outputs": [],
   "source": [
    "mosaic = [['man_img', 'man_img', 'dst_img', 'dst_img', ], ]\n",
    "mosaic.append(list(range(4)))\n",
    "mosaic.append(list(range(4, 8)))"
   ]
  },
  {
   "cell_type": "code",
   "execution_count": null,
   "id": "062a2107-9fe0-430d-a5b0-8fa823bae02f",
   "metadata": {
    "tags": []
   },
   "outputs": [],
   "source": [
    "# Plot output\n",
    "fig = plt.figure(figsize=(7*len(mosaic[0]), 7*len(mosaic)))\n",
    "ax_dict = fig.subplot_mosaic(mosaic, height_ratios=[2, 1, 1])\n",
    "\n",
    "inspection_sidelength = 100\n",
    "\n",
    "ax = ax_dict['man_img']\n",
    "ax.imshow(\n",
    "    man_img\n",
    ")\n",
    "ax.set_title('img')\n",
    "\n",
    "ax = ax_dict['dst_img']\n",
    "ax.imshow(\n",
    "    dst_img\n",
    ")\n",
    "ax.set_title('dst img')\n",
    "\n",
    "for i in range(10):\n",
    "\n",
    "    match = matches[i]\n",
    "    xy = kp[match.queryIdx].pt\n",
    "    dst_xy = dst_kp[match.trainIdx].pt\n",
    "\n",
    "    con = ConnectionPatch(\n",
    "        xyA=xy,\n",
    "        xyB=dst_xy,\n",
    "        coordsA='data',\n",
    "        coordsB='data',\n",
    "        axesA=ax_dict['man_img'],\n",
    "        axesB=ax_dict['dst_img'],\n",
    "        color=palette[1],\n",
    "        linewidth=3,\n",
    "    )\n",
    "    ax.add_artist(con)\n",
    "    \n",
    "# Inspect the features\n",
    "for i in range(4):\n",
    "    \n",
    "    match = matches[i]\n",
    "    \n",
    "    # First image    \n",
    "    xy = kp[match.queryIdx].pt\n",
    "    xy = np.round(xy).astype(int)\n",
    "    zoom = get_zoom(\n",
    "        man_img,\n",
    "        xy,\n",
    "        inspection_sidelength\n",
    "    )\n",
    "    ax = ax_dict[2*i]\n",
    "    ax.imshow(zoom)\n",
    "    ax.set_title(f'img 1, match{i}')\n",
    "    \n",
    "    # Second image    \n",
    "    dst_xy = dst_kp[match.trainIdx].pt\n",
    "    dst_xy = np.round(dst_xy).astype(int)\n",
    "    zoom = get_zoom(\n",
    "        dst_img,\n",
    "        dst_xy,\n",
    "        inspection_sidelength\n",
    "    )\n",
    "    ax = ax_dict[2*i + 1]\n",
    "    ax.imshow(zoom)\n",
    "    ax.set_title(f'dst img, match{i}')\n",
    "    "
   ]
  },
  {
   "cell_type": "markdown",
   "id": "9898e387-c654-4ebf-9250-84aa577e05a2",
   "metadata": {},
   "source": [
    "### Warp and Blend"
   ]
  },
  {
   "cell_type": "code",
   "execution_count": null,
   "id": "2ca0af60-eae3-47db-9338-129fade1ad36",
   "metadata": {},
   "outputs": [],
   "source": [
    "# Points for the transform\n",
    "src_pts = np.array([kp[m.queryIdx].pt for m in matches]).reshape(-1,1,2)\n",
    "dst_pts = np.array([dst_kp[m.trainIdx].pt for m in matches]).reshape(-1,1,2)"
   ]
  },
  {
   "cell_type": "code",
   "execution_count": null,
   "id": "e5c5f18c-6829-4357-a4d9-410b8dec8c71",
   "metadata": {},
   "outputs": [],
   "source": [
    "# Get the transform\n",
    "M, mask = cv2.findHomography(src_pts, dst_pts, cv2.RANSAC, 5.)\n",
    "mask = mask.ravel()"
   ]
  },
  {
   "cell_type": "code",
   "execution_count": null,
   "id": "33c9fa32-915c-41ea-98dc-da4804291b33",
   "metadata": {},
   "outputs": [],
   "source": [
    "# Corners for the destination image\n",
    "dst_height, dst_width = dst_img_int.shape[:2]\n",
    "dst_corners = np.float32([[0, 0], [0, dst_height], [dst_width, dst_height], [dst_width, 0]])"
   ]
  },
  {
   "cell_type": "code",
   "execution_count": null,
   "id": "8f0d9eaf-7a09-4303-bda0-35be9644d322",
   "metadata": {},
   "outputs": [],
   "source": [
    "# Corners for image\n",
    "man_height, man_width = man_img_int.shape[:2]\n",
    "corners = np.float32([[0, 0], [0, man_height], [man_width, man_height], [man_width, 0]])\n",
    "transformed_corners = cv2.perspectiveTransform(corners.reshape(-1, 1, 2), M)"
   ]
  },
  {
   "cell_type": "code",
   "execution_count": null,
   "id": "f45b7949-9877-4fff-92de-dca5468d7e07",
   "metadata": {},
   "outputs": [],
   "source": [
    "# Get dimensions of combined image\n",
    "all_corners = np.concatenate([transformed_corners.reshape(-1, 2), dst_corners])\n",
    "x_min, y_min = all_corners.min(axis=0).astype('int')\n",
    "x_max, y_max = all_corners.max(axis=0).astype('int')\n",
    "width = x_max - x_min\n",
    "height = y_max - y_min"
   ]
  },
  {
   "cell_type": "code",
   "execution_count": null,
   "id": "6f5cd0de-6a2b-411f-aae3-5b978a34552f",
   "metadata": {},
   "outputs": [],
   "source": [
    "# Translation matrix to shift the transformed image within the new bounds\n",
    "translation_matrix = np.array([[1, 0, -x_min], [0, 1, -y_min], [0, 0, 1]]).astype(float)\n",
    "\n",
    "# Update the homography matrix to include the translation\n",
    "new_M = np.dot(translation_matrix, M)"
   ]
  },
  {
   "cell_type": "code",
   "execution_count": null,
   "id": "63d79bdd-b212-4321-a698-dd15f816869b",
   "metadata": {},
   "outputs": [],
   "source": [
    "# Warp the image being fit\n",
    "warped_img = cv2.warpPerspective(man_img_int, new_M, (width, height))\n",
    "\n",
    "# Translate the dst image\n",
    "translated_dst_img = cv2.warpPerspective(dst_img_int, translation_matrix, (width, height))"
   ]
  },
  {
   "cell_type": "code",
   "execution_count": null,
   "id": "a7a9d931-0af0-4106-b0ed-d1d74c29a693",
   "metadata": {},
   "outputs": [],
   "source": [
    "# Make masks for blending. To start we'll want to just overlay images. We can average later.\n",
    "# Overlaying means we only want to add warped image where the translated image does not exist\n",
    "dst_img_exists = (dst_img_int.sum(axis=2) > 0).astype(dst_img_int.dtype)\n",
    "translated_dst_img_exists = cv2.warpPerspective(dst_img_exists, translation_matrix, (width, height))"
   ]
  },
  {
   "cell_type": "code",
   "execution_count": null,
   "id": "cccf2976-fcb9-4f4c-8b24-263ba2fe3d27",
   "metadata": {},
   "outputs": [],
   "source": [
    "# Also make for th eother image, while at it\n",
    "img_exists = (man_img_int.sum(axis=2) > 0).astype(man_img_int.dtype)\n",
    "warped_img_exists = cv2.warpPerspective(img_exists, new_M, (width, height))\n",
    "warped_img_exists[translated_dst_img_exists.astype(bool)] = False"
   ]
  },
  {
   "cell_type": "code",
   "execution_count": null,
   "id": "cdaa1151-0484-4fde-b3ca-e1689d2e4bf7",
   "metadata": {},
   "outputs": [],
   "source": [
    "# Overlay\n",
    "include_warped_img = ~(translated_dst_img_exists.astype(bool))\n",
    "blended_img = copy.copy(translated_dst_img)\n",
    "blended_img[include_warped_img] = warped_img[include_warped_img]"
   ]
  },
  {
   "cell_type": "code",
   "execution_count": null,
   "id": "fbcac8df-6e8f-4ffc-8516-73d2c1991d72",
   "metadata": {},
   "outputs": [],
   "source": [
    "# Plot output\n",
    "height_ratios = [10, 10, 10, 30 ]\n",
    "fig = plt.figure(figsize=(20, sum(height_ratios)))\n",
    "ax_dict = fig.subplot_mosaic([['img', 'dst_img', ], ['warped_img', 'translated_dst_img'], [ 'warped_img_alpha', 'dst_img_alpha', ], ['blended_img', 'blended_img', ] ], height_ratios=height_ratios)\n",
    "\n",
    "ax = ax_dict['img']\n",
    "ax.imshow(\n",
    "    man_img,\n",
    ")\n",
    "ax.set_title('img')\n",
    "\n",
    "ax = ax_dict['warped_img']\n",
    "ax.imshow(\n",
    "    warped_img,\n",
    ")\n",
    "ax.set_title('warped img')\n",
    "\n",
    "ax = ax_dict['warped_img_alpha']\n",
    "ax.imshow(\n",
    "    warped_img_exists.astype(float),\n",
    "    vmin=0,\n",
    "    vmax=1,\n",
    "    cmap='Greys_r',\n",
    ")\n",
    "ax.set_title('warped img alpha')\n",
    "\n",
    "ax = ax_dict['dst_img']\n",
    "ax.imshow(\n",
    "    dst_img,\n",
    ")\n",
    "ax.set_title('dst img')\n",
    "\n",
    "\n",
    "ax = ax_dict['translated_dst_img']\n",
    "ax.imshow(\n",
    "    translated_dst_img,\n",
    ")\n",
    "ax.set_title('translated dst img')\n",
    "\n",
    "ax = ax_dict['dst_img_alpha']\n",
    "ax.imshow(\n",
    "    translated_dst_img_exists.astype(float),\n",
    "    vmin=0,\n",
    "    vmax=1,\n",
    "    cmap='Greys_r',\n",
    ")\n",
    "ax.set_title('dst img alpha')\n",
    "\n",
    "ax = ax_dict['blended_img']\n",
    "ax.imshow(\n",
    "    blended_img,\n",
    ")\n",
    "\n",
    "plt.tight_layout()\n",
    "\n",
    "for ax_key, ax in ax_dict.items():\n",
    "    ax.set_aspect('equal')"
   ]
  },
  {
   "cell_type": "markdown",
   "id": "5936c655-f803-478f-92fa-4d8dc6c011dc",
   "metadata": {},
   "source": [
    "## Validate"
   ]
  },
  {
   "cell_type": "code",
   "execution_count": null,
   "id": "2b1fa803-5703-4f0d-8313-416fc5d8cb02",
   "metadata": {},
   "outputs": [],
   "source": [
    "# Blended pixel coordinates\n",
    "blended_pxs = np.linspace(x_min, x_max, blended_img.shape[1], dtype='int')\n",
    "blended_pys = np.linspace(y_min, y_max, blended_img.shape[0], dtype='int')"
   ]
  },
  {
   "cell_type": "code",
   "execution_count": null,
   "id": "1432b14b-1bf2-45ec-9f30-b2c3c65f0b31",
   "metadata": {},
   "outputs": [],
   "source": [
    "# Get the ratio, accounting for divided by zero errors\n",
    "vmax = 3.\n",
    "denominator = copy.copy(translated_dst_img)\n",
    "numerator = copy.copy(blended_img)\n",
    "\n",
    "# Handle zero/zero\n",
    "denominator[np.isclose(denominator, 0.)] = 1.\n",
    "\n",
    "# Handle something / zero\n",
    "numerator[np.isclose(numerator, 0.)] = vmax\n",
    "\n",
    "# Ratio itself\n",
    "ratio = np.log10(numerator / denominator)\n",
    "ratio = ratio.sum(axis=2)"
   ]
  },
  {
   "cell_type": "code",
   "execution_count": null,
   "id": "94c4441a-fb9c-471c-9fb3-231e1be7a2c9",
   "metadata": {},
   "outputs": [],
   "source": [
    "img_views = {\n",
    "    'img': warped_img,\n",
    "    'dst': translated_dst_img,\n",
    "    'blended': blended_img,\n",
    "    'ratio': ratio,\n",
    "}"
   ]
  },
  {
   "cell_type": "markdown",
   "id": "c6db1a63-22d1-4d5e-8b4e-ba54136c5896",
   "metadata": {},
   "source": [
    "### Inspect Areas of Interest"
   ]
  },
  {
   "cell_type": "code",
   "execution_count": null,
   "id": "6bf5d6d9-accb-41e3-aa1f-ee9fa7158c3f",
   "metadata": {},
   "outputs": [],
   "source": [
    "sidelength = 100"
   ]
  },
  {
   "cell_type": "code",
   "execution_count": null,
   "id": "7cc40996-9945-4f08-8182-1bfc9f61938f",
   "metadata": {},
   "outputs": [],
   "source": [
    "points_of_interest = {}\n",
    "points_of_interest_descriptions = {}\n",
    "poi_keys = []"
   ]
  },
  {
   "cell_type": "code",
   "execution_count": null,
   "id": "a32b9be8-4a92-4dc0-8e09-dee31f7579eb",
   "metadata": {},
   "outputs": [],
   "source": [
    "# The strongest features\n",
    "for i, dst_point in enumerate(dst_pts.reshape(-1, 2)[:4]):\n",
    "    key = f'feature{i}'\n",
    "    points_of_interest[key] = dst_point\n",
    "    points_of_interest_descriptions[key] = f'rank {i+1} strong feature'\n",
    "    poi_keys.append(key)"
   ]
  },
  {
   "cell_type": "code",
   "execution_count": null,
   "id": "fdd1789d-bfe1-4ca4-8b84-a836cd9b61fe",
   "metadata": {
    "tags": []
   },
   "outputs": [],
   "source": [
    "# The edges between images\n",
    "# Get by feature finding the alpha mask\n",
    "alpha_kp, alpha_ds = sift.detectAndCompute(translated_dst_img_exists*255, None)\n",
    "count = 0\n",
    "poi_prev = (np.inf, np.inf)\n",
    "all_blended_fracs = []\n",
    "for i, corner in enumerate(alpha_kp):\n",
    "    key = f'dstcorner{i}'\n",
    "    \n",
    "    poi = np.array(corner.pt)\n",
    "    \n",
    "    # Skip ones where the light level is low\n",
    "    blended_img_zoom = get_zoom(blended_img, poi, sidelength)\n",
    "    blended_frac = blended_img_zoom.sum() / (255 * sidelength**2.)\n",
    "    all_blended_fracs.append(blended_frac)\n",
    "    if blended_frac < 0.015:\n",
    "        continue\n",
    "    \n",
    "    # Skip ones that bunch up\n",
    "    if np.linalg.norm(poi - poi_prev) < np.sqrt(2.)*sidelength:\n",
    "        continue\n",
    "        \n",
    "    # Skip ones where there's <50% overlap with the warped image non-zero region\n",
    "    warped_img_exists_zoom = get_zoom(warped_img_exists, poi, sidelength)\n",
    "    if warped_img_exists_zoom.sum() < 0.5 * sidelength**2:\n",
    "        continue\n",
    "        \n",
    "    # Skip ones where it's not on the edge of the first image\n",
    "    translated_dst_img_exists_zoom = get_zoom(translated_dst_img_exists, poi, sidelength)\n",
    "    if translated_dst_img_exists_zoom.sum() > 0.9 * sidelength**2:\n",
    "        continue\n",
    "        \n",
    "    count += 1\n",
    "    \n",
    "    points_of_interest[key] = poi\n",
    "    points_of_interest_descriptions[key] = f'interface {i}'\n",
    "    poi_keys.append(key)\n",
    "    poi_prev = poi\n",
    "    \n",
    "    if count > 4:\n",
    "        break"
   ]
  },
  {
   "cell_type": "code",
   "execution_count": null,
   "id": "7fcdf83d-088a-4a16-9300-5053b9b46569",
   "metadata": {},
   "outputs": [],
   "source": [
    "# Create a subplot mosaic arrangement\n",
    "zoom_keys = ['img', 'dst', 'blended', 'ratio']\n",
    "width_ratios = [1, 1, 1, 1.1]\n",
    "subplot_mosaic = [[f'{poi_key}_{zoom_key}' for zoom_key in zoom_keys] for poi_key in poi_keys]"
   ]
  },
  {
   "cell_type": "code",
   "execution_count": null,
   "id": "e6088199-2fee-41c7-b946-e36261fffc74",
   "metadata": {},
   "outputs": [],
   "source": [
    "n_col = len(subplot_mosaic[0])\n",
    "n_row = len(subplot_mosaic)\n",
    "scaling = plt.rcParams['figure.figsize'][1]\n",
    "fig = plt.figure(figsize=(scaling*sum(width_ratios), scaling*n_row))\n",
    "ax_dict = fig.subplot_mosaic(subplot_mosaic, width_ratios=width_ratios)\n",
    "\n",
    "for poi_key in poi_keys:\n",
    "    for zoom_key in zoom_keys:\n",
    "        \n",
    "        ax = ax_dict[f'{poi_key}_{zoom_key}']\n",
    "        \n",
    "        # Get the image subset\n",
    "        img_j = img_views[zoom_key]\n",
    "        zoom = get_zoom(\n",
    "            img_j,\n",
    "            points_of_interest[poi_key],\n",
    "            sidelength,\n",
    "        )\n",
    "        \n",
    "        if not ('ratio' in zoom_key):            \n",
    "            ax.imshow(zoom)\n",
    "        else:\n",
    "            vmax = vmax\n",
    "            vmin = -vmax\n",
    "            mesh_color = ax.pcolormesh(\n",
    "                zoom,\n",
    "                vmin=vmin,\n",
    "                vmax=vmax,\n",
    "                cmap=sns.color_palette('vlag', as_cmap='True')\n",
    "            )\n",
    "            plt.colorbar(mesh_color, ax=ax)\n",
    "            \n",
    "        ax.set_title(\n",
    "            f'{points_of_interest_descriptions[poi_key]} -- {zoom_key}'\n",
    "        )\n",
    "            \n",
    "for ax_key, ax in ax_dict.items():\n",
    "    ax.set_aspect('equal')"
   ]
  },
  {
   "cell_type": "markdown",
   "id": "81ca8f1f-1dfc-42af-bf8e-ae9369f41908",
   "metadata": {},
   "source": [
    "Each column is a different view of two images merged together. Leftmost is the first image, left center is the second image, right center is the merged image, and rightmost is the ratio of the merged image to the second image.  Each row highlights a different part of the blended image. The first few rows highlight some of the strongest features in the images. The rest highlight randomly-chosen interfaces between the images.\n",
    "Right now I'm just merging the images together by just choosing one in any areas there's conflict. This has the nice effect of avoiding any ghosting."
   ]
  },
  {
   "cell_type": "markdown",
   "id": "9459997b-dd9c-4bf4-a8a0-7ae31b0e8b66",
   "metadata": {
    "tags": []
   },
   "source": [
    "# Visualize"
   ]
  },
  {
   "cell_type": "markdown",
   "id": "7439d2c9-0dc5-4849-81d6-120c797b4d91",
   "metadata": {},
   "source": [
    "## Folium"
   ]
  },
  {
   "cell_type": "code",
   "execution_count": null,
   "id": "2290f6b4-8ec3-4c68-8b7a-ff3f6204ed02",
   "metadata": {},
   "outputs": [],
   "source": [
    "flight_center = (selected_and_reffed['GPSLat'].median(), selected_and_reffed['GPSLong'].median())\n",
    "m = folium.Map(location=flight_center, zoom_start=10)"
   ]
  },
  {
   "cell_type": "markdown",
   "id": "209352d6-7923-4842-b40d-4c99d5fc8671",
   "metadata": {},
   "source": [
    "### S2 Image"
   ]
  },
  {
   "cell_type": "code",
   "execution_count": null,
   "id": "1e36fd0f-e372-4639-b008-63f8711dd99a",
   "metadata": {
    "tags": []
   },
   "outputs": [],
   "source": [
    "def add_ee_layer(self, ee_image_object, vis_params, name):\n",
    "    \"\"\"Adds a method for displaying Earth Engine image tiles to folium map.\"\"\"\n",
    "    map_id_dict = ee.Image(ee_image_object).getMapId(vis_params)\n",
    "    folium.raster_layers.TileLayer(\n",
    "        tiles=map_id_dict['tile_fetcher'].url_format,\n",
    "        attr='Map Data &copy; <a href=\"https://earthengine.google.com/\">Google Earth Engine</a>',\n",
    "        name=name,\n",
    "        overlay=True,\n",
    "        control=True\n",
    "    ).add_to(self)\n",
    "\n",
    "# Add Earth Engine drawing method to folium.\n",
    "folium.Map.add_ee_layer = add_ee_layer"
   ]
  },
  {
   "cell_type": "code",
   "execution_count": null,
   "id": "86c5d194-07ef-4d28-a697-9ee13b8b80a9",
   "metadata": {},
   "outputs": [],
   "source": [
    "# Add S2 image\n",
    "mosaic_center_point = ee.Geometry.Point(flight_center, proj=latlon_crs_code)\n",
    "vis_params = {\n",
    "    'region': mosaic_center_point.buffer(10000.),\n",
    "    'min': 0.0,\n",
    "    'max': 0.3,\n",
    "    'bands': ['B4', 'B3', 'B2'],\n",
    "}\n",
    "m.add_ee_layer(s2_img, vis_params, 's2')"
   ]
  },
  {
   "cell_type": "markdown",
   "id": "7b169bdf-5b7d-49b3-9a5c-3eab8e8d7521",
   "metadata": {},
   "source": [
    "### Flight path"
   ]
  },
  {
   "cell_type": "code",
   "execution_count": null,
   "id": "cd469a1a-e94d-4150-ae31-cab427db8cd5",
   "metadata": {
    "tags": []
   },
   "outputs": [],
   "source": [
    "# Flight path\n",
    "flight_group = folium.FeatureGroup(name='flight path')\n",
    "folium.PolyLine(\n",
    "    metadata[['GPSLat','GPSLong']],\n",
    "    tooltip='Flight Path',\n",
    "    color = '#000000',\n",
    "    control = True,\n",
    "    name = 'flight path',\n",
    ").add_to(flight_group)\n",
    "flight_group.add_to(m)"
   ]
  },
  {
   "cell_type": "code",
   "execution_count": null,
   "id": "9c527c15-6898-4a8e-8be2-3ce69aa935c1",
   "metadata": {
    "tags": []
   },
   "outputs": [],
   "source": [
    "# Image center, lower-left, and upper-right paths\n",
    "image_paths_group = folium.FeatureGroup(name='image paths')\n",
    "# Center\n",
    "folium.PolyLine(\n",
    "    selected_metadata[['img_center_lat', 'img_center_lon']],\n",
    "    tooltip='Image Centers',\n",
    "    color = palette.as_hex()[0],\n",
    "    control = True,\n",
    "    name = 'image centers',\n",
    ").add_to(image_paths_group)\n",
    "# Lower-left\n",
    "folium.PolyLine(\n",
    "    np.array([selected_metadata['img_ll_lat'], selected_metadata['img_ll_lon']]).transpose(),\n",
    "    tooltip='Image Lower Left',\n",
    "    color = palette.as_hex()[1],\n",
    "    control = True,\n",
    "    name = 'image lower left',\n",
    ").add_to(image_paths_group)\n",
    "# Upper-right\n",
    "folium.PolyLine(\n",
    "    np.array([selected_metadata['img_ur_lat'], selected_metadata['img_ur_lon']]).transpose(),\n",
    "    tooltip='Image Upper Right',\n",
    "    color = palette.as_hex()[2],\n",
    "    control = True,\n",
    "    name = 'image upper right',\n",
    ").add_to(image_paths_group)\n",
    "image_paths_group.add_to(m)"
   ]
  },
  {
   "cell_type": "markdown",
   "id": "16096958-0b43-4d01-b86b-a37da87b1953",
   "metadata": {},
   "source": [
    "### Test Image Bounds"
   ]
  },
  {
   "cell_type": "code",
   "execution_count": null,
   "id": "41edddd4-845c-4e50-a2f1-0fd62c51dbbb",
   "metadata": {
    "tags": []
   },
   "outputs": [],
   "source": [
    "# Marker for the test image\n",
    "# Center\n",
    "test_img_group = folium.FeatureGroup(name='test image')\n",
    "folium.Marker(\n",
    "    row[['img_center_lat', 'img_center_lon']].values,\n",
    "    popup='Test Image; ind={}'.format(ind_displayed),\n",
    "    icon=folium.Icon(color='gray',icon_color=palette.as_hex()[0]),\n",
    ").add_to(test_img_group)\n",
    "# Lower left\n",
    "folium.Marker(\n",
    "    row[['img_ll_lat', 'img_ll_lon']].values,\n",
    "    popup='Lower Left; ind={}'.format(ind_displayed),\n",
    "    icon=folium.Icon(color='gray',icon_color=palette.as_hex()[1]),\n",
    ").add_to(test_img_group)\n",
    "# Upper left\n",
    "folium.Marker(\n",
    "    row[['img_ul_lat', 'img_ul_lon']].values,\n",
    "    popup='Upper Left; ind={}'.format(ind_displayed),\n",
    "    icon=folium.Icon(color='gray',icon_color=palette.as_hex()[3]),\n",
    ").add_to(test_img_group)\n",
    "# Lower right\n",
    "folium.Marker(\n",
    "    row[['img_lr_lat', 'img_lr_lon']].values,\n",
    "    popup='Lower Right; ind={}'.format(ind_displayed),\n",
    "    icon=folium.Icon(color='gray',icon_color=palette.as_hex()[4]),\n",
    ").add_to(test_img_group)\n",
    "# Upper Right\n",
    "folium.Marker(\n",
    "    row[['img_ur_lat', 'img_ur_lon']].values,\n",
    "    popup='Upper Right; ind={}'.format(ind_displayed),\n",
    "    icon=folium.Icon(color='gray',icon_color=palette.as_hex()[2]),\n",
    ").add_to(test_img_group)"
   ]
  },
  {
   "cell_type": "code",
   "execution_count": null,
   "id": "53d0dfc2-3a48-4496-a2e2-71c6910769a7",
   "metadata": {
    "tags": []
   },
   "outputs": [],
   "source": [
    "# Square box that should enclose a given image\n",
    "\n",
    "# Square in cartesian space\n",
    "x_length = row['img_x_max'] - row['img_x_min']\n",
    "y_length = row['img_y_max'] - row['img_y_min']\n",
    "inclusive_halflength = np.max([x_length, y_length]) / 2.\n",
    "square_coords = np.array([\n",
    "    [row['img_center_x'] - inclusive_halflength, row['img_center_y'] - inclusive_halflength],\n",
    "    [row['img_center_x'] + inclusive_halflength, row['img_center_y'] - inclusive_halflength],\n",
    "    [row['img_center_x'] + inclusive_halflength, row['img_center_y'] + inclusive_halflength],\n",
    "    [row['img_center_x'] - inclusive_halflength, row['img_center_y'] + inclusive_halflength],\n",
    "    [row['img_center_x'] - inclusive_halflength, row['img_center_y'] - inclusive_halflength],\n",
    "])\n",
    "# Convert to latlong\n",
    "square_coords_lat, square_coords_lon = cart_to_latlon.transform(\n",
    "    square_coords[:,0],\n",
    "    square_coords[:,1],\n",
    ")\n",
    "folium.vector_layers.Polygon(\n",
    "    np.array([square_coords_lat, square_coords_lon]).transpose(),\n",
    ").add_to(test_img_group)"
   ]
  },
  {
   "cell_type": "code",
   "execution_count": null,
   "id": "8b5d141a-c3c0-4fc2-8981-b1dc92f0c3a0",
   "metadata": {},
   "outputs": [],
   "source": [
    "test_img_group.add_to(m)"
   ]
  },
  {
   "cell_type": "markdown",
   "id": "5b621021-42d1-426d-a6d5-370a86f5e888",
   "metadata": {},
   "source": [
    "### Manually Georeferenced"
   ]
  },
  {
   "cell_type": "markdown",
   "id": "d94c47a7-673c-4f0e-8f11-64d9b955c11d",
   "metadata": {},
   "source": [
    "#### Image"
   ]
  },
  {
   "cell_type": "code",
   "execution_count": null,
   "id": "c5c1a3ee-9c93-49bf-a96b-aeef822a3aec",
   "metadata": {},
   "outputs": [],
   "source": [
    "dataset = gdal.Open(metadata.loc[ind_displayed,'manually_referenced_fp'])"
   ]
  },
  {
   "cell_type": "code",
   "execution_count": null,
   "id": "e6918e96-a987-488f-874a-afb911ae3417",
   "metadata": {},
   "outputs": [],
   "source": [
    "x_min_man, px_width, x_rot, y_max_man, y_rot, px_height = dataset.GetGeoTransform()\n",
    "x_max_man = x_min_man + px_width * dataset.RasterXSize\n",
    "y_min_man = y_max_man + px_height * dataset.RasterYSize"
   ]
  },
  {
   "cell_type": "code",
   "execution_count": null,
   "id": "abf62e3f-0449-4e54-b89b-bef1f09fc84e",
   "metadata": {},
   "outputs": [],
   "source": [
    "man_crs = pyproj.CRS(dataset.GetProjection())\n",
    "man_to_latlong = pyproj.Transformer.from_crs(man_crs, latlon_crs, always_xy=True)"
   ]
  },
  {
   "cell_type": "code",
   "execution_count": null,
   "id": "7666436e-7d6b-41a6-9083-69b1ae2edf77",
   "metadata": {},
   "outputs": [],
   "source": [
    "lon_bounds_man, lat_bounds_man = man_to_latlong.transform([x_min_man, x_max_man], [y_min_man, y_max_man])"
   ]
  },
  {
   "cell_type": "code",
   "execution_count": null,
   "id": "9171ab77-5237-4193-bf3b-f7c7dd8c0f5e",
   "metadata": {},
   "outputs": [],
   "source": [
    "folium.raster_layers.ImageOverlay(\n",
    "    dataset.ReadAsArray().transpose(1,2,0),\n",
    "    bounds=[[lat_bounds_man[0], lon_bounds_man[0]], [lat_bounds_man[1], lon_bounds_man[1]]],\n",
    "    name='manually georeferenced',\n",
    ").add_to(m)"
   ]
  },
  {
   "cell_type": "markdown",
   "id": "3e003fb9-6ee0-444a-975a-d2a6496147bd",
   "metadata": {},
   "source": [
    "#### Flight Path"
   ]
  },
  {
   "cell_type": "code",
   "execution_count": null,
   "id": "84dfbed2-c41f-4a22-aed2-addb166cf9b4",
   "metadata": {},
   "outputs": [],
   "source": [
    "# Image centers according to manual referencing\n",
    "man_image_path_group = folium.FeatureGroup(name='manually-referenced image path')\n",
    "man_latlons = np.array(cart_to_latlon.transform(\n",
    "    *selected_and_reffed[['man_x_center', 'man_y_center']].values.transpose()\n",
    ")).transpose()\n",
    "folium.PolyLine(\n",
    "    man_latlons,\n",
    "    tooltip='manually-referenced camera image centers',\n",
    "    color=palette.as_hex()[-1-i],\n",
    "    control=True,\n",
    "    name='manually-referenced image centers'\n",
    ").add_to(man_image_path_group)\n",
    "man_image_path_group.add_to(m)"
   ]
  },
  {
   "cell_type": "markdown",
   "id": "8fdb6141-acaf-4ac5-b9b7-de28193fdc4c",
   "metadata": {},
   "source": [
    "### Finalize"
   ]
  },
  {
   "cell_type": "code",
   "execution_count": null,
   "id": "5418b6c7-9225-44fb-bc46-96ab0ac3e452",
   "metadata": {},
   "outputs": [],
   "source": [
    "# Add widgets\n",
    "m.add_child(folium.LayerControl())\n",
    "print('Layer control added.')"
   ]
  },
  {
   "cell_type": "markdown",
   "id": "70a658f4-2446-4e8d-b32e-542478f198ea",
   "metadata": {},
   "source": [
    "### Show"
   ]
  },
  {
   "cell_type": "code",
   "execution_count": null,
   "id": "ad05855a-e3f9-440e-a37f-d1f32776ca7b",
   "metadata": {
    "tags": []
   },
   "outputs": [],
   "source": [
    "m"
   ]
  },
  {
   "cell_type": "markdown",
   "id": "be75cb37-4c3d-42a0-82ea-a4817c4283be",
   "metadata": {},
   "source": [
    "# Scratch"
   ]
  },
  {
   "cell_type": "markdown",
   "id": "ce4be33b-5cb9-4b65-9ba9-1b4a56587f64",
   "metadata": {},
   "source": [
    "## Geemap"
   ]
  },
  {
   "cell_type": "code",
   "execution_count": null,
   "id": "72c46897-77ab-4c0f-ad53-57b922b4c955",
   "metadata": {},
   "outputs": [],
   "source": [
    "import geemap"
   ]
  },
  {
   "cell_type": "code",
   "execution_count": null,
   "id": "a4c8cf8a-a75c-4928-9050-ff561bc895a4",
   "metadata": {
    "tags": []
   },
   "outputs": [],
   "source": [
    "m = geemap.Map(center=mosaic_center_latlong, zoom=10)"
   ]
  },
  {
   "cell_type": "code",
   "execution_count": null,
   "id": "92359eaf-6ec3-4c56-98b6-68a57b08f048",
   "metadata": {},
   "outputs": [],
   "source": [
    "vis_params = {\n",
    "    'region': mosaic_center_point.buffer(10000.),\n",
    "    'min': 0.0,\n",
    "    'max': 0.3,\n",
    "    'bands': ['B4', 'B3', 'B2'],\n",
    "}"
   ]
  },
  {
   "cell_type": "code",
   "execution_count": null,
   "id": "3eaab028-57f7-4797-b314-fca7671667b9",
   "metadata": {
    "tags": []
   },
   "outputs": [],
   "source": [
    "m.add_layer(\n",
    "    s2_img,\n",
    "    vis_params,\n",
    ")"
   ]
  },
  {
   "cell_type": "code",
   "execution_count": null,
   "id": "bc17830a-8002-4099-b0e1-86351a8fd4ec",
   "metadata": {},
   "outputs": [],
   "source": [
    "m"
   ]
  },
  {
   "cell_type": "markdown",
   "id": "cb92c19d-5b60-4a34-bc36-da54e13b3b08",
   "metadata": {},
   "source": [
    "## Combine two images"
   ]
  },
  {
   "cell_type": "code",
   "execution_count": null,
   "id": "0d7be11f-215c-4310-b4f7-69cc693c97ad",
   "metadata": {},
   "outputs": [],
   "source": [
    "class Mosaicker:\n",
    "    \n",
    "    def __init__(self):\n",
    "\n",
    "        pass\n",
    "        \n",
    "    def create_mosaick(self, src_imgs):\n",
    "    \n",
    "        stitcher = cv2.Stitcher_create(1)\n",
    "        \n",
    "        # Nice built-in-mosaicking found in OpenCV\n",
    "        status, mosaick = stitcher.stitch(src_imgs)\n",
    "        \n",
    "        self.mosaick = mosaick\n",
    "        \n",
    "        return self.mosaick\n",
    "        \n",
    "    def detect_compute_transform(self, src_img, dst_img, dst_extent, n_matches_used=10):\n",
    "        \n",
    "        src_img = copy.copy(src_img)\n",
    "        dst_img = copy.copy(dst_img)\n",
    "\n",
    "        # Feature detection\n",
    "        orb = cv2.ORB_create()\n",
    "        src_kp, src_des = orb.detectAndCompute(src_img, None)\n",
    "        dst_kp, dst_des = orb.detectAndCompute(dst_img, None)\n",
    "\n",
    "        # Matching\n",
    "        bf = cv2.BFMatcher_create(cv2.NORM_HAMMING)\n",
    "        matches = bf.match(src_des, dst_des)\n",
    "        matches = sorted(matches, key = lambda x:x.distance)\n",
    "\n",
    "        # Points for the transform\n",
    "        src_pts = np.array([src_kp[m.queryIdx].pt for m in matches[:n_matches_used]]).reshape(-1,1,2)\n",
    "        dst_pts = np.array([dst_kp[m.trainIdx].pt for m in matches[:n_matches_used]]).reshape(-1,1,2)\n",
    "\n",
    "        # Get the transform itself\n",
    "        M, mask = cv2.findHomography(src_pts, dst_pts, cv2.RANSAC, 5.)\n",
    "\n",
    "        # Transform the src pixel frame to the dst pixel frame\n",
    "        corner_coords = np.array([[0., 0.], [blended.shape[1] - 1, blended.shape[0] - 1]])\n",
    "        corner_coords = corner_coords.reshape(-1,1,2) # Add an axis for formatting reasons\n",
    "        dst_frame_corner_coords = cv2.perspectiveTransform(corner_coords, M)\n",
    "        dst_frame_corner_coords = dst_frame_corner_coords.reshape((-1,2))\n",
    "\n",
    "        # And now convert to the geographic frame\n",
    "        corner_xs, corner_ys = dst_frame_corner_coords.transpose()\n",
    "        corner_xs = dst_extent[0] + (dst_extent[1] - dst_extent[0]) / (dst_img.shape[1] - 1 ) * corner_xs\n",
    "        # Note we have y_min and y_max switched because of raster format\n",
    "        corner_ys = dst_extent[3] + (dst_extent[2] - dst_extent[3]) / (dst_img.shape[0] - 1 ) * corner_ys\n",
    "        \n",
    "        # Store some variables for easy access\n",
    "        self.src_pts = src_pts\n",
    "        self.dst_pts = dst_pts\n",
    "\n",
    "        return corner_xs, corner_ys"
   ]
  },
  {
   "cell_type": "code",
   "execution_count": null,
   "id": "6f439b53-894a-4064-966a-4f72968d347d",
   "metadata": {},
   "outputs": [],
   "source": [
    "mosaicker = Mosaicker()"
   ]
  },
  {
   "cell_type": "code",
   "execution_count": null,
   "id": "a67a52c6-d9f0-448d-af25-42d18b15ca70",
   "metadata": {},
   "outputs": [],
   "source": [
    "blended = mosaicker.create_mosaick(man_img_ints)"
   ]
  },
  {
   "cell_type": "code",
   "execution_count": null,
   "id": "d453ea76-4172-4002-bbf5-a760f9ae2e6c",
   "metadata": {},
   "outputs": [],
   "source": [
    "# Get coords out\n",
    "man_img_extent = [rows[0]['man_img_x_min'], rows[0]['man_img_x_max'], rows[0]['man_img_y_min'], rows[0]['man_img_y_max'], ]\n",
    "corner_xs, corner_ys = mosaicker.detect_compute_transform(\n",
    "    blended,\n",
    "    man_img_ints[0],\n",
    "    man_img_extent,\n",
    ")"
   ]
  },
  {
   "cell_type": "markdown",
   "id": "16ac11bd-a29d-4533-944d-c4dc4517fbd0",
   "metadata": {},
   "source": [
    "## Validate"
   ]
  },
  {
   "cell_type": "code",
   "execution_count": null,
   "id": "6d9dd405-ba15-41e9-ae12-d0d7a2e1d387",
   "metadata": {},
   "outputs": [],
   "source": [
    "# Blended cartesian coordinates\n",
    "blended_xs = row['man_img_x_min'] + (row['man_img_x_max'] - row['man_img_x_min']) / (man_img_int.shape[1] - 1) * blended_pxs\n",
    "blended_ys = row['man_img_y_min'] + (row['man_img_y_max'] - row['man_img_y_min']) / (man_img_int.shape[0] - 1) * blended_pys"
   ]
  },
  {
   "cell_type": "code",
   "execution_count": null,
   "id": "908f7b64-53cd-4bab-a977-83a150994830",
   "metadata": {},
   "outputs": [],
   "source": [
    "# Identify subset of overall to compare\n",
    "subset_inds_x = np.arange(blended_xs.size)[(\n",
    "    (row['man_img_x_min'] < blended_xs)\n",
    "    & (blended_xs < row['man_img_x_max'])\n",
    ")]\n",
    "subset_inds_y = np.arange(blended_ys.size)[(\n",
    "    (row['man_img_y_min'] < blended_ys)\n",
    "    & (blended_ys < row['man_img_y_max'])\n",
    ")]\n",
    "subset_inds_x, subset_inds_y = np.meshgrid(subset_inds_x, subset_inds_y)\n",
    "blended_subset = blended_img[subset_inds_y.flatten(), subset_inds_x.flatten()].reshape(\n",
    "    (subset_inds_y.shape[0], subset_inds_x.shape[1], -1)\n",
    ")\n",
    "blended_subset = np.rot90(blended_subset, 2)"
   ]
  },
  {
   "cell_type": "code",
   "execution_count": null,
   "id": "91fe28d2-25ea-4bbb-b317-7d9c0e7b6764",
   "metadata": {},
   "outputs": [],
   "source": [
    "# Resized blended, and ratio to prior\n",
    "resized_blended_subset = cv2.resize(blended_subset, (man_img_int.shape[1], man_img_int.shape[0]))\n",
    "ratio = np.log10(resized_blended_subset / man_img_int)\n",
    "vmax = np.max([-np.min(ratio[np.isfinite(ratio)]), np.max(ratio[np.isfinite(ratio)])])\n",
    "vmin = -vmax"
   ]
  },
  {
   "cell_type": "markdown",
   "id": "1bb1b39a-1327-4ada-869a-13ddd19b534f",
   "metadata": {},
   "source": [
    "### Histogram"
   ]
  },
  {
   "cell_type": "code",
   "execution_count": null,
   "id": "5120092e-0b0f-4c15-916f-e9c0f8622981",
   "metadata": {},
   "outputs": [],
   "source": [
    "# Compare color distributions\n",
    "fig = plt.figure(figsize=(20,6))\n",
    "ax_dict = fig.subplot_mosaic([['r', 'g', 'b']])\n",
    "                                             \n",
    "for i, band in enumerate('rgb'):\n",
    "    \n",
    "    ax = ax_dict[band]\n",
    "\n",
    "    _ = ax.hist(\n",
    "        man_img_int[:,:,i].flatten(),\n",
    "        bins,\n",
    "        log=True,\n",
    "        histtype='step',\n",
    "        linewidth=6,\n",
    "        color=palette[0],\n",
    "        density=True,\n",
    "        label='original',\n",
    "    )\n",
    "    \n",
    "    _ = ax.hist(\n",
    "        blended_subset[:,:,i].flatten(),\n",
    "        bins,\n",
    "        log=True,\n",
    "        histtype='step',\n",
    "        linewidth=4,\n",
    "        color=palette[1],\n",
    "        density=True,\n",
    "        label='blended',\n",
    "    )\n",
    "    \n",
    "    _ = ax.hist(\n",
    "        resized_blended_subset[:,:,i].flatten(),\n",
    "        bins,\n",
    "        log=True,\n",
    "        histtype='step',\n",
    "        linewidth=2,\n",
    "        color=palette[2],\n",
    "        density=True,\n",
    "        label='blended',\n",
    "    )\n",
    "    \n",
    "    ax.set_ylim(1e-3, 1)\n",
    "    ax.set_xlim(0, 50)\n",
    "    ax.set_ylabel(f'{band} band values')\n",
    "    \n",
    "ax.legend()"
   ]
  },
  {
   "cell_type": "markdown",
   "id": "4bd6a096-cc88-4024-a1c6-027d39f0cac5",
   "metadata": {},
   "source": [
    "### Image Space"
   ]
  },
  {
   "cell_type": "code",
   "execution_count": null,
   "id": "0048ab50-9fcf-4ed2-9822-778c0b9a1aee",
   "metadata": {},
   "outputs": [],
   "source": [
    "# Differences in pixel space\n",
    "fig = plt.figure(figsize=(15, 60))\n",
    "ax_dict = fig.subplot_mosaic([ [_, ] for _ in [ 'original', 'blended_subset', 'resized_blended_subset', 'r', 'g', 'b' ]])\n",
    "\n",
    "ax = ax_dict['original']\n",
    "ax.imshow(\n",
    "    man_img_int,\n",
    ")\n",
    "\n",
    "ax = ax_dict['blended_subset']\n",
    "ax.imshow(\n",
    "    blended_subset,\n",
    ")\n",
    "ax.set_aspect('equal')\n",
    "\n",
    "ax = ax_dict['resized_blended_subset']\n",
    "ax.imshow(\n",
    "    resized_blended_subset\n",
    ")\n",
    "                                             \n",
    "for i, band in enumerate('rgb'):\n",
    "    ax = ax_dict[band]\n",
    "    pcolormesh = ax.imshow(\n",
    "        ratio[:,:,i],\n",
    "        vmin=vmin,\n",
    "        vmax=vmax,\n",
    "        cmap=sns.color_palette('vlag', as_cmap='True')\n",
    "    )\n",
    "    plt.colorbar(pcolormesh, ax=ax)\n",
    "    \n",
    "for ax_key, ax in ax_dict.items():\n",
    "    ax.set_aspect('equal')\n",
    "    ax.set_title(ax_key)"
   ]
  },
  {
   "cell_type": "markdown",
   "id": "d8ede050-b074-47b2-b66f-130ee1d9ffeb",
   "metadata": {},
   "source": [
    "### Coordinate Space"
   ]
  },
  {
   "cell_type": "code",
   "execution_count": null,
   "id": "bbde7965-0846-4df3-b3ff-1794f95c467e",
   "metadata": {},
   "outputs": [],
   "source": [
    "# Img xs and yes\n",
    "man_xs = np.linspace(row['man_img_x_min'], row['man_img_x_max'], man_img.shape[1])[::-1]\n",
    "man_ys = np.linspace(row['man_img_y_min'], row['man_img_y_max'], man_img.shape[0])\n",
    "dst_xs = np.linspace(row2['man_img_x_min'], row2['man_img_x_max'], dst_img.shape[1])[::-1]\n",
    "dst_ys = np.linspace(row2['man_img_y_min'], row2['man_img_y_max'], dst_img.shape[0])"
   ]
  },
  {
   "cell_type": "code",
   "execution_count": null,
   "id": "e4338b8d-df90-40d4-8e0e-a4ad93f3136f",
   "metadata": {},
   "outputs": [],
   "source": [
    "# Pixel coords\n",
    "blended_xs = np.linspace(corner_xs[0], corner_xs[-1], blended.shape[1])\n",
    "blended_ys = np.linspace(corner_ys[0], corner_ys[-1], blended.shape[0])"
   ]
  },
  {
   "cell_type": "code",
   "execution_count": null,
   "id": "d6dede39-a739-49c7-a139-c63cf162f229",
   "metadata": {},
   "outputs": [],
   "source": [
    "# Differences\n",
    "fig = plt.figure(figsize=(15, 60))\n",
    "ax_dict = fig.subplot_mosaic([ [_, ] for _ in [ 'original', 'blended_subset', 'resized_blended_subset', 'r', 'g', 'b' ]])\n",
    "\n",
    "ax = ax_dict['original']\n",
    "ax.pcolormesh(\n",
    "    man_xs,\n",
    "    man_ys,\n",
    "    man_img_int,\n",
    ")\n",
    "\n",
    "ax = ax_dict['blended_subset']\n",
    "ax.pcolormesh(\n",
    "    blended_xs[subset_inds_x],\n",
    "    blended_ys[subset_inds_y],\n",
    "    np.rot90(blended_subset, 2),\n",
    ")\n",
    "ax.set_aspect('equal')\n",
    "\n",
    "ax = ax_dict['resized_blended_subset']\n",
    "ax.pcolormesh(\n",
    "    man_xs,\n",
    "    man_ys,\n",
    "    resized_blended_subset\n",
    ")\n",
    "                                             \n",
    "for i, band in enumerate('rgb'):\n",
    "    ax = ax_dict[band]\n",
    "    pcolormesh = ax.pcolormesh(\n",
    "        man_xs,\n",
    "        man_ys,\n",
    "        ratio[:,:,i],\n",
    "        vmin=vmin,\n",
    "        vmax=vmax,\n",
    "        cmap=sns.color_palette('vlag', as_cmap='True')\n",
    "    )\n",
    "    plt.colorbar(pcolormesh, ax=ax)\n",
    "    \n",
    "for ax_key, ax in ax_dict.items():\n",
    "    ax.set_aspect('equal')\n",
    "    ax.set_title(ax_key)"
   ]
  },
  {
   "cell_type": "markdown",
   "id": "22757ffe-3199-4be9-b748-737042c9f71e",
   "metadata": {},
   "source": [
    "**Note to self:** Getting the right orientation for the coordinates is incredibly finicky. Probably better to flip as needed to match expectations."
   ]
  },
  {
   "cell_type": "markdown",
   "id": "d8eab8c0-a6d1-4b09-b249-22c0b22573d9",
   "metadata": {},
   "source": [
    "### Baseline for comparison"
   ]
  },
  {
   "cell_type": "code",
   "execution_count": null,
   "id": "aca61571-b5be-4a0e-bb08-14eba8092ad9",
   "metadata": {},
   "outputs": [],
   "source": [
    "# Base prediction: lognormal noise\n",
    "base_img = []\n",
    "for i in range(3):\n",
    "    # Base prediction: Log normal with mean and median as a baseline\n",
    "    log_man_img_int = np.log10(man_img_int[:,:,i], dtype='float64')\n",
    "    is_finite = np.isfinite(log_man_img_int)\n",
    "    mean = log_man_img_int[is_finite].mean()\n",
    "    std = log_man_img_int[is_finite].std()\n",
    "    base_i = 10.**scipy.stats.norm.rvs(loc=mean, scale=std, size=(man_img_int.shape[0], man_img_int.shape[1]))\n",
    "    base_img.append(base_i)\n",
    "    \n",
    "# Reshape, round, and retype\n",
    "base_img = np.array(base_img).transpose(1, 2, 0)\n",
    "base_img = np.round(base_img).astype(man_img_int.dtype)"
   ]
  },
  {
   "cell_type": "markdown",
   "id": "fc097e2b-3041-4e90-aa9a-8cf703f6dc62",
   "metadata": {
    "tags": []
   },
   "source": [
    "### Blurred MSE Comparison\n",
    "Blur to account for offset."
   ]
  },
  {
   "cell_type": "code",
   "execution_count": null,
   "id": "f33faf62-7b9c-498e-928f-7ec89ef65326",
   "metadata": {},
   "outputs": [],
   "source": [
    "def calculate_mse(actual, expected):\n",
    "    return np.sqrt(((actual - expected)**2.)[:,:,i].sum()) "
   ]
  },
  {
   "cell_type": "code",
   "execution_count": null,
   "id": "72fa0a0f-9d22-4f9c-b939-d2d7d92241f6",
   "metadata": {},
   "outputs": [],
   "source": [
    "models = {\n",
    "    'mosaic': resized_blended_subset,\n",
    "    'base': base_img,\n",
    "}\n",
    "mses = {}\n",
    "kernel_sizes = [0, ] + list(range(1, 111, 2))\n",
    "for key, model_img in models.items():\n",
    "    for j, kernel_size in enumerate(tqdm.tqdm(kernel_sizes)):\n",
    "\n",
    "        # Blur or not\n",
    "        if kernel_size > 0:\n",
    "            man_img_for_comp = cv2.GaussianBlur(man_img_int, (kernel_size, kernel_size), 0)\n",
    "            model_img_for_comp = cv2.GaussianBlur(model_img, (kernel_size, kernel_size), 0)\n",
    "        else:\n",
    "            man_img_for_comp = man_img_int\n",
    "            model_img_for_comp = model_img\n",
    "        \n",
    "        mse_j = calculate_mse(man_img_for_comp, model_img_for_comp)\n",
    "        mses.setdefault(key, []).append(mse_j)"
   ]
  },
  {
   "cell_type": "code",
   "execution_count": null,
   "id": "578d4792-ec6c-44a3-b757-e70bd40967d2",
   "metadata": {},
   "outputs": [],
   "source": [
    "fig = plt.figure()\n",
    "ax = plt.gca()\n",
    "\n",
    "for i, (key, model_mse) in enumerate(mses.items()):\n",
    "    ax.plot(\n",
    "        kernel_sizes,\n",
    "        np.array(model_mse) / np.array(mses['base']),\n",
    "        color=palette[i],\n",
    "        label=key,\n",
    "        linewidth=2,\n",
    "    )\n",
    "    \n",
    "ax.set_ylim(0, ax.get_ylim()[1])\n",
    "ax.set_xlim(0, kernel_sizes[-1])\n",
    "ax.legend()\n",
    "\n",
    "ax.set_xlabel('blur kernel size [# pixels]')\n",
    "ax.set_ylabel('mean square error')\n",
    "\n",
    "m_per_pixel = man_ys[1] - man_ys[0]\n",
    "ax2 = ax.twiny()\n",
    "ax2.set_xlim(0, kernel_sizes[-1] * m_per_pixel)\n",
    "ax2.set_xlabel('blur kernel size [m]')"
   ]
  },
  {
   "cell_type": "markdown",
   "id": "7174b794-ce0d-40a2-af32-e939e02b4222",
   "metadata": {},
   "source": [
    "* Side-by-side comparison\n",
    "* Bootstrapping comparison"
   ]
  },
  {
   "cell_type": "markdown",
   "id": "b5b25dfb-91c1-4894-8c40-44b41afbcb5e",
   "metadata": {},
   "source": [
    "## Resolution-dependence"
   ]
  },
  {
   "cell_type": "markdown",
   "id": "626935fc-63ce-40ac-9e9c-caf7acffbe9e",
   "metadata": {},
   "source": [
    "## Earth Engine Tutorial Example"
   ]
  },
  {
   "cell_type": "code",
   "execution_count": null,
   "id": "9f26a215-fba5-4810-b6e5-b6afbe8af3d5",
   "metadata": {
    "tags": []
   },
   "outputs": [],
   "source": [
    "scale=1000"
   ]
  },
  {
   "cell_type": "code",
   "execution_count": null,
   "id": "8a9f225d-7185-4198-9678-f080ba9a4976",
   "metadata": {
    "tags": []
   },
   "outputs": [],
   "source": [
    "url = landsat_img.getThumbUrl({\n",
    "    'min': 0, 'max': 30000.0, 'region': med_poi.buffer(100),\n",
    "})\n",
    "print(url)"
   ]
  },
  {
   "cell_type": "code",
   "execution_count": null,
   "id": "a0ec77d0-4855-47de-adab-a4c8e50c181b",
   "metadata": {
    "tags": []
   },
   "outputs": [],
   "source": [
    "print(landsat.first().sample(med_poi, scale).get('B4').getInfo())"
   ]
  },
  {
   "cell_type": "code",
   "execution_count": null,
   "id": "813409b5-bf11-4430-8f34-e5f4c1d1decf",
   "metadata": {
    "tags": []
   },
   "outputs": [],
   "source": [
    "metadata[['GPSLat','GPSLong']].median()"
   ]
  },
  {
   "cell_type": "code",
   "execution_count": null,
   "id": "84d805d2-6c65-41ed-bd06-a80f40b798e2",
   "metadata": {
    "tags": []
   },
   "outputs": [],
   "source": [
    "med_poi = ee.Geometry.Point(*metadata[['GPSLat','GPSLong']].median())"
   ]
  },
  {
   "cell_type": "code",
   "execution_count": null,
   "id": "1c949e50-335b-4c9f-907d-e7c1517ffe46",
   "metadata": {
    "tags": []
   },
   "outputs": [],
   "source": [
    "import ee\n",
    "# ee.Authenticate()\n",
    "ee.Initialize()\n",
    "print(ee.Image(\"NASA/NASADEM_HGT/001\").get(\"title\").getInfo())"
   ]
  },
  {
   "cell_type": "code",
   "execution_count": null,
   "id": "bc36b8fa-8803-49ea-8b0d-5cd1da19943b",
   "metadata": {
    "tags": []
   },
   "outputs": [],
   "source": [
    "# Import the MODIS land cover collection.\n",
    "lc = ee.ImageCollection('MODIS/006/MCD12Q1')\n",
    "\n",
    "# Import the MODIS land surface temperature collection.\n",
    "lst = ee.ImageCollection('MODIS/006/MOD11A1')\n",
    "\n",
    "# Import the USGS ground elevation image.\n",
    "elv = ee.Image('USGS/SRTMGL1_003')"
   ]
  },
  {
   "cell_type": "code",
   "execution_count": null,
   "id": "e50caaa9-82ef-4a19-8ea4-05610733f6fd",
   "metadata": {
    "tags": []
   },
   "outputs": [],
   "source": [
    "# Initial date of interest (inclusive).\n",
    "i_date = '2017-01-01'\n",
    "\n",
    "# Final date of interest (exclusive).\n",
    "f_date = '2020-01-01'\n",
    "\n",
    "# Selection of appropriate bands and dates for LST.\n",
    "lst = lst.select('LST_Day_1km', 'QC_Day').filterDate(i_date, f_date)"
   ]
  },
  {
   "cell_type": "code",
   "execution_count": null,
   "id": "fc6c24ef-024f-42b5-9941-a615f2b26120",
   "metadata": {
    "tags": []
   },
   "outputs": [],
   "source": [
    "# Define the urban location of interest as a point near Lyon, France.\n",
    "u_lon = 4.8148\n",
    "u_lat = 45.7758\n",
    "u_poi = ee.Geometry.Point(u_lon, u_lat)\n",
    "\n",
    "# Define the rural location of interest as a point away from the city.\n",
    "r_lon = 5.175964\n",
    "r_lat = 45.574064\n",
    "r_poi = ee.Geometry.Point(r_lon, r_lat)"
   ]
  },
  {
   "cell_type": "code",
   "execution_count": null,
   "id": "5eac6bed-e625-41a1-8408-ef00e08e801d",
   "metadata": {
    "tags": []
   },
   "outputs": [],
   "source": [
    "scale = 1000  # scale in meters\n",
    "\n",
    "# Print the elevation near Lyon, France.\n",
    "elv_urban_point = elv.sample(u_poi, scale).first().get('elevation').getInfo()\n",
    "print('Ground elevation at urban point:', elv_urban_point, 'm')\n",
    "\n",
    "# Calculate and print the mean value of the LST collection at the point.\n",
    "lst_urban_point = lst.mean().sample(u_poi, scale).first().get('LST_Day_1km').getInfo()\n",
    "print('Average daytime LST at urban point:', round(lst_urban_point*0.02 -273.15, 2), '°C')\n",
    "\n",
    "# Print the land cover type at the point.\n",
    "lc_urban_point = lc.first().sample(u_poi, scale).first().get('LC_Type1').getInfo()\n",
    "print('Land cover value at urban point is:', lc_urban_point)"
   ]
  },
  {
   "cell_type": "code",
   "execution_count": null,
   "id": "e247e2e5-5c35-44ca-b00e-afa0df459947",
   "metadata": {
    "tags": []
   },
   "outputs": [],
   "source": [
    "# Get the data for the pixel intersecting the point in urban area.\n",
    "lst_u_poi = lst.getRegion(u_poi, scale).getInfo()\n",
    "\n",
    "# Get the data for the pixel intersecting the point in rural area.\n",
    "lst_r_poi = lst.getRegion(r_poi, scale).getInfo()"
   ]
  },
  {
   "cell_type": "code",
   "execution_count": null,
   "id": "a4ae696a-2072-4703-82e5-1b1a302a3b4a",
   "metadata": {
    "tags": []
   },
   "outputs": [],
   "source": [
    "def ee_array_to_df(arr, list_of_bands):\n",
    "    \"\"\"Transforms client-side ee.Image.getRegion array to pandas.DataFrame.\"\"\"\n",
    "    df = pd.DataFrame(arr)\n",
    "\n",
    "    # Rearrange the header.\n",
    "    headers = df.iloc[0]\n",
    "    df = pd.DataFrame(df.values[1:], columns=headers)\n",
    "\n",
    "    # Remove rows without data inside.\n",
    "    df = df[['longitude', 'latitude', 'time', *list_of_bands]].dropna()\n",
    "\n",
    "    # Convert the data to numeric values.\n",
    "    for band in list_of_bands:\n",
    "        df[band] = pd.to_numeric(df[band], errors='coerce')\n",
    "\n",
    "    # Convert the time field into a datetime.\n",
    "    df['datetime'] = pd.to_datetime(df['time'], unit='ms')\n",
    "\n",
    "    # Keep the columns of interest.\n",
    "    df = df[['time','datetime',  *list_of_bands]]\n",
    "\n",
    "    return df"
   ]
  },
  {
   "cell_type": "code",
   "execution_count": null,
   "id": "2dab30f8-90f0-4814-b668-23577460f67e",
   "metadata": {
    "tags": []
   },
   "outputs": [],
   "source": [
    "lst_df_urban = ee_array_to_df(lst_u_poi,['LST_Day_1km'])\n",
    "\n",
    "def t_modis_to_celsius(t_modis):\n",
    "    \"\"\"Converts MODIS LST units to degrees Celsius.\"\"\"\n",
    "    t_celsius =  0.02*t_modis - 273.15\n",
    "    return t_celsius\n",
    "\n",
    "# Apply the function to get temperature in celsius.\n",
    "lst_df_urban['LST_Day_1km'] = lst_df_urban['LST_Day_1km'].apply(t_modis_to_celsius)\n",
    "\n",
    "# Do the same for the rural point.\n",
    "lst_df_rural = ee_array_to_df(lst_r_poi,['LST_Day_1km'])\n",
    "lst_df_rural['LST_Day_1km'] = lst_df_rural['LST_Day_1km'].apply(t_modis_to_celsius)\n",
    "\n",
    "lst_df_urban.head()"
   ]
  },
  {
   "cell_type": "code",
   "execution_count": null,
   "id": "0bd4eef8-8916-40bc-bad4-eeafffa19489",
   "metadata": {
    "tags": []
   },
   "outputs": [],
   "source": [
    "import matplotlib.pyplot as plt\n",
    "import numpy as np\n",
    "from scipy import optimize\n",
    "%matplotlib inline\n",
    "\n",
    "# Fitting curves.\n",
    "## First, extract x values (times) from the dfs.\n",
    "x_data_u = np.asanyarray(lst_df_urban['time'].apply(float))  # urban\n",
    "x_data_r = np.asanyarray(lst_df_rural['time'].apply(float))  # rural\n",
    "\n",
    "## Secondly, extract y values (LST) from the dfs.\n",
    "y_data_u = np.asanyarray(lst_df_urban['LST_Day_1km'].apply(float))  # urban\n",
    "y_data_r = np.asanyarray(lst_df_rural['LST_Day_1km'].apply(float))  # rural\n",
    "\n",
    "## Then, define the fitting function with parameters.\n",
    "def fit_func(t, lst0, delta_lst, tau, phi):\n",
    "    return lst0 + (delta_lst/2)*np.sin(2*np.pi*t/tau + phi)\n",
    "\n",
    "## Optimize the parameters using a good start p0.\n",
    "lst0 = 20\n",
    "delta_lst = 40\n",
    "tau = 365*24*3600*1000   # milliseconds in a year\n",
    "phi = 2*np.pi*4*30.5*3600*1000/tau  # offset regarding when we expect LST(t)=LST0\n",
    "\n",
    "params_u, params_covariance_u = optimize.curve_fit(\n",
    "    fit_func, x_data_u, y_data_u, p0=[lst0, delta_lst, tau, phi])\n",
    "params_r, params_covariance_r = optimize.curve_fit(\n",
    "    fit_func, x_data_r, y_data_r, p0=[lst0, delta_lst, tau, phi])\n",
    "\n",
    "# Subplots.\n",
    "fig, ax = plt.subplots(figsize=(14, 6))\n",
    "\n",
    "# Add scatter plots.\n",
    "ax.scatter(lst_df_urban['datetime'], lst_df_urban['LST_Day_1km'],\n",
    "           c='black', alpha=0.2, label='Urban (data)')\n",
    "ax.scatter(lst_df_rural['datetime'], lst_df_rural['LST_Day_1km'],\n",
    "           c='green', alpha=0.35, label='Rural (data)')\n",
    "\n",
    "# Add fitting curves.\n",
    "ax.plot(lst_df_urban['datetime'],\n",
    "        fit_func(x_data_u, params_u[0], params_u[1], params_u[2], params_u[3]),\n",
    "        label='Urban (fitted)', color='black', lw=2.5)\n",
    "ax.plot(lst_df_rural['datetime'],\n",
    "        fit_func(x_data_r, params_r[0], params_r[1], params_r[2], params_r[3]),\n",
    "        label='Rural (fitted)', color='green', lw=2.5)\n",
    "\n",
    "# Add some parameters.\n",
    "ax.set_title('Daytime Land Surface Temperature Near Lyon', fontsize=16)\n",
    "ax.set_xlabel('Date', fontsize=14)\n",
    "ax.set_ylabel('Temperature [C]', fontsize=14)\n",
    "ax.set_ylim(-0, 40)\n",
    "ax.grid(lw=0.2)\n",
    "ax.legend(fontsize=14, loc='lower right')\n",
    "\n",
    "plt.show()"
   ]
  },
  {
   "cell_type": "code",
   "execution_count": null,
   "id": "ca3d4b4f-f909-4124-9e72-2ed41dd12446",
   "metadata": {
    "tags": []
   },
   "outputs": [],
   "source": [
    "# Define a region of interest with a buffer zone of 1000 km around Lyon.\n",
    "roi = u_poi.buffer(1e6)"
   ]
  },
  {
   "cell_type": "code",
   "execution_count": null,
   "id": "dbf81e1b-0b95-475c-b718-aa3bcb67f5fc",
   "metadata": {
    "tags": []
   },
   "outputs": [],
   "source": [
    "# Reduce the LST collection by mean.\n",
    "lst_img = lst.mean()\n",
    "\n",
    "# Adjust for scale factor.\n",
    "lst_img = lst_img.select('LST_Day_1km').multiply(0.02)\n",
    "\n",
    "# Convert Kelvin to Celsius.\n",
    "lst_img = lst_img.select('LST_Day_1km').add(-273.15)"
   ]
  },
  {
   "cell_type": "code",
   "execution_count": null,
   "id": "ea28a772-289e-42cd-8134-99652e9de420",
   "metadata": {
    "tags": []
   },
   "outputs": [],
   "source": [
    "from IPython.display import Image\n",
    "\n",
    "# Create a URL to the styled image for a region around France.\n",
    "url = lst_img.getThumbUrl({\n",
    "    'min': 10, 'max': 30, 'dimensions': 512, 'region': roi,\n",
    "    'palette': ['blue', 'yellow', 'orange', 'red']})\n",
    "print(url)\n",
    "\n",
    "# Display the thumbnail land surface temperature in France.\n",
    "print('\\nPlease wait while the thumbnail loads, it may take a moment...')\n",
    "Image(url=url)"
   ]
  },
  {
   "cell_type": "code",
   "execution_count": null,
   "id": "c65c907f-b8e2-4329-b93e-d225374ac9ac",
   "metadata": {
    "tags": []
   },
   "outputs": [],
   "source": [
    "# Make pixels with elevation below sea level transparent.\n",
    "elv_img = elv.updateMask(elv.gt(0))\n",
    "\n",
    "# Display the thumbnail of styled elevation in France.\n",
    "Image(url=elv_img.getThumbURL({\n",
    "    'min': 0, 'max': 2000, 'dimensions': 512, 'region': roi,\n",
    "    'palette': ['006633', 'E5FFCC', '662A00', 'D8D8D8', 'F5F5F5']}))"
   ]
  },
  {
   "cell_type": "code",
   "execution_count": null,
   "id": "086d0478-1215-4978-b902-68a53a74b5b2",
   "metadata": {
    "tags": []
   },
   "outputs": [],
   "source": [
    "# Create a buffer zone of 10 km around Lyon.\n",
    "lyon = u_poi.buffer(10000)  # meters\n",
    "\n",
    "url = elv_img.getThumbUrl({\n",
    "    'min': 150, 'max': 350, 'region': lyon, 'dimensions': 512,\n",
    "    'palette': ['006633', 'E5FFCC', '662A00', 'D8D8D8', 'F5F5F5']})\n",
    "Image(url=url)"
   ]
  },
  {
   "cell_type": "code",
   "execution_count": null,
   "id": "24e5beef-fe3b-48d9-a644-169b741c0204",
   "metadata": {
    "tags": []
   },
   "outputs": [],
   "source": [
    "# Get a feature collection of administrative boundaries.\n",
    "countries = ee.FeatureCollection('FAO/GAUL/2015/level0').select('ADM0_NAME')\n",
    "\n",
    "# Filter the feature collection to subset France.\n",
    "france = countries.filter(ee.Filter.eq('ADM0_NAME', 'France'))\n",
    "\n",
    "# Clip the image by France.\n",
    "elv_fr = elv_img.clip(france)\n",
    "\n",
    "# Create the URL associated with the styled image data.\n",
    "url = elv_fr.getThumbUrl({\n",
    "    'min': 0, 'max': 2500, 'region': roi, 'dimensions': 512,\n",
    "    'palette': ['006633', 'E5FFCC', '662A00', 'D8D8D8', 'F5F5F5']})\n",
    "\n",
    "# Display a thumbnail of elevation in France.\n",
    "Image(url=url)"
   ]
  },
  {
   "cell_type": "code",
   "execution_count": null,
   "id": "1ac7455a-aba5-4c81-b777-98000284d809",
   "metadata": {
    "tags": []
   },
   "outputs": [],
   "source": [
    "task = ee.batch.Export.image.toDrive(image=elv_img,\n",
    "                                     description='elevation_near_lyon_france',\n",
    "                                     scale=30,\n",
    "                                     region=lyon,\n",
    "                                     fileNamePrefix='my_export_lyon',\n",
    "                                     crs='EPSG:4326',\n",
    "                                     fileFormat='GeoTIFF')\n",
    "task.start()"
   ]
  },
  {
   "cell_type": "code",
   "execution_count": null,
   "id": "8ddb1ad6-c30c-47e9-9cc6-663cb5b50ba3",
   "metadata": {
    "tags": []
   },
   "outputs": [],
   "source": [
    "task.status()"
   ]
  },
  {
   "cell_type": "code",
   "execution_count": null,
   "id": "dc6db0d1-c5f7-4325-8c48-b35e1bd74f07",
   "metadata": {
    "tags": []
   },
   "outputs": [],
   "source": [
    "import folium\n",
    "\n",
    "# Define the center of our map.\n",
    "lat, lon = 45.77, 4.855\n",
    "\n",
    "my_map = folium.Map(location=[lat, lon], zoom_start=10)\n",
    "my_map"
   ]
  },
  {
   "cell_type": "code",
   "execution_count": null,
   "id": "de14353f-2e75-41d2-a8e6-940f4bbe6231",
   "metadata": {},
   "outputs": [],
   "source": [
    "folium.raster_layers.TileLayer("
   ]
  },
  {
   "cell_type": "code",
   "execution_count": null,
   "id": "5f4c1426-1fb3-46bd-80c7-d3045b284111",
   "metadata": {
    "tags": []
   },
   "outputs": [],
   "source": [
    "def add_ee_layer(self, ee_image_object, vis_params, name):\n",
    "    \"\"\"Adds a method for displaying Earth Engine image tiles to folium map.\"\"\"\n",
    "    map_id_dict = ee.Image(ee_image_object).getMapId(vis_params)\n",
    "    folium.raster_layers.TileLayer(\n",
    "        tiles=map_id_dict['tile_fetcher'].url_format,\n",
    "        attr='Map Data &copy; <a href=\"https://earthengine.google.com/\">Google Earth Engine</a>',\n",
    "        name=name,\n",
    "        overlay=True,\n",
    "        control=True\n",
    "    ).add_to(self)\n",
    "\n",
    "# Add Earth Engine drawing method to folium.\n",
    "folium.Map.add_ee_layer = add_ee_layer"
   ]
  },
  {
   "cell_type": "code",
   "execution_count": null,
   "id": "afaf9433-7d67-4032-ae43-a0f8acaeed73",
   "metadata": {
    "tags": []
   },
   "outputs": [],
   "source": [
    "# Select a specific band and dates for land cover.\n",
    "lc_img = lc.select('LC_Type1').filterDate(i_date).first()\n",
    "\n",
    "# Set visualization parameters for land cover.\n",
    "lc_vis_params = {\n",
    "    'min': 1,'max': 17,\n",
    "    'palette': ['05450a','086a10', '54a708', '78d203', '009900', 'c6b044',\n",
    "                'dcd159', 'dade48', 'fbff13', 'b6ff05', '27ff87', 'c24f44',\n",
    "                'a5a5a5', 'ff6d4c', '69fff8', 'f9ffa4', '1c0dff']\n",
    "}\n",
    "\n",
    "# Create a map.\n",
    "lat, lon = 45.77, 4.855\n",
    "my_map = folium.Map(location=[lat, lon], zoom_start=7)\n",
    "\n",
    "# Add the land cover to the map object.\n",
    "my_map.add_ee_layer(lc_img, lc_vis_params, 'Land Cover')\n",
    "\n",
    "# Add a layer control panel to the map.\n",
    "my_map.add_child(folium.LayerControl())\n",
    "\n",
    "# Display the map.\n",
    "display(my_map)"
   ]
  },
  {
   "cell_type": "code",
   "execution_count": null,
   "id": "c6cf66e6-336a-4089-a8de-5f0735e62bc1",
   "metadata": {
    "tags": []
   },
   "outputs": [],
   "source": [
    "# Set visualization parameters for ground elevation.\n",
    "elv_vis_params = {\n",
    "    'min': 0, 'max': 4000,\n",
    "    'palette': ['006633', 'E5FFCC', '662A00', 'D8D8D8', 'F5F5F5']}\n",
    "\n",
    "# Set visualization parameters for land surface temperature.\n",
    "lst_vis_params = {\n",
    "    'min': 0, 'max': 40,\n",
    "    'palette': ['white', 'blue', 'green', 'yellow', 'orange', 'red']}\n",
    "\n",
    "# Arrange layers inside a list (elevation, LST and land cover).\n",
    "ee_tiles = [elv_img, lst_img, lc_img]\n",
    "\n",
    "# Arrange visualization parameters inside a list.\n",
    "ee_vis_params = [elv_vis_params, lst_vis_params, lc_vis_params]\n",
    "\n",
    "# Arrange layer names inside a list.\n",
    "ee_tiles_names = ['Elevation', 'Land Surface Temperature', 'Land Cover']\n",
    "\n",
    "# Create a new map.\n",
    "lat, lon = 45.77, 4.855\n",
    "my_map = folium.Map(location=[lat, lon], zoom_start=5)\n",
    "\n",
    "# Add layers to the map using a loop.\n",
    "for tile, vis_param, name in zip(ee_tiles, ee_vis_params, ee_tiles_names):\n",
    "    my_map.add_ee_layer(tile, vis_param, name)\n",
    "\n",
    "folium.LayerControl(collapsed = False).add_to(my_map)\n",
    "\n",
    "my_map"
   ]
  },
  {
   "cell_type": "code",
   "execution_count": null,
   "id": "7631a45a-9ba6-42b8-bb79-a6ace6626042",
   "metadata": {
    "tags": []
   },
   "outputs": [],
   "source": [
    "my_map.save('my_lc_interactive_map.html')"
   ]
  },
  {
   "cell_type": "code",
   "execution_count": null,
   "id": "466638d9-691a-4e22-8bed-c4eb820bcc1f",
   "metadata": {},
   "outputs": [],
   "source": []
  }
 ],
 "metadata": {
  "kernelspec": {
   "display_name": "Python 3 (ipykernel)",
   "language": "python",
   "name": "python3"
  },
  "language_info": {
   "codemirror_mode": {
    "name": "ipython",
    "version": 3
   },
   "file_extension": ".py",
   "mimetype": "text/x-python",
   "name": "python",
   "nbconvert_exporter": "python",
   "pygments_lexer": "ipython3",
   "version": "3.11.5"
  }
 },
 "nbformat": 4,
 "nbformat_minor": 5
}
