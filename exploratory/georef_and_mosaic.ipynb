{
 "cells": [
  {
   "cell_type": "code",
   "execution_count": null,
   "id": "7f62b559-7c00-411a-8cf8-2c2280317e80",
   "metadata": {},
   "outputs": [],
   "source": [
    "import glob\n",
    "import importlib\n",
    "import numpy as np\n",
    "import os\n",
    "import time"
   ]
  },
  {
   "cell_type": "code",
   "execution_count": null,
   "id": "f79bc37e-38b6-448b-8626-c8cab3c860ec",
   "metadata": {},
   "outputs": [],
   "source": [
    "from nitelite_mapmaker import mapmaker, georeference"
   ]
  },
  {
   "cell_type": "code",
   "execution_count": null,
   "id": "13e5844e-f413-4057-a9d2-1172da9987ee",
   "metadata": {},
   "outputs": [],
   "source": [
    "import matplotlib\n",
    "import matplotlib.pyplot as plt\n",
    "import seaborn as sns"
   ]
  },
  {
   "cell_type": "code",
   "execution_count": null,
   "id": "69cd5769-ebc4-4fa5-bc51-3ba0c78be947",
   "metadata": {},
   "outputs": [],
   "source": [
    "importlib.reload(georeference)"
   ]
  },
  {
   "cell_type": "markdown",
   "id": "759faed7-138c-4d39-a550-74499a0ced41",
   "metadata": {},
   "source": [
    "# Settings"
   ]
  },
  {
   "cell_type": "code",
   "execution_count": null,
   "id": "6dbd70d5-a9ec-439b-92bc-6afecaefcbc0",
   "metadata": {
    "tags": []
   },
   "outputs": [],
   "source": [
    "flight_name = '220513-FH135'\n",
    "data_dir = '/Users/Shared/data'\n",
    "google_drive_dir = '/Users/zhafensaavedra/Google Drive'"
   ]
  },
  {
   "cell_type": "code",
   "execution_count": null,
   "id": "2c5ec7ff-0485-4067-88b1-ccd6569855c2",
   "metadata": {
    "tags": []
   },
   "outputs": [],
   "source": [
    "image_dir = os.path.join(data_dir, 'nitelite/images', flight_name, '23085686' )\n",
    "metadata_dir = os.path.join(google_drive_dir, 'Shared drives/NITELite/Data & Analysis/Old NITELite Flights', flight_name, 'data')\n",
    "img_log_fp = os.path.join(metadata_dir, 'image.log')\n",
    "imu_log_fp = os.path.join(metadata_dir, 'OBC/PresIMULog.csv')\n",
    "gps_log_fp = os.path.join(metadata_dir, 'OBC/GPSLog.csv')"
   ]
  },
  {
   "cell_type": "code",
   "execution_count": null,
   "id": "9125fd19-2246-4015-a470-b3e5b8912237",
   "metadata": {},
   "outputs": [],
   "source": [
    "rng = np.random.default_rng(1425)"
   ]
  },
  {
   "cell_type": "markdown",
   "id": "df6d6e47-9d05-456d-8201-d3887c369da8",
   "metadata": {},
   "source": [
    "# Resampling"
   ]
  },
  {
   "cell_type": "markdown",
   "id": "263e4fee-ba32-438e-8120-a18e5c32e2c3",
   "metadata": {},
   "source": [
    "## Setup"
   ]
  },
  {
   "cell_type": "code",
   "execution_count": null,
   "id": "fd3f18db-9759-41f0-a6d8-83b584c067c9",
   "metadata": {
    "tags": []
   },
   "outputs": [],
   "source": [
    "mm = mapmaker.Mapmaker(\n",
    "    image_dir=image_dir,\n",
    "    img_log_fp=img_log_fp,\n",
    "    imu_log_fp=imu_log_fp,\n",
    "    gps_log_fp=gps_log_fp,\n",
    ")"
   ]
  },
  {
   "cell_type": "markdown",
   "id": "36dedb3b-a5d2-47bb-8294-ff6f27583c7d",
   "metadata": {},
   "source": [
    "## Set Up Originals"
   ]
  },
  {
   "cell_type": "code",
   "execution_count": null,
   "id": "0b3f7499-c95b-4008-90fc-baa8d3d4cd18",
   "metadata": {},
   "outputs": [],
   "source": [
    "imgs = {}"
   ]
  },
  {
   "cell_type": "code",
   "execution_count": null,
   "id": "d09aa365-687f-4c38-b91a-b55e5bd75b47",
   "metadata": {},
   "outputs": [],
   "source": [
    "def get_rotated_coords(xs_img_frame, ys_img_frame, theta=np.pi/3.5, ll_coords=np.array([1., 2.])):\n",
    "    \n",
    "    xs_img_frame_mesh, ys_img_frame_mesh = np.meshgrid(xs_img_frame, ys_img_frame)\n",
    "                       \n",
    "    xs = ll_coords[0] + xs_img_frame_mesh * np.cos(theta) + ys_img_frame_mesh * np.sin(theta)\n",
    "    ys = ll_coords[1] + xs_img_frame_mesh * np.sin(-theta) + ys_img_frame_mesh * np.cos(theta)\n",
    "    \n",
    "    return xs, ys"
   ]
  },
  {
   "cell_type": "markdown",
   "id": "93edf7ca-1603-45de-9749-1fe17515d34f",
   "metadata": {},
   "source": [
    "### Random uniform"
   ]
  },
  {
   "cell_type": "code",
   "execution_count": null,
   "id": "b97ddbf2-71d1-49ed-ad33-b5b3e61ccb4f",
   "metadata": {},
   "outputs": [],
   "source": [
    "uniform_img = rng.uniform(size=(1200,1920))"
   ]
  },
  {
   "cell_type": "code",
   "execution_count": null,
   "id": "776d198e-dadb-410f-a2c8-f62a1ae7f43b",
   "metadata": {},
   "outputs": [],
   "source": [
    "xs_img_frame = np.linspace(0., 10., uniform_img.shape[1])\n",
    "ys_img_frame = np.linspace(0., 10., uniform_img.shape[0])"
   ]
  },
  {
   "cell_type": "code",
   "execution_count": null,
   "id": "651efedd-7283-466e-919c-2c6c3bbbb02b",
   "metadata": {},
   "outputs": [],
   "source": [
    "imgs['uniform'] = {\n",
    "    'points': get_rotated_coords(xs_img_frame, ys_img_frame),\n",
    "    'img': uniform_img,\n",
    "}"
   ]
  },
  {
   "cell_type": "markdown",
   "id": "581376ad-2388-4383-a8dc-8d86a28591d6",
   "metadata": {},
   "source": [
    "### Flat"
   ]
  },
  {
   "cell_type": "code",
   "execution_count": null,
   "id": "0c5f2833-76d1-4cc6-b0ac-f47f4c3546f5",
   "metadata": {},
   "outputs": [],
   "source": [
    "flat_img = np.ones((1200,1920))"
   ]
  },
  {
   "cell_type": "code",
   "execution_count": null,
   "id": "24f28632-443e-4f5d-a1bf-44fef611a89f",
   "metadata": {},
   "outputs": [],
   "source": [
    "xs_img_frame = np.linspace(0., 10., flat_img.shape[1])\n",
    "ys_img_frame = np.linspace(0., 10., flat_img.shape[0])"
   ]
  },
  {
   "cell_type": "code",
   "execution_count": null,
   "id": "d781dad1-ece1-44e4-909c-c9d6c9bc1fd2",
   "metadata": {},
   "outputs": [],
   "source": [
    "imgs['flat'] = {\n",
    "    'points': get_rotated_coords(xs_img_frame, ys_img_frame),\n",
    "    'img': flat_img,\n",
    "}"
   ]
  },
  {
   "cell_type": "markdown",
   "id": "10bda8be-009f-4062-af9c-c6fb7fe97ac7",
   "metadata": {},
   "source": [
    "### Orientation"
   ]
  },
  {
   "cell_type": "code",
   "execution_count": null,
   "id": "e6052634-7542-4cf0-8efe-97df4498ad69",
   "metadata": {},
   "outputs": [],
   "source": [
    "shape = (20, 30)\n",
    "orientation_img = np.zeros(shape)\n",
    "orientation_img[:shape[0]//2,:shape[1]//3] = 1"
   ]
  },
  {
   "cell_type": "code",
   "execution_count": null,
   "id": "236e2043-c9f2-4138-958b-4a62583c841f",
   "metadata": {},
   "outputs": [],
   "source": [
    "xs_img_frame = np.arange(orientation_img.shape[1])\n",
    "ys_img_frame = np.arange(orientation_img.shape[0])"
   ]
  },
  {
   "cell_type": "code",
   "execution_count": null,
   "id": "e9df46f7-0450-4211-b569-94ccb56691f0",
   "metadata": {},
   "outputs": [],
   "source": [
    "imgs['orientation'] = {\n",
    "    'points': get_rotated_coords(xs_img_frame, ys_img_frame),\n",
    "    'img': orientation_img,\n",
    "}"
   ]
  },
  {
   "cell_type": "markdown",
   "id": "67f28cf1-8d0a-4465-ab54-9225c9cb80f2",
   "metadata": {},
   "source": [
    "### Actual random image"
   ]
  },
  {
   "cell_type": "code",
   "execution_count": null,
   "id": "f76cf6b7-0d2b-477f-88f2-4bf5dc27a761",
   "metadata": {},
   "outputs": [],
   "source": [
    "fps = glob.glob(os.path.join(image_dir, '*.raw'))\n",
    "fp = rng.choice(fps)"
   ]
  },
  {
   "cell_type": "code",
   "execution_count": null,
   "id": "96f20eda-4146-410c-9d12-f88f3b55fccb",
   "metadata": {},
   "outputs": [],
   "source": [
    "img = mm.flight.get_rgb_img(fp)[:,:,1]"
   ]
  },
  {
   "cell_type": "code",
   "execution_count": null,
   "id": "cd8904db-3643-46e0-abe4-1f766d5a9c9b",
   "metadata": {},
   "outputs": [],
   "source": [
    "xs_img_frame = np.arange(img.shape[1])\n",
    "ys_img_frame = np.arange(img.shape[0])"
   ]
  },
  {
   "cell_type": "code",
   "execution_count": null,
   "id": "2364f2dd-5d7d-4360-9cbb-79d07a811ae3",
   "metadata": {},
   "outputs": [],
   "source": [
    "imgs['actual'] = {\n",
    "    'points': get_rotated_coords(xs_img_frame, ys_img_frame),\n",
    "    'img': img,\n",
    "}"
   ]
  },
  {
   "cell_type": "markdown",
   "id": "f92988c2-4366-47f1-8617-4e8725fc2683",
   "metadata": {
    "tags": []
   },
   "source": [
    "## Nearest-Grid-Point Method"
   ]
  },
  {
   "cell_type": "code",
   "execution_count": null,
   "id": "6a667528-c6e4-4518-a060-49a04fe8b47d",
   "metadata": {},
   "outputs": [],
   "source": [
    "img_keys = list(imgs.keys())\n",
    "# img_keys = ['orientation',]"
   ]
  },
  {
   "cell_type": "code",
   "execution_count": null,
   "id": "8dda7e82-e72e-4dec-ae41-132a1917feb0",
   "metadata": {},
   "outputs": [],
   "source": [
    "mosaic = [['original_{}'.format(_), 'resampled_{}'.format(_)] for _ in img_keys]"
   ]
  },
  {
   "cell_type": "code",
   "execution_count": null,
   "id": "345307c3-ec5b-4194-ad2e-ad6f6d8b12ea",
   "metadata": {},
   "outputs": [],
   "source": [
    "fig = plt.figure(figsize=(len(mosaic[0])*10,len(mosaic)*10))\n",
    "\n",
    "ax_dict = fig.subplot_mosaic(mosaic)\n",
    "\n",
    "# for method in methods:\n",
    "for img_key in img_keys:\n",
    "    \n",
    "    start = time.time()\n",
    "    \n",
    "    itrans = georeference.ImageTransformer(imgs[img_key]['img'])\n",
    "    \n",
    "    (xs_resampled, ys_resampled), img_resampled = itrans.resample(imgs[img_key]['points'])\n",
    "    \n",
    "    time_taken = time.time() - start\n",
    "    print('{} took {:.2g} seconds'.format(img_key, time_taken))\n",
    "    if img_key == 'actual':\n",
    "        print('   expected total of {:.2g} hr'.format(time_taken*len(fps)/3600))\n",
    "        \n",
    "    # vmax = np.max([[imgs[img_key]['img'].max(), img_resampled.max()]])\n",
    "    vmax = 1.1\n",
    "    \n",
    "    ax = ax_dict['original_{}'.format(img_key)]\n",
    "    ax.pcolormesh(\n",
    "        imgs[img_key]['points'][0],\n",
    "        imgs[img_key]['points'][1],\n",
    "        imgs[img_key]['img'],\n",
    "        vmin=0,\n",
    "        vmax=vmax,\n",
    "        cmap='cubehelix'\n",
    "    )\n",
    "    ax.set_aspect('equal')\n",
    "    \n",
    "    if img_key == 'orientation':\n",
    "        for x in itrans.bins[0]:\n",
    "            ax.axvline(x, color='0.5')\n",
    "        for y in itrans.bins[1]:\n",
    "            ax.axhline(y, color='0.5')\n",
    "        ax.scatter(\n",
    "            imgs[img_key]['points'][0].flatten(),\n",
    "            imgs[img_key]['points'][1].flatten(),\n",
    "            color = '0.5',\n",
    "        )\n",
    "\n",
    "    ax = ax_dict['resampled_{}'.format(img_key)]\n",
    "    ax.pcolormesh(\n",
    "        xs_resampled,\n",
    "        ys_resampled,\n",
    "        img_resampled,\n",
    "        vmin=0,\n",
    "        vmax=vmax,\n",
    "        cmap='cubehelix'\n",
    "    )\n",
    "    ax.set_aspect('equal')\n",
    "    \n",
    "    if img_key == 'orientation':\n",
    "        for x in itrans.bins[0]:\n",
    "            ax.axvline(x, color='0.5')\n",
    "        for y in itrans.bins[1]:\n",
    "            ax.axhline(y, color='0.5')\n",
    "    \n",
    "plt.tight_layout()"
   ]
  },
  {
   "cell_type": "markdown",
   "id": "9a771709-2770-47e6-882e-38e05f9e95c5",
   "metadata": {},
   "source": [
    "## Assess Distribution Geometric Effects"
   ]
  },
  {
   "cell_type": "code",
   "execution_count": null,
   "id": "121304dd-83ac-499d-9570-75935fa53894",
   "metadata": {},
   "outputs": [],
   "source": [
    "shape = (20, 30)\n",
    "flat_img = np.ones(shape)"
   ]
  },
  {
   "cell_type": "code",
   "execution_count": null,
   "id": "463bb97a-421d-4ef3-ace3-839250ee1739",
   "metadata": {},
   "outputs": [],
   "source": [
    "xs_img_frame = np.linspace(0., 1., flat_img.shape[1])\n",
    "ys_img_frame = np.linspace(0., 1., flat_img.shape[0])\n",
    "points = get_rotated_coords(xs_img_frame, ys_img_frame)"
   ]
  },
  {
   "cell_type": "code",
   "execution_count": null,
   "id": "bdea63ba-d46c-4aaa-8d36-785894fd6508",
   "metadata": {},
   "outputs": [],
   "source": [
    "xs, ys = points\n",
    "dx_mean = np.mean(np.diff(xs, axis=1))\n",
    "dy_mean = np.mean(np.diff(ys, axis=0))\n",
    "x_min, x_max = xs.min(), xs.max()\n",
    "y_min, y_max = ys.min(), ys.max()"
   ]
  },
  {
   "cell_type": "code",
   "execution_count": null,
   "id": "74429877-8690-48ac-b12f-4a8c3fccf108",
   "metadata": {},
   "outputs": [],
   "source": [
    "dxs = np.linspace(0.4*dx_mean, 3.*dx_mean, 50)\n",
    "dys = np.linspace(0.4*dy_mean, 3.*dy_mean, 50)"
   ]
  },
  {
   "cell_type": "code",
   "execution_count": null,
   "id": "dbfb997e-69e6-4a87-a071-465fc589d11a",
   "metadata": {},
   "outputs": [],
   "source": [
    "x_start = -dx_mean / 2.\n",
    "y_start = -dy_mean / 2."
   ]
  },
  {
   "cell_type": "code",
   "execution_count": null,
   "id": "0bf3f813-7a18-4795-a419-8d82db8282ce",
   "metadata": {},
   "outputs": [],
   "source": [
    "params = {\n",
    "    'dx': [],\n",
    "    'dy': [],\n",
    "    'n_points': [],\n",
    "}\n",
    "counts = []\n",
    "\n",
    "for dx in dxs:\n",
    "    for dy in dys:\n",
    "\n",
    "        x_bins = np.arange(x_min - x_start, x_max + dx, dx)\n",
    "        y_bins = np.arange(y_min - y_start, y_max + dy, dy)\n",
    "        \n",
    "        # Calculation itself\n",
    "        itrans = georeference.ImageTransformer(flat_img)\n",
    "        (xs_resampled, ys_resampled), img_resampled = itrans.resample(\n",
    "            points,\n",
    "            (x_bins, y_bins),\n",
    "            preserve_flux=False\n",
    "        )\n",
    "        \n",
    "        # Process results\n",
    "        counts_i, _ = np.histogram(\n",
    "            img_resampled.flatten(),\n",
    "            [-0.5, 0.5, 1.5, np.inf],\n",
    "        )\n",
    "        \n",
    "        # Store results\n",
    "        params['dx'].append(dx)\n",
    "        params['dy'].append(dy)\n",
    "        params['n_points'].append(img_resampled.size)\n",
    "        counts.append(counts_i)\n",
    "        \n",
    "counts = np.array(counts)\n",
    "for key, item in params.items():\n",
    "    params[key] = np.array(item)"
   ]
  },
  {
   "cell_type": "code",
   "execution_count": null,
   "id": "36cdf37d-6cca-40ef-a7db-3e96d0bc93d8",
   "metadata": {},
   "outputs": [],
   "source": [
    "output = dict(\n",
    "    f_ones = counts[:,1] / flat_img.size,\n",
    "    f_high = counts[:,2] / flat_img.size,\n",
    "    f_zeros = counts[:,0] / params['n_points'],\n",
    ")"
   ]
  },
  {
   "cell_type": "code",
   "execution_count": null,
   "id": "82e9bb25-2cf5-4579-b41d-37e62a1f5ed4",
   "metadata": {},
   "outputs": [],
   "source": [
    "is_selected = (\n",
    "    # (output['f_ones'] > 0.9)\n",
    "    (output['f_zeros'] < np.inf)\n",
    ")\n",
    "# is_selected = True"
   ]
  },
  {
   "cell_type": "code",
   "execution_count": null,
   "id": "f3e582ff-35c7-4c37-8a1c-8283e5e6499b",
   "metadata": {},
   "outputs": [],
   "source": [
    "params_selected = {}\n",
    "for key, item in params.items():\n",
    "    params_selected[key] = item[is_selected]\n",
    "output_selected = {}\n",
    "for key, item in output.items():\n",
    "    output_selected[key] = item[is_selected]\n",
    "counts_selected = counts[is_selected]"
   ]
  },
  {
   "cell_type": "code",
   "execution_count": null,
   "id": "9eb473e2-9b4e-48aa-ab24-daab6597bd45",
   "metadata": {},
   "outputs": [],
   "source": [
    "fig = plt.figure()\n",
    "ax = plt.gca()\n",
    "\n",
    "ax.scatter(\n",
    "    params_selected['dx'] / dx_mean,\n",
    "    output_selected['f_ones'],\n",
    ")\n",
    "\n",
    "ax.set_ylim(0, 1)\n",
    "\n",
    "ax.set_xlabel(r'$\\Delta x$ / $\\langle \\Delta x \\rangle$')\n",
    "ax.set_ylabel(r'1s fraction')"
   ]
  },
  {
   "cell_type": "code",
   "execution_count": null,
   "id": "1bb1736b-971e-4a6d-a201-ef077e40d0ff",
   "metadata": {},
   "outputs": [],
   "source": [
    "fig = plt.figure()\n",
    "ax = plt.gca()\n",
    "\n",
    "ax.scatter(\n",
    "    params_selected['dx'] / dx_mean,\n",
    "    output_selected['f_high'],\n",
    ")\n",
    "\n",
    "ax.set_ylim(0, 1)\n",
    "\n",
    "ax.set_xlabel(r'$\\Delta x$ / $\\langle \\Delta x \\rangle$')\n",
    "ax.set_ylabel(r'>1s fraction')"
   ]
  },
  {
   "cell_type": "code",
   "execution_count": null,
   "id": "630ff0d4-91c7-4af6-aba6-285bc0f95032",
   "metadata": {},
   "outputs": [],
   "source": [
    "fig = plt.figure()\n",
    "ax = plt.gca()\n",
    "\n",
    "ax.scatter(\n",
    "    params_selected['dx'] / dx_mean,\n",
    "    output_selected['f_zeros'],\n",
    ")\n",
    "\n",
    "ax.set_ylim(0, 1)\n",
    "\n",
    "ax.set_xlabel(r'$\\Delta x$ / $\\langle \\Delta x \\rangle$')\n",
    "ax.set_ylabel(r'0s fraction')"
   ]
  },
  {
   "cell_type": "code",
   "execution_count": null,
   "id": "4d2b7ec6-abad-4206-99e1-b008a2bbfe7d",
   "metadata": {},
   "outputs": [],
   "source": [
    "fig = plt.figure()\n",
    "ax = plt.gca()\n",
    "\n",
    "s = ax.scatter(\n",
    "    params_selected['dx'] / dx_mean,\n",
    "    params_selected['dy'] / dy_mean,\n",
    "    c = output_selected['f_ones'],\n",
    "    vmin = 0,\n",
    "    vmax = 1.,\n",
    ")\n",
    "plt.colorbar(s)\n",
    "\n",
    "ax.set_xlabel(r'$\\Delta x$ / $\\langle \\Delta x \\rangle$')\n",
    "ax.set_ylabel(r'$\\Delta y$ / $\\langle \\Delta y \\rangle$')"
   ]
  },
  {
   "cell_type": "code",
   "execution_count": null,
   "id": "9343db28-4555-4b72-927f-96783f402f71",
   "metadata": {},
   "outputs": [],
   "source": [
    "i = 1\n",
    "dx = params_selected['dx'][i]\n",
    "dy = params_selected['dy'][i]"
   ]
  },
  {
   "cell_type": "code",
   "execution_count": null,
   "id": "3549b580-8136-4f9c-b5d3-6f4d1ed72bcf",
   "metadata": {},
   "outputs": [],
   "source": [
    "x_bins = np.arange(x_min - x_start, x_max + dx, dx)\n",
    "y_bins = np.arange(y_min - y_start, y_max + dy, dy)\n",
    "\n",
    "# Calculation itself\n",
    "itrans = georeference.ImageTransformer(flat_img)\n",
    "(xs_resampled, ys_resampled), img_resampled = itrans.resample(\n",
    "    points,\n",
    "    (x_bins, y_bins),\n",
    "    preserve_flux=False\n",
    ")"
   ]
  },
  {
   "cell_type": "code",
   "execution_count": null,
   "id": "cea3f1a2-838d-4d0e-a2b3-73afc5c1a6c0",
   "metadata": {},
   "outputs": [],
   "source": [
    "fig = plt.figure(figsize=(20,10))\n",
    "ax_dict = fig.subplot_mosaic([['original', 'resampled']])\n",
    "\n",
    "ax = ax_dict['original']\n",
    "ax.scatter(\n",
    "    xs,\n",
    "    ys,\n",
    ")\n",
    "\n",
    "for x in x_bins:\n",
    "    ax.axvline(x, color='0.5')\n",
    "for y in y_bins:\n",
    "    ax.axhline(y, color='0.5')\n",
    "    \n",
    "ax.set_aspect('equal')\n",
    "\n",
    "ax = ax_dict['resampled']\n",
    "ax.pcolormesh(\n",
    "    xs_resampled,\n",
    "    ys_resampled,\n",
    "    img_resampled,\n",
    "    vmin = 0,\n",
    "    vmax = 1.1,\n",
    "    cmap = 'cubehelix',\n",
    ")\n",
    "\n",
    "ax.set_aspect('equal')"
   ]
  },
  {
   "cell_type": "code",
   "execution_count": null,
   "id": "25acff45-afd5-47b8-b11f-7dfd13c1944d",
   "metadata": {},
   "outputs": [],
   "source": []
  },
  {
   "cell_type": "code",
   "execution_count": null,
   "id": "c719ba16-3aa9-4eff-9929-6e4d99284cbe",
   "metadata": {},
   "outputs": [],
   "source": []
  }
 ],
 "metadata": {
  "kernelspec": {
   "display_name": "Python 3 (ipykernel)",
   "language": "python",
   "name": "python3"
  },
  "language_info": {
   "codemirror_mode": {
    "name": "ipython",
    "version": 3
   },
   "file_extension": ".py",
   "mimetype": "text/x-python",
   "name": "python",
   "nbconvert_exporter": "python",
   "pygments_lexer": "ipython3",
   "version": "3.11.5"
  }
 },
 "nbformat": 4,
 "nbformat_minor": 5
}
