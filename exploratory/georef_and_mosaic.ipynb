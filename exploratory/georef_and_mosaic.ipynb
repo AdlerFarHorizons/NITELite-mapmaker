{
 "cells": [
  {
   "cell_type": "code",
   "execution_count": null,
   "id": "7f62b559-7c00-411a-8cf8-2c2280317e80",
   "metadata": {},
   "outputs": [],
   "source": [
    "import glob\n",
    "import importlib\n",
    "import numpy as np\n",
    "import os\n",
    "import time"
   ]
  },
  {
   "cell_type": "code",
   "execution_count": null,
   "id": "13e5844e-f413-4057-a9d2-1172da9987ee",
   "metadata": {},
   "outputs": [],
   "source": [
    "import matplotlib\n",
    "import matplotlib.pyplot as plt"
   ]
  },
  {
   "cell_type": "code",
   "execution_count": null,
   "id": "f79bc37e-38b6-448b-8626-c8cab3c860ec",
   "metadata": {},
   "outputs": [],
   "source": [
    "import nitelite_mapmaker"
   ]
  },
  {
   "cell_type": "code",
   "execution_count": null,
   "id": "69cd5769-ebc4-4fa5-bc51-3ba0c78be947",
   "metadata": {},
   "outputs": [],
   "source": [
    "importlib.reload(nitelite_mapmaker)"
   ]
  },
  {
   "cell_type": "markdown",
   "id": "759faed7-138c-4d39-a550-74499a0ced41",
   "metadata": {},
   "source": [
    "# Settings"
   ]
  },
  {
   "cell_type": "code",
   "execution_count": null,
   "id": "6dbd70d5-a9ec-439b-92bc-6afecaefcbc0",
   "metadata": {
    "tags": []
   },
   "outputs": [],
   "source": [
    "flight_name = '220513-FH135'\n",
    "data_dir = '/Users/Shared/data'\n",
    "google_drive_dir = '/Users/zhafensaavedra/Google Drive'"
   ]
  },
  {
   "cell_type": "code",
   "execution_count": null,
   "id": "d43be282-076e-4799-9b1e-86ab9e8b320a",
   "metadata": {},
   "outputs": [],
   "source": [
    "# Directory containing manually-georeferenced data\n",
    "manually_reffed_dir = '/Users/zhafensaavedra/Google Drive/Shared drives/NITELite/Data & Analysis/QGIS FH135/FH135 Main Project/Main Geo Files'\n",
    "# If set to \"None\", one is chosen randomly.\n",
    "manually_reffed_fn = 'Geo 959732303_0.tif'"
   ]
  },
  {
   "cell_type": "code",
   "execution_count": null,
   "id": "2c5ec7ff-0485-4067-88b1-ccd6569855c2",
   "metadata": {
    "tags": []
   },
   "outputs": [],
   "source": [
    "image_dir = os.path.join(data_dir, 'nitelite/images', flight_name, '23085686' )\n",
    "metadata_dir = os.path.join(google_drive_dir, 'Shared drives/NITELite/Data & Analysis/Old NITELite Flights', flight_name, 'data')\n",
    "img_log_fp = os.path.join(metadata_dir, 'image.log')\n",
    "imu_log_fp = os.path.join(metadata_dir, 'OBC/PresIMULog.csv')\n",
    "gps_log_fp = os.path.join(metadata_dir, 'OBC/GPSLog.csv')"
   ]
  },
  {
   "cell_type": "code",
   "execution_count": null,
   "id": "9125fd19-2246-4015-a470-b3e5b8912237",
   "metadata": {},
   "outputs": [],
   "source": [
    "rng = np.random.default_rng(1425)"
   ]
  },
  {
   "cell_type": "markdown",
   "id": "df6d6e47-9d05-456d-8201-d3887c369da8",
   "metadata": {},
   "source": [
    "# Resampling"
   ]
  },
  {
   "cell_type": "markdown",
   "id": "263e4fee-ba32-438e-8120-a18e5c32e2c3",
   "metadata": {},
   "source": [
    "## Setup"
   ]
  },
  {
   "cell_type": "code",
   "execution_count": null,
   "id": "fd3f18db-9759-41f0-a6d8-83b584c067c9",
   "metadata": {
    "tags": []
   },
   "outputs": [],
   "source": [
    "mm = nitelite_mapmaker.mapmaker.Mapmaker(\n",
    "    image_dir=image_dir,\n",
    "    img_log_fp=img_log_fp,\n",
    "    imu_log_fp=imu_log_fp,\n",
    "    gps_log_fp=gps_log_fp,\n",
    ")"
   ]
  },
  {
   "cell_type": "code",
   "execution_count": null,
   "id": "ce8463b8-3109-492f-a6b8-3792adef2820",
   "metadata": {},
   "outputs": [],
   "source": [
    "greffer = nitelite_mapmaker.georeference.GeoReferencer()"
   ]
  },
  {
   "cell_type": "markdown",
   "id": "36dedb3b-a5d2-47bb-8294-ff6f27583c7d",
   "metadata": {},
   "source": [
    "## Set Up Originals"
   ]
  },
  {
   "cell_type": "code",
   "execution_count": null,
   "id": "0b3f7499-c95b-4008-90fc-baa8d3d4cd18",
   "metadata": {},
   "outputs": [],
   "source": [
    "imgs = {}"
   ]
  },
  {
   "cell_type": "code",
   "execution_count": null,
   "id": "d09aa365-687f-4c38-b91a-b55e5bd75b47",
   "metadata": {},
   "outputs": [],
   "source": [
    "def get_rotated_coords(xs_img_frame, ys_img_frame, theta=np.pi/4., ll_coords=np.array([1., 2.])):\n",
    "    \n",
    "    xs_img_frame_mesh, ys_img_frame_mesh = np.meshgrid(xs_img_frame, ys_img_frame)\n",
    "                       \n",
    "    xs = ll_coords[0] + xs_img_frame_mesh * np.cos(theta) + ys_img_frame_mesh * np.sin(theta)\n",
    "    ys = ll_coords[1] + xs_img_frame_mesh * np.sin(-theta) + ys_img_frame_mesh * np.cos(theta)\n",
    "    \n",
    "    return xs, ys"
   ]
  },
  {
   "cell_type": "markdown",
   "id": "93edf7ca-1603-45de-9749-1fe17515d34f",
   "metadata": {},
   "source": [
    "### Random uniform"
   ]
  },
  {
   "cell_type": "code",
   "execution_count": null,
   "id": "b97ddbf2-71d1-49ed-ad33-b5b3e61ccb4f",
   "metadata": {},
   "outputs": [],
   "source": [
    "uniform_img = rng.uniform(size=(1200,1920))"
   ]
  },
  {
   "cell_type": "code",
   "execution_count": null,
   "id": "776d198e-dadb-410f-a2c8-f62a1ae7f43b",
   "metadata": {},
   "outputs": [],
   "source": [
    "xs_img_frame = np.linspace(0., 10., uniform_img.shape[1])\n",
    "ys_img_frame = np.linspace(0., 10., uniform_img.shape[0])"
   ]
  },
  {
   "cell_type": "code",
   "execution_count": null,
   "id": "651efedd-7283-466e-919c-2c6c3bbbb02b",
   "metadata": {},
   "outputs": [],
   "source": [
    "imgs['uniform'] = {\n",
    "    'points': get_rotated_coords(xs_img_frame, ys_img_frame),\n",
    "    'img': uniform_img,\n",
    "}"
   ]
  },
  {
   "cell_type": "markdown",
   "id": "10bda8be-009f-4062-af9c-c6fb7fe97ac7",
   "metadata": {},
   "source": [
    "### Orientation"
   ]
  },
  {
   "cell_type": "code",
   "execution_count": null,
   "id": "82977a46-814f-4a12-ab03-46a3ed1a98a9",
   "metadata": {},
   "outputs": [],
   "source": [
    "orientation_img = np.array([\n",
    "    [ 1., 1., 1., 0., 0., 0., 0., ],\n",
    "    [ 1., 1., 1., 0., 0., 0., 0., ],\n",
    "    [ 0., 0., 0., 0., 0., 0., 0., ],\n",
    "    [ 0., 0., 0., 0., 0., 0., 0., ],\n",
    "    [ 0., 0., 0., 0., 0., 0., 0., ],\n",
    "    [ 0., 0., 0., 0., 0., 0., 0., ],\n",
    "    [ 0., 0., 0., 0., 0., 0., 0., ],\n",
    "])"
   ]
  },
  {
   "cell_type": "code",
   "execution_count": null,
   "id": "236e2043-c9f2-4138-958b-4a62583c841f",
   "metadata": {},
   "outputs": [],
   "source": [
    "xs_img_frame = np.linspace(0., 10., orientation_img.shape[1])\n",
    "ys_img_frame = np.linspace(0., 10., orientation_img.shape[0])"
   ]
  },
  {
   "cell_type": "code",
   "execution_count": null,
   "id": "e9df46f7-0450-4211-b569-94ccb56691f0",
   "metadata": {},
   "outputs": [],
   "source": [
    "imgs['orientation'] = {\n",
    "    'points': get_rotated_coords(xs_img_frame, ys_img_frame),\n",
    "    'img': orientation_img,\n",
    "}"
   ]
  },
  {
   "cell_type": "markdown",
   "id": "67f28cf1-8d0a-4465-ab54-9225c9cb80f2",
   "metadata": {},
   "source": [
    "### Actual random image"
   ]
  },
  {
   "cell_type": "code",
   "execution_count": null,
   "id": "f76cf6b7-0d2b-477f-88f2-4bf5dc27a761",
   "metadata": {},
   "outputs": [],
   "source": [
    "fp = rng.choice(glob.glob(os.path.join(image_dir, '*.raw')))"
   ]
  },
  {
   "cell_type": "code",
   "execution_count": null,
   "id": "96f20eda-4146-410c-9d12-f88f3b55fccb",
   "metadata": {},
   "outputs": [],
   "source": [
    "img = mm.flight.get_rgb_img(fp)[:,:,1]"
   ]
  },
  {
   "cell_type": "code",
   "execution_count": null,
   "id": "cd8904db-3643-46e0-abe4-1f766d5a9c9b",
   "metadata": {},
   "outputs": [],
   "source": [
    "xs_img_frame = np.arange(img.shape[1])\n",
    "ys_img_frame = np.arange(img.shape[0])"
   ]
  },
  {
   "cell_type": "code",
   "execution_count": null,
   "id": "2364f2dd-5d7d-4360-9cbb-79d07a811ae3",
   "metadata": {},
   "outputs": [],
   "source": [
    "imgs['actual'] = {\n",
    "    'points': get_rotated_coords(xs_img_frame, ys_img_frame),\n",
    "    'img': img,\n",
    "}"
   ]
  },
  {
   "cell_type": "markdown",
   "id": "f92988c2-4366-47f1-8617-4e8725fc2683",
   "metadata": {
    "tags": []
   },
   "source": [
    "## Histogram Method"
   ]
  },
  {
   "cell_type": "code",
   "execution_count": null,
   "id": "6a667528-c6e4-4518-a060-49a04fe8b47d",
   "metadata": {},
   "outputs": [],
   "source": [
    "methods = list(imgs.keys())"
   ]
  },
  {
   "cell_type": "code",
   "execution_count": null,
   "id": "8dda7e82-e72e-4dec-ae41-132a1917feb0",
   "metadata": {},
   "outputs": [],
   "source": [
    "mosaic = [['original_{}'.format(_), 'resampled_{}'.format(_)] for _ in methods]"
   ]
  },
  {
   "cell_type": "code",
   "execution_count": null,
   "id": "345307c3-ec5b-4194-ad2e-ad6f6d8b12ea",
   "metadata": {},
   "outputs": [],
   "source": [
    "fig = plt.figure(figsize=(len(mosaic[0])*10,len(mosaic)*10))\n",
    "\n",
    "ax_dict = fig.subplot_mosaic(mosaic)\n",
    "\n",
    "for method in methods:\n",
    "    \n",
    "    start = time.time()\n",
    "    \n",
    "    (xs_resampled, ys_resampled), img_resampled = greffer.resample(**imgs[method])\n",
    "    \n",
    "    time_taken = time.time() - start\n",
    "    print('{} took {:.2g} seconds'.format(method, time_taken))\n",
    "    \n",
    "    ax = ax_dict['original_{}'.format(method)]\n",
    "    ax.pcolormesh(\n",
    "        imgs[method]['points'][0],\n",
    "        imgs[method]['points'][1],\n",
    "        imgs[method]['img'],\n",
    "        vmin=0,\n",
    "        vmax=1,\n",
    "    )\n",
    "    ax.set_aspect('equal')\n",
    "\n",
    "    ax = ax_dict['resampled_{}'.format(method)]\n",
    "    ax.pcolormesh(\n",
    "        xs_resampled,\n",
    "        ys_resampled,\n",
    "        img_resampled,\n",
    "        vmin=0,\n",
    "        vmax=1,\n",
    "    )\n",
    "    ax.set_aspect('equal')"
   ]
  },
  {
   "cell_type": "markdown",
   "id": "14bd06f9-3063-436c-9c25-63f11df6efb7",
   "metadata": {},
   "source": [
    "Looks pretty clear that the histogram method introduces some artifacts."
   ]
  },
  {
   "cell_type": "code",
   "execution_count": null,
   "id": "4adf607e-54ff-4e9a-a62b-4b86dc2452b8",
   "metadata": {},
   "outputs": [],
   "source": []
  }
 ],
 "metadata": {
  "kernelspec": {
   "display_name": "Python 3 (ipykernel)",
   "language": "python",
   "name": "python3"
  },
  "language_info": {
   "codemirror_mode": {
    "name": "ipython",
    "version": 3
   },
   "file_extension": ".py",
   "mimetype": "text/x-python",
   "name": "python",
   "nbconvert_exporter": "python",
   "pygments_lexer": "ipython3",
   "version": "3.11.5"
  }
 },
 "nbformat": 4,
 "nbformat_minor": 5
}
