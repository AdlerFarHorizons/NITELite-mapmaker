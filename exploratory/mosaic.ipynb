{
 "cells": [
  {
   "cell_type": "markdown",
   "id": "812f229f-d197-4bcc-8ac1-b4bc07ba1715",
   "metadata": {},
   "source": [
    "# Mosaic\n",
    "\n",
    "Exploration of mosaicking."
   ]
  },
  {
   "cell_type": "markdown",
   "id": "b69ed8e4-65dd-42e2-b751-ba5dc4d3d676",
   "metadata": {},
   "source": [
    "# Imports"
   ]
  },
  {
   "cell_type": "code",
   "execution_count": null,
   "id": "1a7a6412-8b81-4de0-9fdf-5272109a704e",
   "metadata": {},
   "outputs": [],
   "source": [
    "# Native python\n",
    "import copy\n",
    "import os"
   ]
  },
  {
   "cell_type": "code",
   "execution_count": null,
   "id": "e1234fcf-1b8e-4f0a-9dd3-103f0bd3fad7",
   "metadata": {},
   "outputs": [],
   "source": [
    "# External\n",
    "import cv2\n",
    "import numpy as np\n",
    "from osgeo import gdal\n",
    "import pandas as pd\n",
    "import sklearn.model_selection\n",
    "import tqdm\n",
    "import pyproj"
   ]
  },
  {
   "cell_type": "code",
   "execution_count": null,
   "id": "82f5ee8d-49af-4e21-91cc-4bd1784d0a0e",
   "metadata": {},
   "outputs": [],
   "source": [
    "# Plotting\n",
    "import matplotlib\n",
    "import matplotlib.pyplot as plt\n",
    "import matplotlib.patches as patches\n",
    "import seaborn as sns\n",
    "sns.set_style('white')\n",
    "import folium"
   ]
  },
  {
   "cell_type": "code",
   "execution_count": null,
   "id": "e5ba4784-0106-44a9-83d5-1723aeac3262",
   "metadata": {
    "tags": []
   },
   "outputs": [],
   "source": [
    "# Custom scripts\n",
    "from nitelite_mapmaker import mapmaker, georeference, observations"
   ]
  },
  {
   "cell_type": "markdown",
   "id": "c14bbdbb-6584-4e94-9e4e-c69bb8bf679b",
   "metadata": {},
   "source": [
    "# Settings"
   ]
  },
  {
   "cell_type": "code",
   "execution_count": null,
   "id": "c1215d28-28fe-4867-9299-0c871c53a306",
   "metadata": {},
   "outputs": [],
   "source": [
    "settings = dict(\n",
    "    # Data architecture\n",
    "    flight_name = '220513-FH135',\n",
    "    data_dir = '/Users/Shared/data/nitelite',\n",
    "    google_drive_dir = '/Users/zhafensaavedra/Google Drive/Shared drives/NITELite/Data & Analysis',\n",
    "    flight_subdir = 'Old NITELite Flights/220513-FH135',\n",
    "    reffed_subdir = 'QGIS FH135/FH135 Main Project/Main Geo Files',\n",
    "    img_log_filename = 'image.log',\n",
    "    imu_log_filename = 'OBC/PresIMULog.csv',\n",
    "    gps_log_filename = 'OBC/GPSLog.csv',\n",
    "      \n",
    "    # Choices for what to process\n",
    "    camera_num = 1,\n",
    "    test_size = 0.2,\n",
    "    overwrite_coords_for_reffed = True,\n",
    "    random_state = 16574,\n",
    "    \n",
    "    # Data filter choices\n",
    "    # gyro_mag_cut = 0.5, # Corresponds to ~84th percentile\n",
    "    gyro_mag_cut = 0.02, # Based on visual inspection\n",
    "    # percent_for_landed = 95.,\n",
    "    percent_for_cruising = 85.,\n",
    "    # mult_of_std_for_steady = 2.,\n",
    "    # rolling_window_in_min = 1.,\n",
    "    homography_det_min = 0.5, # Only let the image shrink or scale by up to a factor of 2\n",
    "    \n",
    "    # Mosaicking choices\n",
    "    allotted_memory = 2., # In GB\n",
    "    n_tiles_guess = 16,\n",
    ")"
   ]
  },
  {
   "cell_type": "markdown",
   "id": "84bf9457-038c-4bdc-8c76-c0d010830196",
   "metadata": {},
   "source": [
    "# Set Up"
   ]
  },
  {
   "cell_type": "markdown",
   "id": "5fa1494c-8a42-4e77-ad79-b265b4053ab9",
   "metadata": {},
   "source": [
    "## Settings Parsing"
   ]
  },
  {
   "cell_type": "code",
   "execution_count": null,
   "id": "a57ffa3c-bdcb-4257-96c6-57ff6dee839c",
   "metadata": {},
   "outputs": [],
   "source": [
    "# The camera has an according long number\n",
    "settings['camera_long_num'] = settings['camera_num'] + 23085686"
   ]
  },
  {
   "cell_type": "code",
   "execution_count": null,
   "id": "56bc787a-2f5b-420e-9fce-011043a559a9",
   "metadata": {},
   "outputs": [],
   "source": [
    "# Data architecture processing\n",
    "settings['image_dir'] = os.path.join(\n",
    "    settings['data_dir'],\n",
    "    'images',\n",
    "    settings['flight_name'],\n",
    "    str(settings['camera_long_num'])\n",
    ")\n",
    "settings['metadata_dir'] = os.path.join(\n",
    "    settings['google_drive_dir'],\n",
    "    settings['flight_subdir'],\n",
    "    'data',\n",
    ")\n",
    "settings['referenced_dir'] = os.path.join(\n",
    "    settings['google_drive_dir'],\n",
    "    settings['reffed_subdir'],\n",
    ")"
   ]
  },
  {
   "cell_type": "markdown",
   "id": "24f8565f-0f25-4182-b9bd-d0e0948efa11",
   "metadata": {},
   "source": [
    "## Object Creation and Preprocessing"
   ]
  },
  {
   "cell_type": "code",
   "execution_count": null,
   "id": "ed22b5df-5ffa-4bb0-b313-b0fdc41eb446",
   "metadata": {
    "tags": []
   },
   "outputs": [],
   "source": [
    "# Create the main mapmaker object\n",
    "mm = mapmaker.Mapmaker(\n",
    "    image_dir=settings['image_dir'],\n",
    "    img_log_fp=os.path.join(settings['metadata_dir'], settings['img_log_filename']),\n",
    "    imu_log_fp=os.path.join(settings['metadata_dir'], settings['imu_log_filename']),\n",
    "    gps_log_fp=os.path.join(settings['metadata_dir'], settings['gps_log_filename']),\n",
    "    referenced_dir=settings['referenced_dir']\n",
    ")"
   ]
  },
  {
   "cell_type": "code",
   "execution_count": null,
   "id": "c2f4c717-e892-47bd-af3c-caeec5ffc7fe",
   "metadata": {},
   "outputs": [],
   "source": [
    "# General metadata loading\n",
    "mm.prep()"
   ]
  },
  {
   "cell_type": "code",
   "execution_count": null,
   "id": "0fc081cc-8d33-4436-86f2-c01c3413b506",
   "metadata": {},
   "outputs": [],
   "source": [
    "mm.flight.update_metadata_with_cart_bounds()"
   ]
  },
  {
   "cell_type": "code",
   "execution_count": null,
   "id": "f9a35f16-fb00-4bce-9602-f89c8d95d705",
   "metadata": {},
   "outputs": [],
   "source": [
    "metadata = mm.flight.metadata"
   ]
  },
  {
   "cell_type": "code",
   "execution_count": null,
   "id": "cb2fe5b5-6412-4847-acf4-fd3c9299f535",
   "metadata": {},
   "outputs": [],
   "source": [
    "# Color palette\n",
    "palette = sns.color_palette('deep')"
   ]
  },
  {
   "cell_type": "markdown",
   "id": "17660370-4faf-41e0-8db3-0db9d0efb69e",
   "metadata": {
    "tags": []
   },
   "source": [
    "# Exploration"
   ]
  },
  {
   "cell_type": "markdown",
   "id": "8bc756fd-fca6-469d-a2e9-7e89d7764cec",
   "metadata": {},
   "source": [
    "## Determine How Many Images We Can Load"
   ]
  },
  {
   "cell_type": "code",
   "execution_count": null,
   "id": "0e11fb17-0a6c-4ea3-837b-20a0ebc1ad9b",
   "metadata": {},
   "outputs": [],
   "source": [
    "def get_size_in_GB(fp):\n",
    "    try:\n",
    "        return os.path.getsize(fp) / 1024**3\n",
    "    except FileNotFoundError:\n",
    "        return np.nan"
   ]
  },
  {
   "cell_type": "code",
   "execution_count": null,
   "id": "2277bb0c-9df1-47c3-b452-4d4971f7a120",
   "metadata": {},
   "outputs": [],
   "source": [
    "# For raw data\n",
    "filesizes = metadata['filepath'].apply(get_size_in_GB)\n",
    "median_filesize = np.nanmedian(filesizes)\n",
    "n_files_in_memory = int(settings['allotted_memory'] // median_filesize)\n",
    "print(f'Number of raw files to hold in memory: {n_files_in_memory}')"
   ]
  },
  {
   "cell_type": "code",
   "execution_count": null,
   "id": "13f710b7-d09c-466c-862c-b76161cbe2e7",
   "metadata": {},
   "outputs": [],
   "source": [
    "# For manually-georeferenced data\n",
    "man_filesizes = metadata.loc[metadata['manually_referenced_fp'].notna(), 'manually_referenced_fp'].apply(get_size_in_GB)\n",
    "man_median_filesize = np.nanmedian(man_filesizes)\n",
    "n_man_files_in_memory = int(settings['allotted_memory'] // man_median_filesize)\n",
    "print(f'Number of raw manually-referenced files to hold in memory: {n_man_files_in_memory}')"
   ]
  },
  {
   "cell_type": "markdown",
   "id": "c8c8ed85-cb65-4d68-9837-db98353212a1",
   "metadata": {},
   "source": [
    "## Determine What Images Are Valid"
   ]
  },
  {
   "cell_type": "code",
   "execution_count": null,
   "id": "e3fe853c-1a98-43fa-ab7d-d8a2f5864032",
   "metadata": {},
   "outputs": [],
   "source": [
    "metadata['valid'] = True"
   ]
  },
  {
   "cell_type": "markdown",
   "id": "a6030ab7-ffd6-4695-9ec0-d3e32fa9c1da",
   "metadata": {},
   "source": [
    "### Cruise Altitude"
   ]
  },
  {
   "cell_type": "code",
   "execution_count": null,
   "id": "770eeecc-b407-4ab2-a319-374b51ebed83",
   "metadata": {},
   "outputs": [],
   "source": [
    "h_max = metadata['mAltitude'].max()\n",
    "h_min = metadata['mAltitude'].min()\n",
    "h_diff = h_max - h_min\n",
    "\n",
    "h_cruising = h_min + settings['percent_for_cruising'] / 100. * h_diff"
   ]
  },
  {
   "cell_type": "code",
   "execution_count": null,
   "id": "9ff058ca-467d-451b-ba54-fafc851d117a",
   "metadata": {},
   "outputs": [],
   "source": [
    "fig = plt.figure()\n",
    "ax = plt.gca()\n",
    "\n",
    "ax.scatter(\n",
    "    metadata['timestamp'],\n",
    "    metadata['mAltitude'],\n",
    ")\n",
    "\n",
    "ax.axhline(h_cruising)"
   ]
  },
  {
   "cell_type": "code",
   "execution_count": null,
   "id": "699070a4-55be-4747-a8fa-32510e494e03",
   "metadata": {},
   "outputs": [],
   "source": [
    "metadata.loc[metadata['mAltitude']<h_cruising, 'valid'] = False"
   ]
  },
  {
   "cell_type": "markdown",
   "id": "13d2d0ee-be13-4ada-9737-122da4db04be",
   "metadata": {},
   "source": [
    "### Movement"
   ]
  },
  {
   "cell_type": "code",
   "execution_count": null,
   "id": "e4eb5bce-5f52-4896-a945-f92edad9bdcc",
   "metadata": {},
   "outputs": [],
   "source": [
    "# Magnitude of Gyro\n",
    "metadata['imuGyroMag'] = np.sqrt((metadata[['imuGyroX','imuGyroY','imuGyroZ']]**2.).sum(axis='columns'))"
   ]
  },
  {
   "cell_type": "code",
   "execution_count": null,
   "id": "3c81934a-9dd5-4e13-a8f8-9f00a2b85f96",
   "metadata": {
    "tags": []
   },
   "outputs": [],
   "source": [
    "# # Fancy method for movement\n",
    "\n",
    "# # Select cruise data\n",
    "# cruise_data = metadata.loc[metadata['flight_phase'] == 'cruise']\n",
    "# cruise_data = cruise_data.set_index('timestamp')\n",
    "\n",
    "# # Get rolling deviation\n",
    "# cruise_rolling = cruise_data.rolling(window=pd.Timedelta(settings['rolling_window_in_min'], 'min'))\n",
    "# cruise_rolling_std = cruise_rolling.std(numeric_only=True)\n",
    "\n",
    "# # Identify and store steady data\n",
    "# cruise_data.loc[:,'is_steady'] = cruise_rolling_std['imuGyroMag'] < settings['mult_of_std_for_steady'] * np.nanmedian(cruise_rolling_std['imuGyroMag'])\n",
    "# cruise_rolling_std.loc[:,'is_steady'] = cruise_data['is_steady']\n",
    "# metadata['is_steady'] = False\n",
    "# metadata.loc[metadata['flight_phase'] == 'cruise','is_steady'] = cruise_data['is_steady'].values\n",
    "\n",
    "# metadata.loc[~metadata['is_steady'], 'valid'] = False"
   ]
  },
  {
   "cell_type": "code",
   "execution_count": null,
   "id": "e43a7795-799e-4777-b249-ad86a3f8a6c0",
   "metadata": {},
   "outputs": [],
   "source": [
    "# Let's look at the images for a few different movement magnitudes\n",
    "sorted_by_movement = metadata.loc[metadata['valid']].sort_values('imuGyroMag')"
   ]
  },
  {
   "cell_type": "code",
   "execution_count": null,
   "id": "a4472ea2-903a-4a35-8741-03f4df1612fb",
   "metadata": {},
   "outputs": [],
   "source": [
    "n_imgs = 3\n",
    "subplot_mosaic = [[_, ] for _ in range(n_imgs)]\n",
    "fig = plt.figure(figsize=(15,n_imgs*10))\n",
    "ax_dict = fig.subplot_mosaic(subplot_mosaic) \n",
    "\n",
    "for i in range(n_imgs):\n",
    "    ax = ax_dict[i]\n",
    "    \n",
    "    j = i * len(sorted_by_movement) // n_imgs\n",
    "    while j < len(sorted_by_movement):\n",
    "        try:\n",
    "            ind = sorted_by_movement.index[j]\n",
    "            obs_i = mm.flight.get_observation(ind)\n",
    "            obs_i.show(ax=ax)\n",
    "            break\n",
    "        except:\n",
    "            j += 1\n",
    "    ax.set_title(f\"mag = {obs_i.metadata['imuGyroMag']}\")"
   ]
  },
  {
   "cell_type": "code",
   "execution_count": null,
   "id": "da59e672-c779-4767-9800-d28999169c99",
   "metadata": {},
   "outputs": [],
   "source": [
    "# Must not be moving too fast\n",
    "metadata.loc[metadata['imuGyroMag'] > settings['gyro_mag_cut'], 'valid'] = False"
   ]
  },
  {
   "cell_type": "markdown",
   "id": "2d4a16d3-2b06-4ed2-a04b-79320416fe42",
   "metadata": {},
   "source": [
    "### Camera Number"
   ]
  },
  {
   "cell_type": "code",
   "execution_count": null,
   "id": "42c8c590-182b-4799-9a26-e79b06c24fd2",
   "metadata": {},
   "outputs": [],
   "source": [
    "metadata.loc[metadata['camera_num'] != settings['camera_num'], 'valid'] = False"
   ]
  },
  {
   "cell_type": "markdown",
   "id": "f9114079-16d1-4113-80ed-6d82461f1df9",
   "metadata": {},
   "source": [
    "### Is a Manually-referenced Image"
   ]
  },
  {
   "cell_type": "code",
   "execution_count": null,
   "id": "6d57b0c6-05ef-41af-8de1-e332df732d3f",
   "metadata": {},
   "outputs": [],
   "source": [
    "# metadata.loc[metadata['manually_referenced_fp'].isna(), 'valid'] = False"
   ]
  },
  {
   "cell_type": "markdown",
   "id": "2f708be5-1d01-4ebe-a59d-3dc4110c2652",
   "metadata": {},
   "source": [
    "### Select Data"
   ]
  },
  {
   "cell_type": "code",
   "execution_count": null,
   "id": "59d71c91-e4ca-47de-b809-faa7a71cb5f0",
   "metadata": {},
   "outputs": [],
   "source": [
    "selected = metadata.loc[metadata['valid']].copy()\n",
    "selected.sort_values('timestamp', inplace=True)"
   ]
  },
  {
   "cell_type": "markdown",
   "id": "2c416722-8d1e-4e6e-9645-683898057bf2",
   "metadata": {},
   "source": [
    "# Data split\n",
    "Only train and test. No validation for right now, but maybe later. Final sample will be using manually referenced ones for validation maybe?"
   ]
  },
  {
   "cell_type": "code",
   "execution_count": null,
   "id": "02432fcc-fd4e-4ccd-8b0d-c742405c597c",
   "metadata": {},
   "outputs": [],
   "source": [
    "selected_train, selected_test = sklearn.model_selection.train_test_split(selected, test_size=settings['test_size'], random_state=settings['random_state'])"
   ]
  },
  {
   "cell_type": "markdown",
   "id": "56e58eba-6646-4fef-aa58-6599d72a6ff8",
   "metadata": {},
   "source": [
    "# Mosaic Creation"
   ]
  },
  {
   "cell_type": "code",
   "execution_count": null,
   "id": "15b92d14-5d4c-4c5f-9288-da42d9595082",
   "metadata": {},
   "outputs": [],
   "source": [
    "# Create OpenCV objects\n",
    "orb = cv2.ORB_create()\n",
    "bf = cv2.BFMatcher_create(cv2.NORM_HAMMING)"
   ]
  },
  {
   "cell_type": "code",
   "execution_count": null,
   "id": "779c38c6-f928-4ffc-83c3-4a0a7d2fb421",
   "metadata": {},
   "outputs": [],
   "source": [
    "def incorporate_image(obs, dst_image, homography_det_min=settings['homography_det_min'], n_matches_used=-1, verbose=False):\n",
    "    \n",
    "    # Perform match\n",
    "    matches = bf.match(obs.des, dst_image.des)\n",
    "    # Sort them in the order of their distance.\n",
    "    matches = sorted(matches, key = lambda x:x.distance)\n",
    "\n",
    "    # Points for the transform\n",
    "    src_pts = np.array([obs.kp[m.queryIdx].pt for m in matches]).reshape(-1,1,2)\n",
    "    dst_pts = np.array([dst_image.kp[m.trainIdx].pt for m in matches]).reshape(-1,1,2)\n",
    "\n",
    "    # Get the transform\n",
    "    M, mask = cv2.findHomography(src_pts, dst_pts, cv2.RANSAC, 5.)\n",
    "    abs_det_M = np.abs(np.linalg.det(M))\n",
    "    if verbose:\n",
    "        print(abs_det_M)\n",
    "    \n",
    "    # For bad transforms (e.g. small determinant) return as-is\n",
    "    if (abs_det_M < homography_det_min) or (abs_det_M > 1./homography_det_min):\n",
    "        return dst_image, 1\n",
    "\n",
    "    # Corners for image\n",
    "    img_height, img_width = obs.img_shape\n",
    "    corners = np.float32([[0, 0], [0, img_height], [img_width, img_height], [img_width, 0]])\n",
    "    transformed_corners = cv2.perspectiveTransform(corners.reshape(-1, 1, 2), M)\n",
    "    \n",
    "    # Corners for the destination image\n",
    "    dst_height, dst_width = dst_image.img_shape\n",
    "    dst_corners = np.float32([[0, 0], [0, dst_height], [dst_width, dst_height], [dst_width, 0]])\n",
    "    \n",
    "    # Get dimensions of combined image\n",
    "    all_corners = np.concatenate([transformed_corners.reshape(-1, 2), dst_corners])\n",
    "    px_min, py_min = all_corners.min(axis=0).astype('int')\n",
    "    px_max, py_max = all_corners.max(axis=0).astype('int')\n",
    "    width = px_max - px_min\n",
    "    height = py_max - py_min\n",
    "    \n",
    "    # Translation matrix to shift the transformed image within the new bounds\n",
    "    translation_matrix = np.array([[1, 0, -px_min], [0, 1, -py_min], [0, 0, 1]]).astype(float)\n",
    "\n",
    "    # Update the homography matrix to include the translation\n",
    "    new_M = np.dot(translation_matrix, M)\n",
    "\n",
    "    # Warp the image being fit\n",
    "    warped_img = cv2.warpPerspective(obs.img_int, new_M, (width, height))\n",
    "\n",
    "    # Translate the dst image\n",
    "    translated_dst_img = cv2.warpPerspective(dst_image.img_int, translation_matrix, (width, height))\n",
    "\n",
    "    # Make masks for blending. To start we'll want to just overlay images. We can average later.\n",
    "    # Overlaying means we only want to add warped image where the translated image does not exist\n",
    "    dst_img_exists = dst_image.get_nonzero_mask().astype(np.uint8)\n",
    "    translated_dst_img_exists = cv2.warpPerspective(dst_img_exists, translation_matrix, (width, height))\n",
    "\n",
    "    # Overlay\n",
    "    include_warped_img = ~(translated_dst_img_exists.astype(bool))\n",
    "    blended_img = copy.copy(translated_dst_img)\n",
    "    blended_img[include_warped_img] = warped_img[include_warped_img]\n",
    "    \n",
    "    # Convert bounds\n",
    "    x_bounds, y_bounds = dst_image.convert_pixel_to_cart(\n",
    "        np.array([px_min, px_max]),\n",
    "        np.array([py_max, py_min]),\n",
    "    )\n",
    "    \n",
    "    # Output image\n",
    "    out_image = observations.ReferencedImage(\n",
    "        blended_img,\n",
    "        x_bounds,\n",
    "        y_bounds,\n",
    "        cart_crs_code = mm.flight.cart_crs_code,\n",
    "        latlon_crs_code = mm.flight.latlon_crs_code,\n",
    "    )\n",
    "    \n",
    "    return out_image, 0"
   ]
  },
  {
   "cell_type": "markdown",
   "id": "eefdf348-2d25-4116-ae98-b8c73d819738",
   "metadata": {},
   "source": [
    "## Order of Iteration"
   ]
  },
  {
   "cell_type": "code",
   "execution_count": null,
   "id": "16f0790a-b3ce-485e-a662-1955b5174281",
   "metadata": {},
   "outputs": [],
   "source": [
    "# Determine order for sorting\n",
    "selected_train.sort_values('timestamp', inplace=True)\n",
    "indices = selected_train.index"
   ]
  },
  {
   "cell_type": "code",
   "execution_count": null,
   "id": "d175e840-8fc6-4aae-95a1-eff846e3f09c",
   "metadata": {},
   "outputs": [],
   "source": [
    "# Colors\n",
    "norm = matplotlib.colors.Normalize(vmin=0, vmax=len(indices) - 1)\n",
    "cmap = sns.color_palette('viridis', as_cmap=True)"
   ]
  },
  {
   "cell_type": "code",
   "execution_count": null,
   "id": "bc03c71b-a443-4d94-a69b-d785b6360f7f",
   "metadata": {},
   "outputs": [],
   "source": [
    "# Plot images, colored by order of overlay\n",
    "fig = plt.figure(figsize=(15,15))\n",
    "ax = plt.gca()\n",
    "\n",
    "# Plot centers\n",
    "ax.scatter(\n",
    "    selected_train.loc[indices, 'img_x_center'],\n",
    "    selected_train.loc[indices, 'img_y_center'],\n",
    "    color=cmap(norm(np.arange(len(indices)))),\n",
    ")\n",
    "\n",
    "# Plot bounds\n",
    "for i, ind in enumerate(indices):\n",
    "    row_i = selected_train.loc[ind]\n",
    "\n",
    "    rect = patches.Rectangle(\n",
    "        (row_i['img_x_min'], row_i['img_y_min']),\n",
    "        row_i['img_width'],\n",
    "        row_i['img_height'],\n",
    "        linewidth=3,\n",
    "        facecolor='none',\n",
    "        edgecolor=cmap(norm(i))\n",
    "    )\n",
    "    ax.add_patch(rect)\n",
    "    \n",
    "    ax.annotate(\n",
    "        text=i,\n",
    "        xy=(row_i['img_x_min'], row_i['img_y_min']),\n",
    "        xycoords='data',\n",
    "        xytext=(2, 2),\n",
    "        textcoords='offset points',\n",
    "        ha='left',\n",
    "        va='bottom',\n",
    "        size = 20,\n",
    "    )\n",
    "\n",
    "ax.set_aspect('equal')"
   ]
  },
  {
   "cell_type": "markdown",
   "id": "3ac6bdb7-3379-494d-b301-25f4a8e654cc",
   "metadata": {},
   "source": [
    "## First Two Images"
   ]
  },
  {
   "cell_type": "code",
   "execution_count": null,
   "id": "51a7f50e-6f57-4733-b385-e66784e51774",
   "metadata": {},
   "outputs": [],
   "source": [
    "# Starting image\n",
    "ind0 = selected_train.loc[selected_train['manually_referenced_fp'].notna()].index[0]\n",
    "obs0 = mm.flight.get_referenced_observation(ind0)"
   ]
  },
  {
   "cell_type": "code",
   "execution_count": null,
   "id": "b00a5814-5ed6-42f4-9b47-5941ba1bf8e1",
   "metadata": {},
   "outputs": [],
   "source": [
    "# First image to incorporate\n",
    "ind1 = indices[1]\n",
    "obs1 = mm.flight.get_observation(ind1)"
   ]
  },
  {
   "cell_type": "code",
   "execution_count": null,
   "id": "c4c8ccb0-33c0-4e81-bf29-be3f50d0255c",
   "metadata": {},
   "outputs": [],
   "source": [
    "# Second image to incorporate\n",
    "ind2 = indices[2]\n",
    "obs2 = mm.flight.get_observation(ind2)"
   ]
  },
  {
   "cell_type": "code",
   "execution_count": null,
   "id": "1b0ddfb6-57a2-4a0f-9663-d0bda2580b70",
   "metadata": {},
   "outputs": [],
   "source": [
    "# First incorporated image\n",
    "dst_img1, return_code1 = incorporate_image(obs1, obs0)\n",
    "dst_img1_even_if_bad, _ = incorporate_image(obs1, obs0, homography_det_min=1e-12, verbose=True)"
   ]
  },
  {
   "cell_type": "code",
   "execution_count": null,
   "id": "60a57d3b-654c-49fa-8522-be981aeeb064",
   "metadata": {},
   "outputs": [],
   "source": [
    "subplot_mosaic = [['obs0', 'obs1'], ['combined', 'combined']]\n",
    "\n",
    "fig = plt.figure(figsize=(21,14))\n",
    "ax_dict = fig.subplot_mosaic(subplot_mosaic, height_ratios=[10,20])\n",
    "\n",
    "# Overplotted expectation\n",
    "ax = ax_dict['obs0']\n",
    "\n",
    "# Starting image\n",
    "obs0.show(ax=ax, crs='cartesian', img='semitransparent_img')\n",
    "obs0.plot_bounds(ax=ax, edgecolor=palette[0], label='img0', zorder=100, linewidth=7)\n",
    "ax.set_title('obs0')\n",
    "\n",
    "# First image\n",
    "ax = ax_dict['obs1']\n",
    "obs1.show(ax=ax)\n",
    "ax.set_title('obs1')\n",
    "\n",
    "ax = ax_dict['combined']\n",
    "dst_img1_even_if_bad.show(ax=ax, crs='cartesian', img='semitransparent_img')\n",
    "ax.set_title(f'Bad = {bool(return_code1)}')"
   ]
  },
  {
   "cell_type": "markdown",
   "id": "c8058771-2d21-4e99-afff-2255af409cc6",
   "metadata": {},
   "source": [
    "## First Valid Images"
   ]
  },
  {
   "cell_type": "code",
   "execution_count": null,
   "id": "107636b5-5938-4509-8328-957f27abd35d",
   "metadata": {},
   "outputs": [],
   "source": [
    "dst_img = obs0\n",
    "return_code_i = 1\n",
    "i = 0\n",
    "while return_code_i != 0:\n",
    "    i += 1\n",
    "    ind = indices[i]\n",
    "    obs_i = mm.flight.get_observation(ind)\n",
    "    dst_img, return_code_i = incorporate_image(obs_i, dst_img, homography_det_min=1e-1, verbose=True)\n",
    "obs2 = obs_i\n",
    "dst_img2 = dst_img"
   ]
  },
  {
   "cell_type": "code",
   "execution_count": null,
   "id": "69e0569e-cdab-43d5-befb-610d1d2347b8",
   "metadata": {},
   "outputs": [],
   "source": [
    "# Only plot matches\n",
    "matches = bf.match(obs2.des, dst_img1.des)\n",
    "# Sort them in the order of their distance.\n",
    "matches = sorted(matches, key = lambda x:x.distance)\n",
    "obs2_matched_kps = [obs2.kp[m.queryIdx] for m in matches]\n",
    "dst_img1_matched_kps = [dst_img1.kp[m.trainIdx] for m in matches]\n",
    "match_distances = [m.distance for m in matches]"
   ]
  },
  {
   "cell_type": "code",
   "execution_count": null,
   "id": "bf5aea0b-4278-42e6-9f78-3b0418891987",
   "metadata": {},
   "outputs": [],
   "source": [
    "obs2_kp_pxs, obs2_kp_pys = np.array([_.pt for _ in obs2_matched_kps]).transpose()\n",
    "dst_img1_kp_pxs, dst_img1_kp_pys = np.array([_.pt for _ in dst_img1_matched_kps]).transpose()\n",
    "dst_img1_kp_xs, dst_img1_kp_ys = dst_img1.convert_pixel_to_cart(dst_img1_kp_pxs, dst_img1_kp_pys)"
   ]
  },
  {
   "cell_type": "code",
   "execution_count": null,
   "id": "432879a3-96dd-416f-a968-b89e7ff8113f",
   "metadata": {},
   "outputs": [],
   "source": [
    "n_shown = 5\n",
    "subplot_mosaic = [['dst_img1', 'obs2'], ['combined', 'combined']]\n",
    "\n",
    "fig = plt.figure(figsize=(20,20))\n",
    "ax_dict = fig.subplot_mosaic(subplot_mosaic)\n",
    "\n",
    "\n",
    "# First combined image\n",
    "ax = ax_dict['dst_img1']\n",
    "\n",
    "dst_img1.show(ax=ax, img='semitransparent_img')\n",
    "dst_img1.plot_kp(ax=ax, kp=dst_img1_matched_kps[:n_shown], crs_transform=None, colors=match_distances, cmap='viridis_r')\n",
    "\n",
    "# Next image to add\n",
    "ax = ax_dict['obs2']\n",
    "\n",
    "obs2.show(ax=ax)\n",
    "obs2.plot_kp(ax=ax, kp=obs2_matched_kps[:n_shown], colors=match_distances, cmap='viridis_r')\n",
    "\n",
    "for i in range(n_shown):\n",
    "\n",
    "    match = matches[i]\n",
    "    xy = dst_img1_matched_kps[i].pt\n",
    "    obs2_xy = obs2_matched_kps[i].pt\n",
    "\n",
    "    con = patches.ConnectionPatch(\n",
    "        xyA=xy,\n",
    "        xyB=obs2_xy,\n",
    "        coordsA='data',\n",
    "        coordsB='data',\n",
    "        axesA=ax_dict['dst_img1'],\n",
    "        axesB=ax_dict['obs2'],\n",
    "        color=palette[1],\n",
    "        linewidth=3,\n",
    "    )\n",
    "    ax.add_artist(con)\n",
    "\n",
    "# Combined reality\n",
    "ax = ax_dict['combined']\n",
    "dst_img2.show(ax=ax, crs='cartesian', img='semitransparent_img')\n",
    "\n",
    "# Add labels\n",
    "for ax_key, ax in ax_dict.items():\n",
    "    ax.set_title(ax_key)"
   ]
  },
  {
   "cell_type": "markdown",
   "id": "b95dd1ef-f738-4403-8285-e616d2bd079a",
   "metadata": {},
   "source": [
    "## Full Loop"
   ]
  },
  {
   "cell_type": "code",
   "execution_count": null,
   "id": "da079f98-d808-457a-a5af-51b9276e4e76",
   "metadata": {},
   "outputs": [],
   "source": [
    "dst_img = obs0\n",
    "included_indices = []\n",
    "snapshot_imgs = []\n",
    "snapshot_frequency = 10\n",
    "for i, ind in enumerate(tqdm.tqdm(selected_train.index)):\n",
    "    \n",
    "    obs_i = mm.flight.get_observation(ind)\n",
    "    dst_img, return_code_i = incorporate_image(obs_i, dst_img, homography_det_min=0.5)\n",
    "    \n",
    "    if return_code_i == 0:\n",
    "        included_indices.append(ind)\n",
    "        if len(included_indices) % snapshot_frequency == 0:\n",
    "            snapshot_imgs.append(copy.copy(dst_img.img_int))\n",
    "            \n",
    "    if len(included_indices) > 40:\n",
    "        break"
   ]
  },
  {
   "cell_type": "code",
   "execution_count": null,
   "id": "26cf7faf-2743-4f0e-a15d-71ebccc0b152",
   "metadata": {},
   "outputs": [],
   "source": [
    "subplot_mosaic = [[_,] for _ in range(len(snapshot_imgs))]\n",
    "fig = plt.figure(figsize=(14, 7*len(subplot_mosaic)))\n",
    "ax_dict = fig.subplot_mosaic(subplot_mosaic)\n",
    "\n",
    "for i, snapshot_img in enumerate(snapshot_imgs):\n",
    "    ax = ax_dict[i]\n",
    "    \n",
    "    ax.imshow(snapshot_img)\n",
    "    \n",
    "    ax.annotate(\n",
    "        text=f'# included = {(i+1)*snapshot_frequency}',\n",
    "        xy=(1, 1),\n",
    "        xytext=(-5, -5),\n",
    "        xycoords='axes fraction',\n",
    "        textcoords='offset points',\n",
    "        ha='right',\n",
    "        va='top',\n",
    "        color='w',\n",
    "    )\n",
    "    \n",
    "    ax.tick_params(labelleft=False, labelbottom=False)\n",
    "    \n",
    "plt.tight_layout()"
   ]
  },
  {
   "cell_type": "markdown",
   "id": "3d2ad08e-15ac-4356-8b60-fbb31acbc427",
   "metadata": {},
   "source": [
    "# Old\n",
    "\n",
    "Much assumed we were going to use the Stitcher class"
   ]
  },
  {
   "cell_type": "markdown",
   "id": "971c0b69-e88e-4457-be5e-9540bcdb9b7e",
   "metadata": {},
   "source": [
    "## Using Referenced Files Only"
   ]
  },
  {
   "cell_type": "code",
   "execution_count": null,
   "id": "1f5d2da2-236f-470d-9065-c6db3377892d",
   "metadata": {},
   "outputs": [],
   "source": [
    "# Starting image\n",
    "ind0 = selected_train.index[0]\n",
    "obs0 = mm.flight.get_referenced_observation(ind0)"
   ]
  },
  {
   "cell_type": "code",
   "execution_count": null,
   "id": "7487de70-dd82-4dcf-a39d-ba4c7f7a3e3b",
   "metadata": {},
   "outputs": [],
   "source": [
    "# First image to incorporate\n",
    "ind1 = indices[1]\n",
    "obs1 = mm.flight.get_observation(ind1)"
   ]
  },
  {
   "cell_type": "code",
   "execution_count": null,
   "id": "9623c3c9-dd2e-42f7-be2c-62172c242b6f",
   "metadata": {},
   "outputs": [],
   "source": [
    "# Second image to incorporate\n",
    "ind2 = indices[2]\n",
    "obs2 = mm.flight.get_observation(ind2)"
   ]
  },
  {
   "cell_type": "code",
   "execution_count": null,
   "id": "085223ee-9166-468e-ae70-270967d4efc1",
   "metadata": {
    "tags": []
   },
   "outputs": [],
   "source": [
    "# Set expectations for first merging of images\n",
    "reffed_lon_bounds, reffed_lat_bounds = obs0.latlon_bounds\n",
    "location = (np.mean(reffed_lat_bounds), np.mean(reffed_lon_bounds))\n",
    "m = folium.Map(location, zoom_start=13)\n",
    "\n",
    "obs0.add_to_folium_map(m, 'img0')\n",
    "obs1.add_to_folium_map(m, 'img1')\n",
    "obs2.add_to_folium_map(m, 'img2')\n",
    "\n",
    "# Add widgets\n",
    "m.add_child(folium.LayerControl())\n",
    "print('Layer control added.')\n",
    "\n",
    "m"
   ]
  },
  {
   "cell_type": "code",
   "execution_count": null,
   "id": "1cbaacc2-f4c2-4742-94d5-ffbd578ff104",
   "metadata": {},
   "outputs": [],
   "source": [
    "# First incorporated image\n",
    "dst_img1, M, mask = incorporate_image(ind1, obs0)"
   ]
  },
  {
   "cell_type": "code",
   "execution_count": null,
   "id": "d9a4afc2-a49d-49f7-a54e-64152dadea04",
   "metadata": {},
   "outputs": [],
   "source": [
    "M, np.linalg.det(M), mask.sum() / mask.size"
   ]
  },
  {
   "cell_type": "code",
   "execution_count": null,
   "id": "b410be64-bbbc-4b5d-a56a-d7b327940995",
   "metadata": {},
   "outputs": [],
   "source": [
    "# Only plot matches\n",
    "matches = bf.match(obs1.des, obs0.des)\n",
    "# Sort them in the order of their distance.\n",
    "matches = sorted(matches, key = lambda x:x.distance)\n",
    "match_distances = [m.distance for m in matches]"
   ]
  },
  {
   "cell_type": "code",
   "execution_count": null,
   "id": "2d2f19e2-fedf-4abd-a71e-36303f29cc4c",
   "metadata": {},
   "outputs": [],
   "source": [
    "subplot_mosaic = [['overplotted'], ['combined']]\n",
    "\n",
    "fig = plt.figure(figsize=(20,20))\n",
    "ax_dict = fig.subplot_mosaic(subplot_mosaic)\n",
    "\n",
    "# Overplotted expectation\n",
    "ax = ax_dict['overplotted']\n",
    "\n",
    "# Starting image\n",
    "obs0.show(ax=ax, crs='cartesian', img='semitransparent_img')\n",
    "obs0.plot_bounds(ax=ax, edgecolor=palette[0], label='img0', zorder=100, linewidth=7)\n",
    "\n",
    "# First image\n",
    "obs1.show(ax=ax, crs='cartesian', img='semitransparent_img')\n",
    "obs1.plot_bounds(ax=ax, edgecolor=palette[1], label='img1', zorder=100, linewidth=7)\n",
    "\n",
    "ax = ax_dict['combined']\n",
    "dst_img1.show(ax=ax, crs='cartesian', img='semitransparent_img')"
   ]
  },
  {
   "cell_type": "markdown",
   "id": "0f4bbe7a-7975-4c68-ad5b-0c2275bbc6a7",
   "metadata": {},
   "source": [
    "## Next Two Images"
   ]
  },
  {
   "cell_type": "code",
   "execution_count": null,
   "id": "fcdd5ba2-6b52-4c61-b7fa-ef3c20d20e83",
   "metadata": {},
   "outputs": [],
   "source": [
    "dst_img2, M, mask = incorporate_image(ind2, dst_img1)"
   ]
  },
  {
   "cell_type": "code",
   "execution_count": null,
   "id": "4c69acee-6b7b-4e4b-9a62-ce2561e81447",
   "metadata": {},
   "outputs": [],
   "source": [
    "M, np.linalg.det(M), mask.sum() / mask.size"
   ]
  },
  {
   "cell_type": "code",
   "execution_count": null,
   "id": "0d69bfd8-aacb-4b8b-b010-16177f26ae70",
   "metadata": {},
   "outputs": [],
   "source": [
    "# Only plot matches\n",
    "matches = bf.match(obs2.des, dst_img1.des)\n",
    "# Sort them in the order of their distance.\n",
    "matches = sorted(matches, key = lambda x:x.distance)\n",
    "obs2_matched_kps = [obs2.kp[m.queryIdx] for m in matches]\n",
    "dst_img1_matched_kps = [dst_img1.kp[m.trainIdx] for m in matches]\n",
    "match_distances = [m.distance for m in matches]"
   ]
  },
  {
   "cell_type": "code",
   "execution_count": null,
   "id": "8157b90b-de0b-4679-9b48-c353745e4e72",
   "metadata": {},
   "outputs": [],
   "source": [
    "obs2_kp_pxs, obs2_kp_pys = np.array([_.pt for _ in obs2_matched_kps]).transpose()\n",
    "obs2_kp_xs, obs2_kp_ys = obs2.convert_pixel_to_cart(obs2_kp_pxs, obs2_kp_pys)\n",
    "dst_img1_kp_pxs, dst_img1_kp_pys = np.array([_.pt for _ in dst_img1_matched_kps]).transpose()\n",
    "dst_img1_kp_xs, dst_img1_kp_ys = dst_img1.convert_pixel_to_cart(dst_img1_kp_pxs, dst_img1_kp_pys)"
   ]
  },
  {
   "cell_type": "code",
   "execution_count": null,
   "id": "70225507-9744-4afc-9636-db43d96ac4d1",
   "metadata": {},
   "outputs": [],
   "source": [
    "subplot_mosaic = [['dst_img1', 'obs2'], ['overplotted', 'combined']]\n",
    "\n",
    "fig = plt.figure(figsize=(20,20))\n",
    "ax_dict = fig.subplot_mosaic(subplot_mosaic)\n",
    "\n",
    "\n",
    "# First combined image\n",
    "ax = ax_dict['dst_img1']\n",
    "\n",
    "dst_img1.show(ax=ax, crs='cartesian', img='semitransparent_img')\n",
    "dst_img1.plot_kp(ax=ax, kp=dst_img1_matched_kps)\n",
    "\n",
    "# Next image to add\n",
    "ax = ax_dict['obs2']\n",
    "\n",
    "obs2.show(ax=ax, crs='cartesian', img='semitransparent_img')\n",
    "obs2.plot_kp(ax=ax, kp=obs2_matched_kps)\n",
    "\n",
    "\n",
    "# Overplotted expectation\n",
    "ax = ax_dict['overplotted']\n",
    "\n",
    "# Second image\n",
    "obs2.show(ax=ax, crs='cartesian', img='semitransparent_img')\n",
    "obs2.plot_bounds(ax=ax, edgecolor=palette[1], label='obs2', zorder=100, linewidth=7)\n",
    "\n",
    "# First combined image\n",
    "dst_img1.show(ax=ax, crs='cartesian', img='semitransparent_img')\n",
    "dst_img1.plot_bounds(ax=ax, edgecolor=palette[0], label='dst_img1', zorder=100, linewidth=7)\n",
    "# s = dst_img1.plot_kp(ax=ax, kp=dst_img1_matched_kps, colors=match_distances)\n",
    "\n",
    "# Colormap\n",
    "cmap = sns.color_palette('viridis_r', as_cmap=True)\n",
    "n_shown = 50\n",
    "norm = matplotlib.colors.Normalize(vmin=0, vmax=n_shown)\n",
    "for i, m in enumerate(matches[:n_shown]):\n",
    "    ax.plot(\n",
    "        [obs2_kp_xs[i], dst_img1_kp_xs[i]],\n",
    "        [obs2_kp_ys[i], dst_img1_kp_ys[i]],\n",
    "        color=cmap(norm(i)),\n",
    "    )\n",
    "\n",
    "# Combined reality\n",
    "ax = ax_dict['combined']\n",
    "dst_img2.show(ax=ax, crs='cartesian', img='semitransparent_img')\n",
    "\n",
    "# Add labels\n",
    "for ax_key, ax in ax_dict.items():\n",
    "    ax.set_title(ax_key)"
   ]
  },
  {
   "cell_type": "markdown",
   "id": "7076118b-b338-4acd-9ad7-8ef0fae04902",
   "metadata": {},
   "source": [
    "## Misc"
   ]
  },
  {
   "cell_type": "code",
   "execution_count": null,
   "id": "29af4482-1119-448c-8276-afd6399db827",
   "metadata": {},
   "outputs": [],
   "source": [
    "def plot_imgs(imgs, inds):\n",
    "    \n",
    "    subplot_mosaic = [[_, ] for _ in np.arange(len(imgs))]\n",
    "    n_row = len(subplot_mosaic)\n",
    "    n_col = len(subplot_mosaic[0])\n",
    "    \n",
    "    fig = plt.figure(figsize=(10*n_col, 10*n_row))\n",
    "    ax_dict = fig.subplot_mosaic(subplot_mosaic)\n",
    "    \n",
    "    for i in np.arange(len(imgs)):\n",
    "        ax = ax_dict[i]\n",
    "        \n",
    "        ax.imshow(imgs[i])\n",
    "    \n",
    "    for ax_key, ax in ax_dict.items():\n",
    "        ax.set_aspect('equal')"
   ]
  },
  {
   "cell_type": "markdown",
   "id": "830267dc-e9a3-4bce-bcab-f83391c8cc7f",
   "metadata": {},
   "source": [
    "## Make Tiles"
   ]
  },
  {
   "cell_type": "markdown",
   "id": "a0150863-5962-400b-8453-d5978a20128e",
   "metadata": {},
   "source": [
    "### Determine Tilesize"
   ]
  },
  {
   "cell_type": "code",
   "execution_count": null,
   "id": "40a1584a-6359-4d9a-bd0e-e32f13f83549",
   "metadata": {},
   "outputs": [],
   "source": [
    "def get_regulated_bins(xs, ys, max_count):\n",
    "    '''Bins that limit the count to max_count\n",
    "    '''\n",
    "\n",
    "    x_bins = int(np.sqrt(settings['n_tiles_guess']))\n",
    "    y_bins = x_bins\n",
    "\n",
    "    # Refine until we can hold all in memory\n",
    "    while True:\n",
    "\n",
    "        # Initial guess for tiling\n",
    "        hist2d, x_edges, y_edges = np.histogram2d(\n",
    "            xs,\n",
    "            ys,\n",
    "            (x_bins, y_bins),\n",
    "        )\n",
    "        hist_max = hist2d.max()\n",
    "\n",
    "        if hist_max < max_count:\n",
    "            break\n",
    "\n",
    "        # Determine tile size based on max density and number of files allowed in memory\n",
    "        max_surface_density = hist_max / (x_edges[1] - x_edges[0]) / (y_edges[1] - y_edges[0])\n",
    "        tile_area = n_files_in_memory / max_surface_density\n",
    "        tile_length = np.sqrt(tile_area)\n",
    "        x_bins = np.arange(xs.min(), xs.max() + tile_length, tile_length)\n",
    "        y_bins = np.arange(ys.min(), ys.max() + tile_length, tile_length)\n",
    "        \n",
    "    return x_bins, y_bins"
   ]
  },
  {
   "cell_type": "code",
   "execution_count": null,
   "id": "e47fcca2-6d7d-40dc-9b8a-085c29558d4b",
   "metadata": {},
   "outputs": [],
   "source": [
    "# Convert to get sensor coords\n",
    "selected['sensor_x'], selected['sensor_y'] = latlon_to_cart.transform(selected['GPSLat'], selected['GPSLong'])\n",
    "x_bins, y_bins = get_regulated_bins(selected['sensor_x'], selected['sensor_y'], n_files_in_memory)"
   ]
  },
  {
   "cell_type": "code",
   "execution_count": null,
   "id": "5a77ea58-3dbd-44d3-a513-4e2fdb949ac7",
   "metadata": {},
   "outputs": [],
   "source": [
    "fig = plt.figure(figsize=(16,8))\n",
    "ax_dict = fig.subplot_mosaic([['scatter', 'hist_guess', 'hist']])\n",
    "\n",
    "ax = ax_dict['scatter']\n",
    "ax.scatter(\n",
    "    selected['sensor_x'],\n",
    "    selected['sensor_y'],\n",
    ")\n",
    "\n",
    "ax = ax_dict['hist_guess']\n",
    "hist2d_guess, x_edges, y_edges, img_view = ax.hist2d(\n",
    "    selected['sensor_x'],\n",
    "    selected['sensor_y'],\n",
    "    (int(np.sqrt(settings['n_tiles_guess'])), int(np.sqrt(settings['n_tiles_guess']))),\n",
    ")\n",
    "plt.colorbar(img_view, ax=ax)\n",
    "\n",
    "ax = ax_dict['hist']\n",
    "hist2d, x_edges, y_edges, img_view = ax.hist2d(\n",
    "    selected['sensor_x'],\n",
    "    selected['sensor_y'],\n",
    "    (x_bins, y_bins),\n",
    ")\n",
    "plt.colorbar(img_view, ax=ax)\n",
    "\n",
    "for ax_key, ax in ax_dict.items():\n",
    "    ax.set_aspect('equal')"
   ]
  },
  {
   "cell_type": "markdown",
   "id": "b8403fbe-21c5-44d3-b96b-43b72ef4dea8",
   "metadata": {},
   "source": [
    "## Mosaic Creation"
   ]
  },
  {
   "cell_type": "markdown",
   "id": "35f170ce-2a15-42ba-82bc-0454819b83d5",
   "metadata": {},
   "source": [
    "## Start w/ Georeferenced Data"
   ]
  },
  {
   "cell_type": "code",
   "execution_count": null,
   "id": "b2806818-33e6-4002-b825-bbf2a1089525",
   "metadata": {},
   "outputs": [],
   "source": [
    "referenced = selected.loc[selected['manually_referenced_fp'].notna()]"
   ]
  },
  {
   "cell_type": "markdown",
   "id": "b5b8c7ed-2bc2-4a01-ae62-c96a3520088f",
   "metadata": {},
   "source": [
    "## Nested Grids"
   ]
  },
  {
   "cell_type": "code",
   "execution_count": null,
   "id": "69a701fc-8fd8-443b-9591-185a15b0d588",
   "metadata": {},
   "outputs": [],
   "source": [
    "x_bins, y_bins = get_regulated_bins(referenced['sensor_x'], referenced['sensor_y'], n_man_files_in_memory)"
   ]
  },
  {
   "cell_type": "code",
   "execution_count": null,
   "id": "fceac138-5922-4f8d-95c9-7764d88d9d62",
   "metadata": {},
   "outputs": [],
   "source": [
    "fig = plt.figure()\n",
    "ax = plt.gca()\n",
    "\n",
    "counts, x_bins, y_bins, hist_img = ax.hist2d(\n",
    "    referenced['sensor_x'],\n",
    "    referenced['sensor_y'],\n",
    "    (x_bins, y_bins),\n",
    ")\n",
    "\n",
    "ax.set_aspect('equal')\n",
    "plt.colorbar(hist_img, ax=ax)"
   ]
  },
  {
   "cell_type": "markdown",
   "id": "6ba49eb1-0b5f-4292-8b2b-86ca9a195471",
   "metadata": {},
   "source": [
    "### Stitching for an Single Bin"
   ]
  },
  {
   "cell_type": "code",
   "execution_count": null,
   "id": "74ef63f1-10a0-4f0d-ba13-d1f0e43dce5d",
   "metadata": {},
   "outputs": [],
   "source": [
    "# Upper right bin\n",
    "i = len(x_bins) - 2\n",
    "j = 0"
   ]
  },
  {
   "cell_type": "code",
   "execution_count": null,
   "id": "a6c5fdbe-9227-41fe-a0ce-7d013723be44",
   "metadata": {},
   "outputs": [],
   "source": [
    "# Set the border width here while experimenting\n",
    "border_width = 0.5\n",
    "dx = x_bins[1] - x_bins[0]\n",
    "dy = y_bins[1] = y_bins[0]\n",
    "in_x_bounds = (\n",
    "    (x_bins[i] - border_width * dx <= referenced['sensor_x'])\n",
    "    & (referenced['sensor_x'] <= x_bins[i+1] + border_width * dx)\n",
    ")\n",
    "in_y_bounds = (\n",
    "    (y_bins[i] - border_width * dy <= referenced['sensor_y'])\n",
    "    & (referenced['sensor_y'] <= y_bins[i+1] + border_width * dy)\n",
    ")\n",
    "bounded = referenced.loc[in_x_bounds & in_y_bounds]"
   ]
  },
  {
   "cell_type": "code",
   "execution_count": null,
   "id": "12fb1f88-32cd-4c84-9903-c73bd05b46ef",
   "metadata": {},
   "outputs": [],
   "source": [
    "# Load images\n",
    "def load_man_img(fp):\n",
    "    \n",
    "    # Load the manually-referenced image\n",
    "    man_img = cv2.imread(fp, cv2.IMREAD_UNCHANGED)\n",
    "    man_img = man_img[:, :, ::-1] / 2**16 # Formatting\n",
    "    \n",
    "    man_img_int = cv2.normalize(man_img, None, alpha=0, beta=255, norm_type=cv2.NORM_MINMAX, dtype=cv2.CV_8U)\n",
    "    \n",
    "    return man_img_int\n",
    "cell_imgs = [load_man_img(fp) for fp in bounded['manually_referenced_fp']]"
   ]
  },
  {
   "cell_type": "code",
   "execution_count": null,
   "id": "7333874a-f703-45a5-ba5a-16823d0bb82d",
   "metadata": {},
   "outputs": [],
   "source": [
    "# Stitch\n",
    "stitcher = cv2.Stitcher_create(1)\n",
    "status, mosaick = stitcher.stitch(cell_imgs)"
   ]
  },
  {
   "cell_type": "code",
   "execution_count": null,
   "id": "71b43b10-1420-4ab0-b0d9-5417da7e167a",
   "metadata": {},
   "outputs": [],
   "source": [
    "# Inspect\n",
    "fig = plt.figure(figsize=(10,10))\n",
    "ax = plt.gca()\n",
    "\n",
    "ax.imshow(\n",
    "    mosaick\n",
    ")"
   ]
  },
  {
   "cell_type": "markdown",
   "id": "2aff43c6-7ad0-48c6-a32a-344f932c98e8",
   "metadata": {},
   "source": [
    "Uh oh, defects abound. We'll need to dig into the stitcher..."
   ]
  },
  {
   "cell_type": "markdown",
   "id": "67875391-1620-4680-b7cd-50033dc1a239",
   "metadata": {},
   "source": [
    "## Image Pyramids\n",
    "\n",
    "If we reduce the resolution sufficiently, we can stitch all the images at once, and then iterate from there. Let's calculate what the resolution would be of the new images."
   ]
  },
  {
   "cell_type": "code",
   "execution_count": null,
   "id": "491e6d94-ef0d-40ba-99cc-7f9e1980348b",
   "metadata": {},
   "outputs": [],
   "source": [
    "new_resolution = tuple(np.ceil(np.array(mm.flight.img_shape) / np.sqrt(n_files_in_memory)).astype(np.int32))\n",
    "print(f'Old resolution = {mm.flight.img_shape}')\n",
    "print(f'New resolution = {new_resolution}')"
   ]
  },
  {
   "cell_type": "markdown",
   "id": "a27edeff-e494-4682-86e3-51ff1a773b64",
   "metadata": {},
   "source": [
    "It's not clear that downsampling the images this much would work."
   ]
  },
  {
   "cell_type": "markdown",
   "id": "7e04489e-9877-472f-a15e-d849d63741c3",
   "metadata": {
    "tags": []
   },
   "source": [
    "## Retrieve Coordinates for Manually-Referenced Images"
   ]
  },
  {
   "cell_type": "code",
   "execution_count": null,
   "id": "a1be6c5f-7895-4615-b608-8329943cb0aa",
   "metadata": {},
   "outputs": [],
   "source": [
    "def get_bounds(self, dst_crs=latlon_crs):\n",
    "    \n",
    "    # Get the coordinates\n",
    "    x_min, px_width, x_rot, y_max, y_rot, px_height = self.GetGeoTransform()\n",
    "    x_max = x_min + px_width * dataset.RasterXSize\n",
    "    y_min = y_max + px_height * dataset.RasterYSize\n",
    "    \n",
    "    man_crs = pyproj.CRS(self.GetProjection())\n",
    "    man_to_dst = pyproj.Transformer.from_crs(man_crs, dst_crs, always_xy=True)\n",
    "    \n",
    "    x_bounds, y_bounds = man_to_dst.transform([x_min, x_max], [y_min, y_max])\n",
    "    \n",
    "    return (x_bounds, y_bounds)\n",
    "\n",
    "gdal.Dataset.get_bounds = get_bounds"
   ]
  },
  {
   "cell_type": "code",
   "execution_count": null,
   "id": "6a67475a-2099-4c59-a50c-0c7406b917c7",
   "metadata": {},
   "outputs": [],
   "source": [
    "man_coords_fp = os.path.join(settings['referenced_dir'], 'img_coordinates_{}.csv'.format(cart_crs.srs.replace(':', '')))"
   ]
  },
  {
   "cell_type": "code",
   "execution_count": null,
   "id": "ff35de33-fd2a-4e20-9f00-47f69b5e709e",
   "metadata": {},
   "outputs": [],
   "source": [
    "if os.path.exists(man_coords_fp) and not settings['overwrite_coords_for_reffed']:\n",
    "    manually_referenced = pd.read_csv(man_coords_fp, index_col=0)\n",
    "else:\n",
    "    \n",
    "    \n",
    "    calculated = {\n",
    "        'man_img_x_min': [],\n",
    "        'man_img_x_max': [],\n",
    "        'man_img_y_min': [],\n",
    "        'man_img_y_max': [],\n",
    "    }\n",
    "\n",
    "    man_fps = metadata.loc[metadata['manually_referenced_fp'].notna(), 'manually_referenced_fp']\n",
    "    for i in tqdm.tqdm(range(len(man_fps))):\n",
    "\n",
    "        man_fp = man_fps.iloc[i]\n",
    "        ind = man_fps.index[i]\n",
    "        row = metadata.loc[ind]\n",
    "\n",
    "        dataset = gdal.Open(man_fp)\n",
    "        x_lim_man, y_lim_man = dataset.get_bounds(cart_crs)\n",
    "\n",
    "        calculated['man_img_x_min'].append(x_lim_man[0])\n",
    "        calculated['man_img_x_max'].append(x_lim_man[1])\n",
    "        calculated['man_img_y_min'].append(y_lim_man[0])\n",
    "        calculated['man_img_y_max'].append(y_lim_man[1])\n",
    "\n",
    "    # Make a dataframe\n",
    "    manually_referenced = pd.DataFrame(calculated)\n",
    "    manually_referenced.index = man_fps.index\n",
    "    manually_referenced['filename'] = metadata['manually_referenced_fp'].str.split('/').str[-1]\n",
    "\n",
    "    # Save\n",
    "    manually_referenced.to_csv(man_coords_fp)"
   ]
  },
  {
   "cell_type": "code",
   "execution_count": null,
   "id": "6d336ff5-edf8-416c-a1a5-2e736c88462f",
   "metadata": {},
   "outputs": [],
   "source": [
    "# Manual image centers\n",
    "manually_referenced['man_x_center'] = 0.5 * (manually_referenced['man_img_x_min'] + manually_referenced['man_img_x_max'])\n",
    "manually_referenced['man_y_center'] = 0.5 * (manually_referenced['man_img_y_min'] + manually_referenced['man_img_y_max'])"
   ]
  },
  {
   "cell_type": "code",
   "execution_count": null,
   "id": "2de6dec3-5d1e-44f1-8ded-66edab131eda",
   "metadata": {},
   "outputs": [],
   "source": [
    "# Manual image dimensions\n",
    "manually_referenced['man_img_width'] = manually_referenced['man_img_x_max'] - manually_referenced['man_img_x_min']\n",
    "manually_referenced['man_img_height'] = manually_referenced['man_img_y_max'] - manually_referenced['man_img_y_min']\n",
    "manually_referenced['man_img_hypotenuse'] = np.sqrt(manually_referenced['man_img_width']**2. + manually_referenced['man_img_height']**2.)"
   ]
  },
  {
   "cell_type": "code",
   "execution_count": null,
   "id": "4c1e2b5f-9652-4b45-93f2-48ea914e36a8",
   "metadata": {},
   "outputs": [],
   "source": [
    "metadata = metadata.join(manually_referenced, rsuffix='_man')"
   ]
  }
 ],
 "metadata": {
  "kernelspec": {
   "display_name": "Python 3 (ipykernel)",
   "language": "python",
   "name": "python3"
  },
  "language_info": {
   "codemirror_mode": {
    "name": "ipython",
    "version": 3
   },
   "file_extension": ".py",
   "mimetype": "text/x-python",
   "name": "python",
   "nbconvert_exporter": "python",
   "pygments_lexer": "ipython3",
   "version": "3.11.5"
  }
 },
 "nbformat": 4,
 "nbformat_minor": 5
}
