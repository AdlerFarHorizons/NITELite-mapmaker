{
 "cells": [
  {
   "cell_type": "markdown",
   "id": "812f229f-d197-4bcc-8ac1-b4bc07ba1715",
   "metadata": {},
   "source": [
    "# Mosaic\n",
    "\n",
    "Exploration of mosaicking."
   ]
  },
  {
   "cell_type": "markdown",
   "id": "b69ed8e4-65dd-42e2-b751-ba5dc4d3d676",
   "metadata": {},
   "source": [
    "# Imports"
   ]
  },
  {
   "cell_type": "code",
   "execution_count": null,
   "id": "1a7a6412-8b81-4de0-9fdf-5272109a704e",
   "metadata": {},
   "outputs": [],
   "source": [
    "# Native python\n",
    "import os"
   ]
  },
  {
   "cell_type": "code",
   "execution_count": null,
   "id": "e1234fcf-1b8e-4f0a-9dd3-103f0bd3fad7",
   "metadata": {},
   "outputs": [],
   "source": [
    "# External\n",
    "import numpy as np\n",
    "import pandas as pd\n",
    "import sklearn.model_selection\n",
    "import pyproj"
   ]
  },
  {
   "cell_type": "code",
   "execution_count": null,
   "id": "82f5ee8d-49af-4e21-91cc-4bd1784d0a0e",
   "metadata": {},
   "outputs": [],
   "source": [
    "# Plotting\n",
    "import matplotlib\n",
    "import matplotlib.pyplot as plt\n",
    "import seaborn as sns\n",
    "sns.set_style('whitegrid')"
   ]
  },
  {
   "cell_type": "code",
   "execution_count": null,
   "id": "e5ba4784-0106-44a9-83d5-1723aeac3262",
   "metadata": {
    "tags": []
   },
   "outputs": [],
   "source": [
    "# Custom scripts\n",
    "from nitelite_mapmaker import mapmaker, georeference"
   ]
  },
  {
   "cell_type": "markdown",
   "id": "c14bbdbb-6584-4e94-9e4e-c69bb8bf679b",
   "metadata": {},
   "source": [
    "# Settings"
   ]
  },
  {
   "cell_type": "code",
   "execution_count": null,
   "id": "c1215d28-28fe-4867-9299-0c871c53a306",
   "metadata": {},
   "outputs": [],
   "source": [
    "settings = dict(\n",
    "    # Data architecture\n",
    "    flight_name = '220513-FH135',\n",
    "    data_dir = '/Users/Shared/data/nitelite',\n",
    "    google_drive_dir = '/Users/zhafensaavedra/Google Drive/Shared drives/NITELite/Data & Analysis',\n",
    "    flight_subdir = 'Old NITELite Flights/220513-FH135',\n",
    "    reffed_subdir = 'QGIS FH135/FH135 Main Project/Main Geo Files',\n",
    "    img_log_filename = 'image.log',\n",
    "    imu_log_filename = 'OBC/PresIMULog.csv',\n",
    "    gps_log_filename = 'OBC/GPSLog.csv',\n",
    "      \n",
    "    # Choices for what to process\n",
    "    camera_num = 1,\n",
    "    test_size = 0.2,\n",
    "    \n",
    "    # Data filter choices\n",
    "    gyro_mag_cut = 0.5, # Corresponds to ~84th percentile\n",
    "    # percent_for_landed = 95.,\n",
    "    percent_for_cruising = 85.,\n",
    "    # mult_of_std_for_steady = 2.,\n",
    "    # rolling_window_in_min = 1.,\n",
    "    \n",
    "    # Mosaicking choices\n",
    "    allotted_memory = 2., # In GB\n",
    "    cart_crs_code = 'EPSG:3857', # Google maps\n",
    "    latlon_crs_code = 'EPSG:4326', # WGS84\n",
    "    n_tiles_guess = 16,\n",
    ")"
   ]
  },
  {
   "cell_type": "markdown",
   "id": "84bf9457-038c-4bdc-8c76-c0d010830196",
   "metadata": {},
   "source": [
    "# Set Up"
   ]
  },
  {
   "cell_type": "markdown",
   "id": "5fa1494c-8a42-4e77-ad79-b265b4053ab9",
   "metadata": {},
   "source": [
    "## Settings Parsing"
   ]
  },
  {
   "cell_type": "code",
   "execution_count": null,
   "id": "a57ffa3c-bdcb-4257-96c6-57ff6dee839c",
   "metadata": {},
   "outputs": [],
   "source": [
    "# The camera has an according long number\n",
    "settings['camera_long_num'] = settings['camera_num'] + 23085686"
   ]
  },
  {
   "cell_type": "code",
   "execution_count": null,
   "id": "56bc787a-2f5b-420e-9fce-011043a559a9",
   "metadata": {},
   "outputs": [],
   "source": [
    "# Data architecture processing\n",
    "settings['image_dir'] = os.path.join(\n",
    "    settings['data_dir'],\n",
    "    'images',\n",
    "    settings['flight_name'],\n",
    "    str(settings['camera_long_num'])\n",
    ")\n",
    "settings['metadata_dir'] = os.path.join(\n",
    "    settings['google_drive_dir'],\n",
    "    settings['flight_subdir'],\n",
    "    'data',\n",
    ")\n",
    "settings['reffed_dir'] = os.path.join(\n",
    "    settings['google_drive_dir'],\n",
    "    settings['reffed_subdir'],\n",
    ")"
   ]
  },
  {
   "cell_type": "markdown",
   "id": "24f8565f-0f25-4182-b9bd-d0e0948efa11",
   "metadata": {},
   "source": [
    "## Object Creation and Preprocessing"
   ]
  },
  {
   "cell_type": "code",
   "execution_count": null,
   "id": "ed22b5df-5ffa-4bb0-b313-b0fdc41eb446",
   "metadata": {
    "tags": []
   },
   "outputs": [],
   "source": [
    "# Create the main mapmaker object\n",
    "mm = mapmaker.Mapmaker(\n",
    "    image_dir=settings['image_dir'],\n",
    "    img_log_fp=os.path.join(settings['metadata_dir'], settings['img_log_filename']),\n",
    "    imu_log_fp=os.path.join(settings['metadata_dir'], settings['imu_log_filename']),\n",
    "    gps_log_fp=os.path.join(settings['metadata_dir'], settings['gps_log_filename']),\n",
    ")"
   ]
  },
  {
   "cell_type": "code",
   "execution_count": null,
   "id": "c2f4c717-e892-47bd-af3c-caeec5ffc7fe",
   "metadata": {},
   "outputs": [],
   "source": [
    "# General metadata loading\n",
    "mm.prep()"
   ]
  },
  {
   "cell_type": "code",
   "execution_count": null,
   "id": "2fe9b5b1-9ad3-41bd-aced-d9ddf1e8b6af",
   "metadata": {},
   "outputs": [],
   "source": [
    "# Manually-georeferenced metadata\n",
    "_ = mm.flight.get_manually_georeferenced_filepaths(\n",
    "    settings['reffed_dir']\n",
    ")"
   ]
  },
  {
   "cell_type": "code",
   "execution_count": null,
   "id": "f0a427c0-32ec-4a8d-83fc-f94c3fd335c1",
   "metadata": {},
   "outputs": [],
   "source": [
    "# Establish CRS and conversions\n",
    "cart_crs = pyproj.CRS(settings['cart_crs_code'])\n",
    "latlon_crs = pyproj.CRS(settings['latlon_crs_code'])\n",
    "cart_to_latlon = pyproj.Transformer.from_crs(cart_crs, latlon_crs)\n",
    "latlon_to_cart = pyproj.Transformer.from_crs(latlon_crs, cart_crs)"
   ]
  },
  {
   "cell_type": "markdown",
   "id": "17660370-4faf-41e0-8db3-0db9d0efb69e",
   "metadata": {},
   "source": [
    "# Exploration"
   ]
  },
  {
   "cell_type": "code",
   "execution_count": null,
   "id": "f9a35f16-fb00-4bce-9602-f89c8d95d705",
   "metadata": {},
   "outputs": [],
   "source": [
    "metadata = mm.flight.metadata"
   ]
  },
  {
   "cell_type": "markdown",
   "id": "8bc756fd-fca6-469d-a2e9-7e89d7764cec",
   "metadata": {},
   "source": [
    "## Determine How Many Images We Can Load"
   ]
  },
  {
   "cell_type": "code",
   "execution_count": null,
   "id": "e9812bb2-ac56-45ed-a2dc-8f6d3556fc5b",
   "metadata": {},
   "outputs": [],
   "source": [
    "# Image locations\n",
    "metadata['filepath'] = metadata['filename'].apply(lambda x: os.path.join(settings['image_dir'], os.path.basename(x)))"
   ]
  },
  {
   "cell_type": "code",
   "execution_count": null,
   "id": "0e11fb17-0a6c-4ea3-837b-20a0ebc1ad9b",
   "metadata": {},
   "outputs": [],
   "source": [
    "def get_size_in_GB(fp):\n",
    "    try:\n",
    "        return os.path.getsize(fp) / 1024**3\n",
    "    except FileNotFoundError:\n",
    "        return np.nan"
   ]
  },
  {
   "cell_type": "code",
   "execution_count": null,
   "id": "2277bb0c-9df1-47c3-b452-4d4971f7a120",
   "metadata": {},
   "outputs": [],
   "source": [
    "filesizes = metadata['filepath'].apply(get_size_in_GB)\n",
    "median_filesize = np.nanmedian(filesizes)\n",
    "n_files_in_memory = int(settings['allotted_memory'] // median_filesize)"
   ]
  },
  {
   "cell_type": "markdown",
   "id": "c8c8ed85-cb65-4d68-9837-db98353212a1",
   "metadata": {},
   "source": [
    "## Determine What Images Are Valid"
   ]
  },
  {
   "cell_type": "code",
   "execution_count": null,
   "id": "e3fe853c-1a98-43fa-ab7d-d8a2f5864032",
   "metadata": {},
   "outputs": [],
   "source": [
    "metadata['valid'] = True"
   ]
  },
  {
   "cell_type": "markdown",
   "id": "a6030ab7-ffd6-4695-9ec0-d3e32fa9c1da",
   "metadata": {},
   "source": [
    "### Cruise Altitude"
   ]
  },
  {
   "cell_type": "code",
   "execution_count": null,
   "id": "770eeecc-b407-4ab2-a319-374b51ebed83",
   "metadata": {},
   "outputs": [],
   "source": [
    "h_max = metadata['mAltitude'].max()\n",
    "h_min = metadata['mAltitude'].min()\n",
    "h_diff = h_max - h_min\n",
    "\n",
    "h_cruising = h_min + settings['percent_for_cruising'] / 100. * h_diff"
   ]
  },
  {
   "cell_type": "code",
   "execution_count": null,
   "id": "9ff058ca-467d-451b-ba54-fafc851d117a",
   "metadata": {},
   "outputs": [],
   "source": [
    "fig = plt.figure()\n",
    "ax = plt.gca()\n",
    "\n",
    "ax.scatter(\n",
    "    metadata['timestamp'],\n",
    "    metadata['mAltitude'],\n",
    ")\n",
    "\n",
    "ax.axhline(h_cruising)"
   ]
  },
  {
   "cell_type": "code",
   "execution_count": null,
   "id": "699070a4-55be-4747-a8fa-32510e494e03",
   "metadata": {},
   "outputs": [],
   "source": [
    "metadata.loc[metadata['mAltitude']<h_cruising, 'valid'] = False"
   ]
  },
  {
   "cell_type": "markdown",
   "id": "13d2d0ee-be13-4ada-9737-122da4db04be",
   "metadata": {},
   "source": [
    "### Movement"
   ]
  },
  {
   "cell_type": "code",
   "execution_count": null,
   "id": "e4eb5bce-5f52-4896-a945-f92edad9bdcc",
   "metadata": {},
   "outputs": [],
   "source": [
    "# Magnitude of Gyro\n",
    "metadata['imuGyroMag'] = np.sqrt((metadata[['imuGyroX','imuGyroY','imuGyroZ']]**2.).sum(axis='columns'))"
   ]
  },
  {
   "cell_type": "code",
   "execution_count": null,
   "id": "3c81934a-9dd5-4e13-a8f8-9f00a2b85f96",
   "metadata": {
    "tags": []
   },
   "outputs": [],
   "source": [
    "# Fancy method for movement\n",
    "\n",
    "\n",
    "# # Select cruise data\n",
    "# cruise_data = metadata.loc[metadata['flight_phase'] == 'cruise']\n",
    "# cruise_data = cruise_data.set_index('timestamp')\n",
    "\n",
    "# # Get rolling deviation\n",
    "# cruise_rolling = cruise_data.rolling(window=pd.Timedelta(settings['rolling_window_in_min'], 'min'))\n",
    "# cruise_rolling_std = cruise_rolling.std(numeric_only=True)\n",
    "\n",
    "# # Identify and store steady data\n",
    "# cruise_data.loc[:,'is_steady'] = cruise_rolling_std['imuGyroMag'] < settings['mult_of_std_for_steady'] * np.nanmedian(cruise_rolling_std['imuGyroMag'])\n",
    "# cruise_rolling_std.loc[:,'is_steady'] = cruise_data['is_steady']\n",
    "# metadata['is_steady'] = False\n",
    "# metadata.loc[metadata['flight_phase'] == 'cruise','is_steady'] = cruise_data['is_steady'].values\n",
    "\n"
   ]
  },
  {
   "cell_type": "code",
   "execution_count": null,
   "id": "da59e672-c779-4767-9800-d28999169c99",
   "metadata": {},
   "outputs": [],
   "source": [
    "# Must not be moving too fast\n",
    "metadata.loc[metadata['imuGyroMag'] > settings['gyro_mag_cut'], 'valid'] = False"
   ]
  },
  {
   "cell_type": "markdown",
   "id": "2d4a16d3-2b06-4ed2-a04b-79320416fe42",
   "metadata": {},
   "source": [
    "### Camera Number"
   ]
  },
  {
   "cell_type": "code",
   "execution_count": null,
   "id": "42c8c590-182b-4799-9a26-e79b06c24fd2",
   "metadata": {},
   "outputs": [],
   "source": [
    "metadata.loc[metadata['camera_num'] != settings['camera_num'], 'valid'] = False"
   ]
  },
  {
   "cell_type": "markdown",
   "id": "2f708be5-1d01-4ebe-a59d-3dc4110c2652",
   "metadata": {},
   "source": [
    "### Select Data"
   ]
  },
  {
   "cell_type": "code",
   "execution_count": null,
   "id": "59d71c91-e4ca-47de-b809-faa7a71cb5f0",
   "metadata": {},
   "outputs": [],
   "source": [
    "selected = metadata.loc[metadata['valid']].copy()"
   ]
  },
  {
   "cell_type": "markdown",
   "id": "830267dc-e9a3-4bce-bcab-f83391c8cc7f",
   "metadata": {},
   "source": [
    "## Make Tiles"
   ]
  },
  {
   "cell_type": "markdown",
   "id": "a0150863-5962-400b-8453-d5978a20128e",
   "metadata": {},
   "source": [
    "### Determine Tilesize"
   ]
  },
  {
   "cell_type": "code",
   "execution_count": null,
   "id": "22b65ec5-e49c-408a-b9ab-c3d170a779ba",
   "metadata": {},
   "outputs": [],
   "source": [
    "# Convert to get sensor coords\n",
    "selected['sensor_x'], selected['sensor_y'] = latlon_to_cart.transform(selected['GPSLat'], selected['GPSLong'])"
   ]
  },
  {
   "cell_type": "code",
   "execution_count": null,
   "id": "42fa7efc-622f-4bb9-b523-25e44882eb90",
   "metadata": {},
   "outputs": [],
   "source": [
    "x_bins = int(np.sqrt(settings['n_tiles_guess']))\n",
    "y_bins = x_bins"
   ]
  },
  {
   "cell_type": "code",
   "execution_count": null,
   "id": "40a1584a-6359-4d9a-bd0e-e32f13f83549",
   "metadata": {},
   "outputs": [],
   "source": [
    "# Refine until we can hold all in memory\n",
    "while True:\n",
    "\n",
    "    # Initial guess for tiling\n",
    "    hist2d, x_edges, y_edges = np.histogram2d(\n",
    "        selected['sensor_x'],\n",
    "        selected['sensor_y'],\n",
    "        (x_bins, y_bins),\n",
    "    )\n",
    "    hist_max = hist2d.max()\n",
    "    \n",
    "    if hist_max < n_files_in_memory:\n",
    "        break\n",
    "        \n",
    "    # Determine tile size based on max density and number of files allowed in memory\n",
    "    max_surface_density = hist_max / (x_edges[1] - x_edges[0]) / (y_edges[1] - y_edges[0])\n",
    "    tile_area = n_files_in_memory / max_surface_density\n",
    "    tile_length = np.sqrt(tile_area)\n",
    "    x_bins = np.arange(selected['sensor_x'].min(), selected['sensor_x'].max() + tile_length, tile_length)\n",
    "    y_bins = np.arange(selected['sensor_y'].min(), selected['sensor_y'].max() + tile_length, tile_length)"
   ]
  },
  {
   "cell_type": "code",
   "execution_count": null,
   "id": "5a77ea58-3dbd-44d3-a513-4e2fdb949ac7",
   "metadata": {},
   "outputs": [],
   "source": [
    "fig = plt.figure(figsize=(16,8))\n",
    "ax_dict = fig.subplot_mosaic([['scatter', 'hist_guess', 'hist']])\n",
    "\n",
    "ax = ax_dict['scatter']\n",
    "ax.scatter(\n",
    "    selected['sensor_x'],\n",
    "    selected['sensor_y'],\n",
    ")\n",
    "\n",
    "ax = ax_dict['hist_guess']\n",
    "hist2d_guess, x_edges, y_edges, img_view = ax.hist2d(\n",
    "    selected['sensor_x'],\n",
    "    selected['sensor_y'],\n",
    "    (int(np.sqrt(settings['n_tiles_guess'])), int(np.sqrt(settings['n_tiles_guess']))),\n",
    ")\n",
    "plt.colorbar(img_view, ax=ax)\n",
    "\n",
    "ax = ax_dict['hist']\n",
    "hist2d, x_edges, y_edges, img_view = ax.hist2d(\n",
    "    selected['sensor_x'],\n",
    "    selected['sensor_y'],\n",
    "    (x_bins, y_bins),\n",
    ")\n",
    "plt.colorbar(img_view, ax=ax)\n",
    "\n",
    "for ax_key, ax in ax_dict.items():\n",
    "    ax.set_aspect('equal')"
   ]
  },
  {
   "cell_type": "code",
   "execution_count": null,
   "id": "afe6d8f3-a8d1-4ca0-93d1-2e337f3123b6",
   "metadata": {},
   "outputs": [],
   "source": []
  }
 ],
 "metadata": {
  "kernelspec": {
   "display_name": "Python 3 (ipykernel)",
   "language": "python",
   "name": "python3"
  },
  "language_info": {
   "codemirror_mode": {
    "name": "ipython",
    "version": 3
   },
   "file_extension": ".py",
   "mimetype": "text/x-python",
   "name": "python",
   "nbconvert_exporter": "python",
   "pygments_lexer": "ipython3",
   "version": "3.11.5"
  }
 },
 "nbformat": 4,
 "nbformat_minor": 5
}
