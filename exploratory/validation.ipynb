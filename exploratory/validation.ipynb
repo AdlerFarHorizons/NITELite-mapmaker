{
 "cells": [
  {
   "cell_type": "markdown",
   "id": "b4437e7e-fafa-49ad-8324-e9db99362e36",
   "metadata": {},
   "source": [
    "# Validation\n",
    "Trying to understand what metrics correspond to a good fit."
   ]
  },
  {
   "cell_type": "markdown",
   "id": "05c06cca-f8a6-494c-a73b-2617d89b9834",
   "metadata": {},
   "source": [
    "# Imports"
   ]
  },
  {
   "cell_type": "code",
   "execution_count": null,
   "id": "f77f8333-cf2e-4020-a675-d7c176e6a324",
   "metadata": {},
   "outputs": [],
   "source": [
    "# Native python\n",
    "import copy\n",
    "import os"
   ]
  },
  {
   "cell_type": "code",
   "execution_count": null,
   "id": "d5cefaa2-0493-4e02-a1c6-aa92afc4055a",
   "metadata": {},
   "outputs": [],
   "source": [
    "# External\n",
    "import cv2\n",
    "import numpy as np\n",
    "from osgeo import gdal\n",
    "import pandas as pd\n",
    "import scipy\n",
    "import sklearn.model_selection\n",
    "import tqdm\n",
    "import tqdm.notebook\n",
    "import pyproj"
   ]
  },
  {
   "cell_type": "code",
   "execution_count": null,
   "id": "8b5e1763-285a-4285-9782-6157bd0324c1",
   "metadata": {},
   "outputs": [],
   "source": [
    "# Plotting\n",
    "import matplotlib\n",
    "import matplotlib.pyplot as plt\n",
    "import matplotlib.patches as patches\n",
    "import matplotlib.patheffects as patheffects\n",
    "import seaborn as sns\n",
    "sns.set_style('white')\n",
    "import folium"
   ]
  },
  {
   "cell_type": "code",
   "execution_count": null,
   "id": "1568a647-03cd-4731-b230-2e014a24a80a",
   "metadata": {
    "tags": []
   },
   "outputs": [],
   "source": [
    "# Custom scripts\n",
    "from nitelite_mapmaker import mapmaker, georeference, observations, data"
   ]
  },
  {
   "cell_type": "markdown",
   "id": "c807807f-5ebb-4b9f-9197-a77678c02cea",
   "metadata": {},
   "source": [
    "# Settings"
   ]
  },
  {
   "cell_type": "code",
   "execution_count": null,
   "id": "a6a8c416-577f-4294-acaa-d8b1c0d0350f",
   "metadata": {},
   "outputs": [],
   "source": [
    "settings = dict(\n",
    "    # Data architecture\n",
    "    flight_name = '220513-FH135',\n",
    "    data_dir = '/Users/Shared/data/nitelite',\n",
    "    google_drive_dir = '/Users/zhafensaavedra/Google Drive/Shared drives/NITELite/Data & Analysis',\n",
    "    flight_subdir = 'Old NITELite Flights/220513-FH135',\n",
    "    reffed_subdir = 'QGIS FH135/FH135 Main Project/Main Geo Files',\n",
    "    img_log_filename = 'image.log',\n",
    "    imu_log_filename = 'OBC/PresIMULog.csv',\n",
    "    gps_log_filename = 'OBC/GPSLog.csv',\n",
    "      \n",
    "    # Choices for what to process\n",
    "    camera_num = 1,\n",
    "    # test_size = 0.2,\n",
    "    # overwrite_coords_for_reffed = True,\n",
    "    random_state = 165741,\n",
    "\n",
    "    # Choices for validation parameters\n",
    "    pad_width = 10,\n",
    "    \n",
    "    # # Data filter choices\n",
    "    # # gyro_mag_cut = 0.5, # Corresponds to ~84th percentile\n",
    "    # gyro_mag_cut = 0.02, # Based on visual inspection\n",
    "    # # percent_for_landed = 95.,\n",
    "    # percent_for_cruising = 85.,\n",
    "    # # mult_of_std_for_steady = 2.,\n",
    "    # # rolling_window_in_min = 1.,\n",
    "    # homography_det_min = 0.5, # Only let the image shrink or scale by up to a factor of 2\n",
    "    \n",
    "    # # Mosaicking choices\n",
    "    # allotted_memory = 2., # In GB\n",
    "    # n_tiles_guess = 16,\n",
    "    # reset_mosaic = False,\n",
    "    # ground_alt = 220.,\n",
    ")"
   ]
  },
  {
   "cell_type": "markdown",
   "id": "72744cdf-b07f-4a89-b090-ff13c40f1943",
   "metadata": {},
   "source": [
    "# Set Up"
   ]
  },
  {
   "cell_type": "markdown",
   "id": "abf39cb7-96e3-46bb-b660-8a219ab81c61",
   "metadata": {},
   "source": [
    "## Settings Parsing"
   ]
  },
  {
   "cell_type": "code",
   "execution_count": null,
   "id": "a6b1dea3-f4b2-4f91-abd8-faad80a6b891",
   "metadata": {},
   "outputs": [],
   "source": [
    "# The camera has an according long number\n",
    "settings['camera_long_num'] = settings['camera_num'] + 23085686"
   ]
  },
  {
   "cell_type": "code",
   "execution_count": null,
   "id": "ef1550dc-adc9-40d6-9164-2ee40addc640",
   "metadata": {},
   "outputs": [],
   "source": [
    "# Data architecture processing\n",
    "settings['image_dir'] = os.path.join(\n",
    "    settings['data_dir'],\n",
    "    'images',\n",
    "    settings['flight_name'],\n",
    "    str(settings['camera_long_num'])\n",
    ")\n",
    "settings['metadata_dir'] = os.path.join(\n",
    "    settings['google_drive_dir'],\n",
    "    settings['flight_subdir'],\n",
    "    'data',\n",
    ")\n",
    "settings['referenced_dir'] = os.path.join(\n",
    "    settings['google_drive_dir'],\n",
    "    settings['reffed_subdir'],\n",
    ")\n",
    "settings['mosaic_dir'] = os.path.join(\n",
    "    settings['data_dir'],\n",
    "    'mosaics',\n",
    "    settings['flight_name'],\n",
    ")"
   ]
  },
  {
   "cell_type": "markdown",
   "id": "1f63764c-437c-4e32-b301-7df54326bdbf",
   "metadata": {},
   "source": [
    "## Object Creation and Preprocessing"
   ]
  },
  {
   "cell_type": "code",
   "execution_count": null,
   "id": "1bee7361-5e0e-4569-af16-e9dd46e124b4",
   "metadata": {
    "tags": []
   },
   "outputs": [],
   "source": [
    "# Create the main mapmaker object\n",
    "mm = mapmaker.Mapmaker(\n",
    "    image_dir=settings['image_dir'],\n",
    "    img_log_fp=os.path.join(settings['metadata_dir'], settings['img_log_filename']),\n",
    "    imu_log_fp=os.path.join(settings['metadata_dir'], settings['imu_log_filename']),\n",
    "    gps_log_fp=os.path.join(settings['metadata_dir'], settings['gps_log_filename']),\n",
    "    referenced_dir=settings['referenced_dir']\n",
    ")"
   ]
  },
  {
   "cell_type": "code",
   "execution_count": null,
   "id": "c3a7397c-dde0-4fb2-8b5b-6b78929e0467",
   "metadata": {},
   "outputs": [],
   "source": [
    "# General metadata loading\n",
    "mm.prep()"
   ]
  },
  {
   "cell_type": "code",
   "execution_count": null,
   "id": "9f4b4cf4-7728-4e04-910c-0b80ee2397e1",
   "metadata": {},
   "outputs": [],
   "source": [
    "mm.flight.update_metadata_with_cart_bounds()"
   ]
  },
  {
   "cell_type": "code",
   "execution_count": null,
   "id": "d8371a43-84af-4f90-853e-dd24a815e7a7",
   "metadata": {},
   "outputs": [],
   "source": [
    "metadata = mm.flight.metadata\n",
    "referenced = metadata.loc[metadata['manually_referenced_fp'].notna()].copy()"
   ]
  },
  {
   "cell_type": "code",
   "execution_count": null,
   "id": "da2f8fad-27eb-4584-899b-a972a3d386d8",
   "metadata": {},
   "outputs": [],
   "source": [
    "# Color palette\n",
    "palette = sns.color_palette('deep')"
   ]
  },
  {
   "cell_type": "code",
   "execution_count": null,
   "id": "97782b59-6d91-479a-8e46-0372f84b9103",
   "metadata": {},
   "outputs": [],
   "source": [
    "rng = np.random.default_rng(seed=settings['random_state'])"
   ]
  },
  {
   "cell_type": "markdown",
   "id": "48b2e452-726a-4516-aeb2-7b024994a649",
   "metadata": {
    "tags": []
   },
   "source": [
    "# Visual Relationship Between Metrics"
   ]
  },
  {
   "cell_type": "markdown",
   "id": "b9bb1325-d79c-4c4c-b458-dc7ab13146d6",
   "metadata": {},
   "source": [
    "## Relationship Between Offset and Metrics"
   ]
  },
  {
   "cell_type": "code",
   "execution_count": null,
   "id": "4b3d2397-7cf9-4ccc-9b08-ed675877fdc0",
   "metadata": {},
   "outputs": [],
   "source": [
    "metrics = ['ccoeff', 'sqdiff']\n",
    "metric_flags = [cv2.TM_CCOEFF_NORMED, cv2.TM_SQDIFF_NORMED]"
   ]
  },
  {
   "cell_type": "code",
   "execution_count": null,
   "id": "d0097d5d-6c4b-4fb6-a046-47b3c53301ce",
   "metadata": {},
   "outputs": [],
   "source": [
    "offset_data = {\n",
    "    'pr': [],\n",
    "    'r': [],\n",
    "}\n",
    "for i, ind in enumerate(tqdm.notebook.tqdm(referenced.index)):\n",
    "\n",
    "    # Load the observation\n",
    "    obs_i = mm.flight.get_referenced_observation(ind)\n",
    "\n",
    "    # Don't include images with weird offsets.\n",
    "    dx, dy = obs_i.get_pixel_widths()\n",
    "    if dx > 10:\n",
    "        continue\n",
    "\n",
    "    # Pad the image in preparation for autocorrelation\n",
    "    pad_width = settings['pad_width']\n",
    "    padded_img = np.pad(obs_i.img_int, ((pad_width, pad_width), (pad_width, pad_width), (0, 0)), constant_values=0)\n",
    "\n",
    "    # Retrieve pixel distances\n",
    "    pxs = np.arange(-pad_width, pad_width+1)\n",
    "    pys = np.arange(-pad_width, pad_width+1)\n",
    "    pxs_mesh, pys_mesh = np.meshgrid(pxs, pys)\n",
    "    prs = np.sqrt(pxs_mesh**2. + pys_mesh**2.)\n",
    "\n",
    "    # Retrieve physical distances\n",
    "    rs = np.sqrt((dx * pxs_mesh)**2. + (dy * pys_mesh)**2.)\n",
    "\n",
    "    # Store\n",
    "    offset_data['pr'].append(prs.flatten())\n",
    "    offset_data['r'].append(rs.flatten())\n",
    "\n",
    "    # Template matching calculation\n",
    "    for j, metric in enumerate(metrics):\n",
    "        metric_matrix = cv2.matchTemplate(obs_i.img_int, padded_img, metric_flags[j])\n",
    "        offset_data.setdefault(metric, []).append(metric_matrix.flatten())"
   ]
  },
  {
   "cell_type": "code",
   "execution_count": null,
   "id": "39cad963-9a2f-4ec7-b7c0-36ca1915a294",
   "metadata": {},
   "outputs": [],
   "source": [
    "# Format\n",
    "for key, item in offset_data.items():\n",
    "    offset_data[key] = np.concatenate(item)\n",
    "offset_df = pd.DataFrame(offset_data)"
   ]
  },
  {
   "cell_type": "code",
   "execution_count": null,
   "id": "0ebb2f98-3b6f-4c9e-b4db-39113a8be225",
   "metadata": {},
   "outputs": [],
   "source": [
    "g = sns.PairGrid(offset_df)\n",
    "g.map_offdiag(sns.histplot)\n",
    "g.map_diag(sns.histplot)\n",
    "\n",
    "g.diag_vars\n",
    "for i, ax_row in enumerate(g.axes):\n",
    "    for j, ax in enumerate(ax_row):\n",
    "\n",
    "        # Diag\n",
    "        if i == j:\n",
    "            continue\n",
    "\n",
    "        # Offdiag\n",
    "        if ax.get_ylabel() == 'ccoeff':\n",
    "            ax.set_ylim(0, 1)"
   ]
  },
  {
   "cell_type": "code",
   "execution_count": null,
   "id": "1d431975-b336-4907-bc86-ad847a2419a4",
   "metadata": {},
   "outputs": [],
   "source": [
    "xs = offset_df['r']\n",
    "binned_median = scipy.stats.binned_statistic(\n",
    "    xs,\n",
    "    offset_df['ccoeff'],\n",
    "    statistic='median',\n",
    "    bins=32,\n",
    ")\n",
    "binned_low = scipy.stats.binned_statistic(\n",
    "    xs,\n",
    "    offset_df['ccoeff'],\n",
    "    statistic=lambda x: np.percentile(x, 16),\n",
    "    bins=32,\n",
    ")\n",
    "binned_high = scipy.stats.binned_statistic(\n",
    "    xs,\n",
    "    offset_df['ccoeff'],\n",
    "    statistic=lambda x: np.percentile(x, 84),\n",
    "    bins=32,\n",
    ")"
   ]
  },
  {
   "cell_type": "code",
   "execution_count": null,
   "id": "7b956254-42d3-4fae-9360-726172c851a2",
   "metadata": {},
   "outputs": [],
   "source": [
    "bin_centers = 0.5 * (binned_median.bin_edges[1:] + binned_median.bin_edges[:-1])"
   ]
  },
  {
   "cell_type": "code",
   "execution_count": null,
   "id": "6bc7e623-c234-4edc-9421-408b5b0a3764",
   "metadata": {},
   "outputs": [],
   "source": [
    "fig = plt.figure()\n",
    "ax = plt.gca()\n",
    "\n",
    "ax.plot(\n",
    "    bin_centers,\n",
    "    binned_median.statistic,\n",
    "    color = 'k',\n",
    "    linewidth = 3,\n",
    ")\n",
    "ax.fill_between(\n",
    "    bin_centers,\n",
    "    binned_low.statistic,\n",
    "    binned_high.statistic,\n",
    "    alpha = 0.5,\n",
    "    color = 'k',\n",
    ")\n",
    "\n",
    "ax.set_ylim(0, 1)\n",
    "ax.set_xlim(binned_median.bin_edges[0], binned_median.bin_edges[-1])\n",
    "\n",
    "ax.set_xlabel('offset [m]')\n",
    "ax.set_ylabel('correlation coefficient (aka \"r\")')"
   ]
  },
  {
   "cell_type": "code",
   "execution_count": null,
   "id": "60f8202f-ec4f-4a58-85ea-bf4766c0b17b",
   "metadata": {},
   "outputs": [],
   "source": [
    "interp = scipy.interpolate.interp1d(bin_centers, binned_median.statistic)\n",
    "[interp(_) for _ in np.arange(10, 80, 10)]"
   ]
  },
  {
   "cell_type": "markdown",
   "id": "dcffc2e0-8561-4b55-b605-aa7a57fc3aa9",
   "metadata": {},
   "source": [
    "This gives a decent understanding for now.\n",
    "Rule of thumb for interpreting our dataset:\n",
    "* $r > 0.8$: accurate to within 10 m\n",
    "* $r > 0.7$: accurate to within 20 m\n",
    "* $r \\sim 0.5$: might as well be uncorrelated"
   ]
  },
  {
   "cell_type": "code",
   "execution_count": null,
   "id": "d8d963f1-4d86-41c7-976e-88e33c4d7743",
   "metadata": {},
   "outputs": [],
   "source": []
  }
 ],
 "metadata": {
  "kernelspec": {
   "display_name": "Python 3 (ipykernel)",
   "language": "python",
   "name": "python3"
  },
  "language_info": {
   "codemirror_mode": {
    "name": "ipython",
    "version": 3
   },
   "file_extension": ".py",
   "mimetype": "text/x-python",
   "name": "python",
   "nbconvert_exporter": "python",
   "pygments_lexer": "ipython3",
   "version": "3.11.5"
  }
 },
 "nbformat": 4,
 "nbformat_minor": 5
}
