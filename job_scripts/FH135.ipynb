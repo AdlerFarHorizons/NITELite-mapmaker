{
 "cells": [
  {
   "cell_type": "markdown",
   "id": "9c1061e8-7d8e-41b1-81a8-e07b57f59523",
   "metadata": {},
   "source": [
    "# Imports"
   ]
  },
  {
   "cell_type": "code",
   "execution_count": 1,
   "id": "38c52eb3-b673-4bb8-9e51-705aa3c9083c",
   "metadata": {},
   "outputs": [],
   "source": [
    "# Native python\n",
    "import os"
   ]
  },
  {
   "cell_type": "code",
   "execution_count": 14,
   "id": "f706b135-3304-42ea-9030-eea402de9648",
   "metadata": {},
   "outputs": [],
   "source": [
    "# External\n",
    "import pandas as pd\n",
    "import sklearn.model_selection"
   ]
  },
  {
   "cell_type": "code",
   "execution_count": 3,
   "id": "86451d5b-04ac-42ec-97b5-d7bccfc71ba8",
   "metadata": {
    "tags": []
   },
   "outputs": [],
   "source": [
    "# Custom scripts\n",
    "from nitelite_mapmaker import mapmaker, georeference"
   ]
  },
  {
   "cell_type": "markdown",
   "id": "e347a625-19f0-4df2-9d68-9853ef11d464",
   "metadata": {},
   "source": [
    "# Settings"
   ]
  },
  {
   "cell_type": "code",
   "execution_count": 17,
   "id": "99bab3e6-d7d9-4459-b154-e4680351e17d",
   "metadata": {},
   "outputs": [],
   "source": [
    "settings = dict(\n",
    "    # Data architecture\n",
    "    flight_name = '220513-FH135',\n",
    "    data_dir = '/Users/Shared/data/nitelite',\n",
    "    image_dir = '/Users/Shared/data/nitelite/images',\n",
    "    google_drive_dir = '/Users/zhafensaavedra/Google Drive/Shared drives/NITELite/Data & Analysis',\n",
    "    flight_subdir = 'Old NITELite Flights/220513-FH135',\n",
    "    reffed_subdir = 'QGIS FH135/FH135 Main Project/Main Geo Files',\n",
    "    img_log_filename = 'image.log',\n",
    "    imu_log_filename = 'OBC/PresIMULog.csv',\n",
    "    gps_log_filename = 'OBC/GPSLog.csv',\n",
    "    \n",
    "    # Choices for what to process\n",
    "    camera_num = 1,\n",
    "    test_size = 0.2,\n",
    ")"
   ]
  },
  {
   "cell_type": "markdown",
   "id": "7acb45e5-9a5d-4293-bd09-1f433a6c4f86",
   "metadata": {},
   "source": [
    "# Set Up"
   ]
  },
  {
   "cell_type": "markdown",
   "id": "182802f0-fc2b-4972-bb20-09dd30251904",
   "metadata": {},
   "source": [
    "## Settings Parsing"
   ]
  },
  {
   "cell_type": "code",
   "execution_count": 18,
   "id": "7bfa4ab4-5084-40f2-9a99-86daddb07d10",
   "metadata": {},
   "outputs": [],
   "source": [
    "# The camera has an according long number\n",
    "settings['camera_long_num'] = settings['camera_num'] + 23085686"
   ]
  },
  {
   "cell_type": "code",
   "execution_count": 19,
   "id": "0f3e86c9-d4c9-4664-a50c-c9acfbfea332",
   "metadata": {},
   "outputs": [],
   "source": [
    "# Data architecture processing\n",
    "settings['image_dir'] = os.path.join(\n",
    "    settings['data_dir'],\n",
    "    'nitelite/images',\n",
    "    settings['flight_name'],\n",
    "    str(settings['camera_long_num'])\n",
    ")\n",
    "settings['metadata_dir'] = os.path.join(\n",
    "    settings['google_drive_dir'],\n",
    "    settings['flight_subdir'],\n",
    "    'data',\n",
    ")\n",
    "settings['reffed_dir'] = os.path.join(\n",
    "    settings['google_drive_dir'],\n",
    "    settings['reffed_subdir'],\n",
    ")"
   ]
  },
  {
   "cell_type": "markdown",
   "id": "e06d682f-9acd-40a0-8faf-d39e8d49746b",
   "metadata": {},
   "source": [
    "## Object Creation and Preprocessing"
   ]
  },
  {
   "cell_type": "code",
   "execution_count": 20,
   "id": "04a7fde8-9355-4361-b542-56d37ceef7b2",
   "metadata": {
    "tags": []
   },
   "outputs": [],
   "source": [
    "# Create the main mapmaker object\n",
    "mm = mapmaker.Mapmaker(\n",
    "    image_dir=settings['image_dir'],\n",
    "    img_log_fp=os.path.join(settings['metadata_dir'], settings['img_log_filename']),\n",
    "    imu_log_fp=os.path.join(settings['metadata_dir'], settings['imu_log_filename']),\n",
    "    gps_log_fp=os.path.join(settings['metadata_dir'], settings['gps_log_filename']),\n",
    ")"
   ]
  },
  {
   "cell_type": "code",
   "execution_count": 21,
   "id": "8d28480c-565a-4d9e-bbe0-96f28b5eb3b5",
   "metadata": {},
   "outputs": [],
   "source": [
    "# General metadata loading\n",
    "mm.prep()"
   ]
  },
  {
   "cell_type": "code",
   "execution_count": 22,
   "id": "bd792809-50e3-43fe-8d7f-608588699f90",
   "metadata": {},
   "outputs": [],
   "source": [
    "# Manually-georeferenced metadata\n",
    "_ = mm.flight.get_manually_georeferenced_filepaths(\n",
    "    settings['reffed_dir']\n",
    ")"
   ]
  },
  {
   "cell_type": "markdown",
   "id": "15246b5b-c667-441b-b0b0-0d905ea63d47",
   "metadata": {
    "tags": []
   },
   "source": [
    "# Train-test Split"
   ]
  },
  {
   "cell_type": "code",
   "execution_count": 23,
   "id": "d084b64d-98a6-4838-ba2c-13b029bb0159",
   "metadata": {},
   "outputs": [],
   "source": [
    "# Get data\n",
    "reffed = mm.flight.metadata[mm.flight.metadata['manually_referenced_fp'].notna()]"
   ]
  },
  {
   "cell_type": "code",
   "execution_count": 27,
   "id": "94c86f81-6482-49f1-b5df-5bfe4ea9e08d",
   "metadata": {},
   "outputs": [],
   "source": [
    "# Perform the split\n",
    "train_inds, test_inds = sklearn.model_selection.train_test_split(\n",
    "    reffed.index,\n",
    "    test_size=settings['test_size'],\n",
    ")\n",
    "reffed_train = reffed.loc[train_inds]\n",
    "reffed_test = reffed.loc[test_inds]"
   ]
  },
  {
   "cell_type": "markdown",
   "id": "2e60b9ee-6823-4f75-94d4-0ab2bf740c65",
   "metadata": {},
   "source": [
    "# Mapmake\n",
    "\n",
    "The process will be:\n",
    "1. Split the mosaick into tiles\n",
    "2. Mosaick all referenced images for a tile\n",
    "3. ???"
   ]
  },
  {
   "cell_type": "code",
   "execution_count": null,
   "id": "2b6d6f45-3148-4cdc-be26-af037f608dcf",
   "metadata": {},
   "outputs": [],
   "source": []
  },
  {
   "cell_type": "markdown",
   "id": "0ad5adac-d80c-4a21-874a-71055c516f6a",
   "metadata": {},
   "source": [
    "# Validate Map"
   ]
  },
  {
   "cell_type": "code",
   "execution_count": null,
   "id": "709e986c-c2be-4209-8ef0-b2c5d68b5d67",
   "metadata": {},
   "outputs": [],
   "source": []
  }
 ],
 "metadata": {
  "kernelspec": {
   "display_name": "Python 3 (ipykernel)",
   "language": "python",
   "name": "python3"
  },
  "language_info": {
   "codemirror_mode": {
    "name": "ipython",
    "version": 3
   },
   "file_extension": ".py",
   "mimetype": "text/x-python",
   "name": "python",
   "nbconvert_exporter": "python",
   "pygments_lexer": "ipython3",
   "version": "3.11.5"
  }
 },
 "nbformat": 4,
 "nbformat_minor": 5
}
